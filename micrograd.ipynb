{
 "cells": [
  {
   "metadata": {},
   "cell_type": "markdown",
   "source": [
    "### overview\n",
    "\n",
    "Neural networks are, in essence, logically sequenced mathematical expressions. They take the data and the initial weights as an input, and the outputs are the predictions (labels for unseen instances informed by past instances). Backpropagation, the optimization of weights through derivatives of the loss function with respect to each weight, relies only on arbitrary mathematical expressions, which are completely independent of neural networks. It is simply a machinery that happens to be highly effective in the training of neural networks."
   ],
   "id": "1873484ef1d340f8"
  },
  {
   "cell_type": "code",
   "id": "initial_id",
   "metadata": {
    "collapsed": true,
    "ExecuteTime": {
     "end_time": "2025-07-13T09:52:10.263554Z",
     "start_time": "2025-07-13T09:52:09.471654Z"
    }
   },
   "source": [
    "import math\n",
    "import numpy as np\n",
    "import matplotlib.pyplot as plt\n",
    "%matplotlib inline\n",
    "from graphviz import Digraph\n",
    "import random\n"
   ],
   "outputs": [],
   "execution_count": 1
  },
  {
   "metadata": {
    "ExecuteTime": {
     "end_time": "2025-07-13T09:52:10.297565Z",
     "start_time": "2025-07-13T09:52:10.291064Z"
    }
   },
   "cell_type": "code",
   "source": [
    "def f(x):\n",
    "    return 3*x**2 - 4*x + 5\n",
    "\n",
    "f(3.0)"
   ],
   "id": "20b23fc389b28615",
   "outputs": [
    {
     "data": {
      "text/plain": [
       "20.0"
      ]
     },
     "execution_count": 2,
     "metadata": {},
     "output_type": "execute_result"
    }
   ],
   "execution_count": 2
  },
  {
   "metadata": {
    "ExecuteTime": {
     "end_time": "2025-07-13T09:52:10.633618Z",
     "start_time": "2025-07-13T09:52:10.627436Z"
    }
   },
   "cell_type": "code",
   "source": [
    "results = {}\n",
    "x_s = np.arange(-5, 5, 0.25)\n",
    "for x in x_s:\n",
    "    results[x] = f(x)\n",
    "\n",
    "for (x, y) in results.items():\n",
    "    print('x: {x}, y: {y}'.format(x=x, y=y))"
   ],
   "id": "6e06214112c0d25",
   "outputs": [
    {
     "name": "stdout",
     "output_type": "stream",
     "text": [
      "x: -5.0, y: 100.0\n",
      "x: -4.75, y: 91.6875\n",
      "x: -4.5, y: 83.75\n",
      "x: -4.25, y: 76.1875\n",
      "x: -4.0, y: 69.0\n",
      "x: -3.75, y: 62.1875\n",
      "x: -3.5, y: 55.75\n",
      "x: -3.25, y: 49.6875\n",
      "x: -3.0, y: 44.0\n",
      "x: -2.75, y: 38.6875\n",
      "x: -2.5, y: 33.75\n",
      "x: -2.25, y: 29.1875\n",
      "x: -2.0, y: 25.0\n",
      "x: -1.75, y: 21.1875\n",
      "x: -1.5, y: 17.75\n",
      "x: -1.25, y: 14.6875\n",
      "x: -1.0, y: 12.0\n",
      "x: -0.75, y: 9.6875\n",
      "x: -0.5, y: 7.75\n",
      "x: -0.25, y: 6.1875\n",
      "x: 0.0, y: 5.0\n",
      "x: 0.25, y: 4.1875\n",
      "x: 0.5, y: 3.75\n",
      "x: 0.75, y: 3.6875\n",
      "x: 1.0, y: 4.0\n",
      "x: 1.25, y: 4.6875\n",
      "x: 1.5, y: 5.75\n",
      "x: 1.75, y: 7.1875\n",
      "x: 2.0, y: 9.0\n",
      "x: 2.25, y: 11.1875\n",
      "x: 2.5, y: 13.75\n",
      "x: 2.75, y: 16.6875\n",
      "x: 3.0, y: 20.0\n",
      "x: 3.25, y: 23.6875\n",
      "x: 3.5, y: 27.75\n",
      "x: 3.75, y: 32.1875\n",
      "x: 4.0, y: 37.0\n",
      "x: 4.25, y: 42.1875\n",
      "x: 4.5, y: 47.75\n",
      "x: 4.75, y: 53.6875\n"
     ]
    }
   ],
   "execution_count": 3
  },
  {
   "metadata": {
    "ExecuteTime": {
     "end_time": "2025-07-13T09:52:10.970757Z",
     "start_time": "2025-07-13T09:52:10.747989Z"
    }
   },
   "cell_type": "code",
   "source": [
    "plt.plot(x_s, results.values(), label='f(x)')\n",
    "plt.legend()"
   ],
   "id": "21b26e53a50c7ce",
   "outputs": [
    {
     "data": {
      "text/plain": [
       "<matplotlib.legend.Legend at 0x11526a990>"
      ]
     },
     "execution_count": 4,
     "metadata": {},
     "output_type": "execute_result"
    },
    {
     "data": {
      "text/plain": [
       "<Figure size 640x480 with 1 Axes>"
      ],
      "image/png": "[encoded data removed]"
     },
     "metadata": {},
     "output_type": "display_data"
    }
   ],
   "execution_count": 4
  },
  {
   "metadata": {
    "ExecuteTime": {
     "end_time": "2025-07-13T09:52:11.024326Z",
     "start_time": "2025-07-13T09:52:11.017766Z"
    }
   },
   "cell_type": "code",
   "source": [
    "def df(x):\n",
    "    return 6*x - 4\n",
    "\n",
    "h = 0.0001\n",
    "approx = (f(x_s + h) - f(x_s)) / h\n",
    "\n",
    "\n",
    "results_with_d = {}\n",
    "for i, x in enumerate(x_s):\n",
    "    results_with_d[x] = [f(x), df(x), approx[i]]\n",
    "\n",
    "for (x, y) in results_with_d.items():\n",
    "    print(\"x: {x}, [f(x), f'(x), f'(x) approx]: {y}\".format(x=x, y=y))"
   ],
   "id": "c29993b4803b60ed",
   "outputs": [
    {
     "name": "stdout",
     "output_type": "stream",
     "text": [
      "x: -5.0, [f(x), f'(x), f'(x) approx]: [100.0, -34.0, -33.99969999989594]\n",
      "x: -4.75, [f(x), f'(x), f'(x) approx]: [91.6875, -32.5, -32.49969999998825]\n",
      "x: -4.5, [f(x), f'(x), f'(x) approx]: [83.75, -31.0, -30.999699999938457]\n",
      "x: -4.25, [f(x), f'(x), f'(x) approx]: [76.1875, -29.5, -29.49970000003077]\n",
      "x: -4.0, [f(x), f'(x), f'(x) approx]: [69.0, -28.0, -27.999699999980976]\n",
      "x: -3.75, [f(x), f'(x), f'(x) approx]: [62.1875, -26.5, -26.499700000002235]\n",
      "x: -3.5, [f(x), f'(x), f'(x) approx]: [55.75, -25.0, -24.999700000023495]\n",
      "x: -3.25, [f(x), f'(x), f'(x) approx]: [49.6875, -23.5, -23.499700000044754]\n",
      "x: -3.0, [f(x), f'(x), f'(x) approx]: [44.0, -22.0, -21.999700000066014]\n",
      "x: -2.75, [f(x), f'(x), f'(x) approx]: [38.6875, -20.5, -20.49970000001622]\n",
      "x: -2.5, [f(x), f'(x), f'(x) approx]: [33.75, -19.0, -18.99970000003748]\n",
      "x: -2.25, [f(x), f'(x), f'(x) approx]: [29.1875, -17.5, -17.499700000058738]\n",
      "x: -2.0, [f(x), f'(x), f'(x) approx]: [25.0, -16.0, -15.999700000008943]\n",
      "x: -1.75, [f(x), f'(x), f'(x) approx]: [21.1875, -14.5, -14.499699999994675]\n",
      "x: -1.5, [f(x), f'(x), f'(x) approx]: [17.75, -13.0, -12.999699999980407]\n",
      "x: -1.25, [f(x), f'(x), f'(x) approx]: [14.6875, -11.5, -11.499700000001667]\n",
      "x: -1.0, [f(x), f'(x), f'(x) approx]: [12.0, -10.0, -9.9996999999874]\n",
      "x: -0.75, [f(x), f'(x), f'(x) approx]: [9.6875, -8.5, -8.499700000008659]\n",
      "x: -0.5, [f(x), f'(x), f'(x) approx]: [7.75, -7.0, -6.999699999994391]\n",
      "x: -0.25, [f(x), f'(x), f'(x) approx]: [6.1875, -5.5, -5.499699999997887]\n",
      "x: 0.0, [f(x), f'(x), f'(x) approx]: [5.0, -4.0, -3.9997000000013827]\n",
      "x: 0.25, [f(x), f'(x), f'(x) approx]: [4.1875, -2.5, -2.4997000000048786]\n",
      "x: 0.5, [f(x), f'(x), f'(x) approx]: [3.75, -1.0, -0.9996999999994927]\n",
      "x: 0.75, [f(x), f'(x), f'(x) approx]: [3.6875, 0.5, 0.5003000000014524]\n",
      "x: 1.0, [f(x), f'(x), f'(x) approx]: [4.0, 2.0, 2.0003000000023974]\n",
      "x: 1.25, [f(x), f'(x), f'(x) approx]: [4.6875, 3.5, 3.5002999999989015]\n",
      "x: 1.5, [f(x), f'(x), f'(x) approx]: [5.75, 5.0, 5.000300000004287]\n",
      "x: 1.75, [f(x), f'(x), f'(x) approx]: [7.1875, 6.5, 6.500300000000792]\n",
      "x: 2.0, [f(x), f'(x), f'(x) approx]: [9.0, 8.0, 8.000300000023941]\n",
      "x: 2.25, [f(x), f'(x), f'(x) approx]: [11.1875, 9.5, 9.500300000002682]\n",
      "x: 2.5, [f(x), f'(x), f'(x) approx]: [13.75, 11.0, 11.00030000001695]\n",
      "x: 2.75, [f(x), f'(x), f'(x) approx]: [16.6875, 12.5, 12.500300000013453]\n",
      "x: 3.0, [f(x), f'(x), f'(x) approx]: [20.0, 14.0, 14.000300000063248]\n",
      "x: 3.25, [f(x), f'(x), f'(x) approx]: [23.6875, 15.5, 15.500300000041989]\n",
      "x: 3.5, [f(x), f'(x), f'(x) approx]: [27.75, 17.0, 17.00030000002073]\n",
      "x: 3.75, [f(x), f'(x), f'(x) approx]: [32.1875, 18.5, 18.50029999999947]\n",
      "x: 4.0, [f(x), f'(x), f'(x) approx]: [37.0, 20.0, 20.00029999997821]\n",
      "x: 4.25, [f(x), f'(x), f'(x) approx]: [42.1875, 21.5, 21.50029999995695]\n",
      "x: 4.5, [f(x), f'(x), f'(x) approx]: [47.75, 23.0, 23.000300000006746]\n",
      "x: 4.75, [f(x), f'(x), f'(x) approx]: [53.6875, 24.5, 24.500299999914432]\n"
     ]
    }
   ],
   "execution_count": 5
  },
  {
   "metadata": {
    "ExecuteTime": {
     "end_time": "2025-07-13T09:52:11.330314Z",
     "start_time": "2025-07-13T09:52:11.098204Z"
    }
   },
   "cell_type": "code",
   "source": [
    "plt.plot(x_s, f(x_s), label='f(x)')\n",
    "plt.plot(x_s, df(x_s), label=\"f'(x)\")\n",
    "plt.legend()"
   ],
   "id": "535418386d8724f8",
   "outputs": [
    {
     "data": {
      "text/plain": [
       "<matplotlib.legend.Legend at 0x115810890>"
      ]
     },
     "execution_count": 6,
     "metadata": {},
     "output_type": "execute_result"
    },
    {
     "data": {
      "text/plain": [
       "<Figure size 640x480 with 1 Axes>"
      ],
      "image/png": "[encoded data removed]"
     },
     "metadata": {},
     "output_type": "display_data"
    }
   ],
   "execution_count": 6
  },
  {
   "metadata": {
    "ExecuteTime": {
     "end_time": "2025-07-13T09:52:11.371176Z",
     "start_time": "2025-07-13T09:52:11.363063Z"
    }
   },
   "cell_type": "code",
   "source": [
    "## a more complex examples, a function depending on many variables\n",
    "\n",
    "a = 2.0\n",
    "b = -3.0\n",
    "c = 10.0\n",
    "\n",
    "d = a*b + c\n",
    "\n",
    "#notice a*b is a negative number (since they are of opposite signs)\n",
    "\n",
    "def eval_expression(a: float, b: float, c: float):\n",
    "    return a*b + c\n",
    "\n",
    "def approx_derivative(func, wrt, h=0.0001, **kwargs):\n",
    "    inputs_h = kwargs.copy()\n",
    "    #perturb the spec. variable we are diffing with respect to\n",
    "    inputs_h[wrt] += h\n",
    "    base_val = func(**kwargs)\n",
    "    perturbed_val = func(**inputs_h)\n",
    "    derivative_val = (perturbed_val - base_val)/h\n",
    "    print(f'base_val: {base_val}, perturbed_val: {perturbed_val}, derivative_val: {derivative_val}')\n",
    "\n",
    "points = {'a': 2.0, 'b': -3.0, 'c': 10.0}\n",
    "derivative_wrt_a = approx_derivative(eval_expression, wrt='a', **points)\n",
    "derivative_wrt_b = approx_derivative(eval_expression, wrt='b', **points)\n",
    "derivative_wrt_c = approx_derivative(eval_expression, wrt='c', **points)"
   ],
   "id": "423aeb2a819db9c9",
   "outputs": [
    {
     "name": "stdout",
     "output_type": "stream",
     "text": [
      "base_val: 4.0, perturbed_val: 3.999699999999999, derivative_val: -3.000000000010772\n",
      "base_val: 4.0, perturbed_val: 4.0002, derivative_val: 2.0000000000042206\n",
      "base_val: 4.0, perturbed_val: 4.0001, derivative_val: 0.9999999999976694\n"
     ]
    }
   ],
   "execution_count": 7
  },
  {
   "metadata": {},
   "cell_type": "markdown",
   "source": [
    "The following is an implementation of the micrograd's `Value` class (the exact same logic as explained by Karpathy, but extended to some more of the endless mathematical expressions we can cover such as `__pow__`, `__truediv__`, `exp`, `log`, `cos`, `relu`, etc.). Another modification is the `_unbroadcast(grad, shape)` helper function, which aims to 'undo' Numpy's broadcasting when we propagate gradients back into operands that were broadcast up to a larger shape in the forward pass.\n",
    "\n",
    "```python\n",
    "a = np.array([1, 2, 3]) # shape (3, )\n",
    "b = np.array([[10], [20]]) # shape (2,1)\n",
    "c = a + b\n",
    "```\n",
    "When we do something like the above, both `a` and `b` are stretched to shape `(2, 3)` in order for the addition to work elementwise."
   ],
   "id": "b917286f4bdb2232"
  },
  {
   "metadata": {
    "ExecuteTime": {
     "end_time": "2025-07-13T09:52:11.467679Z",
     "start_time": "2025-07-13T09:52:11.461752Z"
    }
   },
   "cell_type": "code",
   "source": [
    "a = np.array([1, 2, 3])\n",
    "b = np.array([[10], [20]])\n",
    "c = a + b\n",
    "print(c.shape)\n",
    "print(c)"
   ],
   "id": "cbdc63654732a6a9",
   "outputs": [
    {
     "name": "stdout",
     "output_type": "stream",
     "text": [
      "(2, 3)\n",
      "[[11 12 13]\n",
      " [21 22 23]]\n"
     ]
    }
   ],
   "execution_count": 8
  },
  {
   "metadata": {},
   "cell_type": "markdown",
   "source": [
    "In backprop we compute `dc/d(a or b)` by taking `dL/dc` and multiplying it by the local derivative, yielding a gradient of shape `(2, 3)`. However, `a` itself has shape `(3,)`, and `b` shape `(2,1)`, so we need to sum the gradient over the dimensions that were expanded (or broadcasted) to get a correctly-shaped gradient for each original operand. so if\n",
    "\n",
    "$$\n",
    "c_{ij} = a_j + b_i\n",
    "$$\n",
    "then\n",
    "$$\n",
    "\\frac{\\partial L}{\\partial a_j} = \\sum_{i=0}^{1} \\frac{\\partial L}{\\partial c_{ij}}, \\space \\frac{\\partial L}{\\partial b_i} = \\sum_{j=0}^{2} \\frac{\\partial L}{\\partial c_{ij}}\n",
    "$$\n",
    "\n",
    "so the `_unbroadcast` method works by collapsing any extra dimensions that got prefixed during broadcast, and then collapsing any singleton dimensions that were used to broadcast a length-1 axis. It is a static method since we do not need any data at all from `self`.\n",
    "\n",
    "In other words, before we could only backpropagate through operations on perfectly-matched shapes, and manually detect which axes were broadcasted and sum them ourselves in every operator's backward pass. As we add more ops and higher-rank tensors, this would become a maintenance nightmare. We can now work with mini-batches of shape `(batch_size, features)`, convolutional patches of shape `(batch, channels, height, width)`, broadcasted biases, normalization layers, etc."
   ],
   "id": "9b4400097ec5838b"
  },
  {
   "metadata": {
    "ExecuteTime": {
     "end_time": "2025-07-13T09:52:11.601756Z",
     "start_time": "2025-07-13T09:52:11.553607Z"
    }
   },
   "cell_type": "code",
   "source": [
    "class Value:\n",
    "    \"\"\"\n",
    "    A scalar or tensor value with automatic differentiation.\n",
    "    Support broadcasting and gradient un-broadcasting.\n",
    "    \"\"\"\n",
    "    def __init__(self, data, _children=(), _op='', label=''):\n",
    "        self.data = np.array(data, dtype=np.float32) if not isinstance(data, Value) else data.data\n",
    "        self.grad = np.zeros_like(self.data, dtype=np.float32)\n",
    "        self._backward = lambda: None #placeholder\n",
    "        self._prev = set(_children)\n",
    "        self._op = _op # the operation that produced this node\n",
    "        self.label = label\n",
    "        self.shape = self.data.shape\n",
    "        self._topo_cache = None\n",
    "\n",
    "    # util for broadcasting gradients\n",
    "    @staticmethod\n",
    "    def _unbroadcast(grad, shape):\n",
    "        \"\"\"\n",
    "        undo numpy broadcasting by summing grad along axes where\n",
    "        the original shape introduced size-1 dimensions or extra\n",
    "        leading dimensions\n",
    "        \"\"\"\n",
    "        # sum out broadcasted dimensions\n",
    "        #remove extra dims\n",
    "        while grad.ndim > len(shape):\n",
    "            grad = grad.sum(axis=0)\n",
    "\n",
    "        #sum along dims where original shape == 1\n",
    "        for ax, s in enumerate(shape):\n",
    "            if s == 1:\n",
    "                grad = grad.sum(axis=ax, keepdims=True)\n",
    "        return grad\n",
    "\n",
    "    def __str__(self):\n",
    "        return f'Value(data={self.data})'\n",
    "\n",
    "    def __repr__(self):\n",
    "        return f'Value(data={self.data})'\n",
    "\n",
    "    # -- Binary operations -----------------------\n",
    "    def __add__(self, other):\n",
    "        other = other if isinstance(other, Value) else Value(other) #to support constants\n",
    "        out = Value(self.data + other.data, (self, other), '+')\n",
    "\n",
    "        def _backward():\n",
    "            self.grad += Value._unbroadcast(out.grad, self.shape) # chain rule: dL/dx = dL/dout * dout/dx =  out.grad * 1.0\n",
    "            other.grad += Value._unbroadcast(out.grad, other.shape) # chain rule: dL/dy = dL/dout * dout/dy = out.grad * 1.0\n",
    "        out._backward = _backward\n",
    "        return out\n",
    "\n",
    "    def __radd__(self, other):\n",
    "        return self + other\n",
    "\n",
    "    def __sub__(self, other):\n",
    "        other = other if isinstance(other, Value) else Value(other)\n",
    "        return self + (-other)\n",
    "\n",
    "    def __rsub__(self, other):\n",
    "        return self - other\n",
    "\n",
    "    def __mul__(self, other):\n",
    "        other = other if isinstance(other, Value) else Value(other)\n",
    "        out = Value(self.data * other.data, (self, other), '*')\n",
    "\n",
    "        def _backward():\n",
    "            self.grad += Value._unbroadcast(other.data * out.grad, self.shape)# Chain rule: dL/dx = dL/dout * dout/dx = out.grad * y\n",
    "            other.grad += Value._unbroadcast(self.data * out.grad, other.shape) #dL/dy = dL/dout * dout/dy = out.grad * x\n",
    "        out._backward = _backward\n",
    "        return out\n",
    "\n",
    "    def __rmul__(self, other):\n",
    "        return self*other\n",
    "\n",
    "    def __truediv__(self, other):\n",
    "        other = other if isinstance(other, Value) else Value(other)\n",
    "        return self * other**-1\n",
    "\n",
    "    def __rtruediv__(self, other):\n",
    "        return self/other\n",
    "\n",
    "    def __pow__(self, other):\n",
    "        if not isinstance(other, Value):\n",
    "            out = Value(self.data ** other, (self, ), f'**{other}')\n",
    "            def _backward():\n",
    "                self.grad += Value._unbroadcast(other * self.data ** (other-1) * out.grad, self.shape)\n",
    "            out._backward = _backward\n",
    "            return out\n",
    "\n",
    "        other = other if isinstance(other, Value) else Value(other)\n",
    "        out = Value(self.data ** other.data, (self, other), f'**{other.data}')\n",
    "\n",
    "        def _backward():\n",
    "            # derivative wrt x: y * x^(y-1)\n",
    "            self.grad += Value._unbroadcast(other.data * (self.data**(other.data-1)) * out.grad, self.shape)\n",
    "            # derivative wrt y: ln(x) * x^y\n",
    "            other.grad += Value._unbroadcast(np.log(self.data) * out.data * out.grad, other.shape)\n",
    "        out._backward = _backward\n",
    "        return out\n",
    "\n",
    "    def __neg__(self):\n",
    "        return self * -1\n",
    "\n",
    "    # matmul for tensor operations\n",
    "    def __matmul__(self, other):\n",
    "        other = other if isinstance(other, Value) else Value(other)\n",
    "        out = Value(self.data @ other.data, (self, other), '@')\n",
    "\n",
    "        def _backward():\n",
    "            # dL/dA = dL/dC @ B.T\n",
    "            self.grad += out.grad @ other.data.T\n",
    "            # dL/dB = A.T @ dL/dC\n",
    "            other.grad += self.data.T @ out.grad\n",
    "        out._backward = _backward\n",
    "        return out\n",
    "\n",
    "    def __rmatmul__(self, other):\n",
    "        return self @ other\n",
    "\n",
    "    # ---- Unary operations -----------------------------\n",
    "    def exp(self):\n",
    "        out = Value(np.exp(self.data), (self,), 'exp')\n",
    "        def _backward():\n",
    "            self.grad += out.data * out.grad\n",
    "        out._backward = _backward\n",
    "        return out\n",
    "\n",
    "    def log(self):\n",
    "        out = Value(np.log(self.data), (self,), 'log')\n",
    "        def _backward():\n",
    "            self.grad += (1 / self.data) * out.grad\n",
    "        out._backward = _backward\n",
    "        return out\n",
    "\n",
    "    def sin(self):\n",
    "        out = Value(np.sin(self.data), (self,), 'sin')\n",
    "        def _backward():\n",
    "            self.grad += np.cos(self.data) * out.grad\n",
    "        out._backward = _backward\n",
    "        return out\n",
    "\n",
    "    def cos(self):\n",
    "        out = Value(np.cos(self.data), (self,), 'cos')\n",
    "        def _backward():\n",
    "            self.grad += -np.sin(self.data) * out.grad\n",
    "        out._backward = _backward\n",
    "        return out\n",
    "\n",
    "    def tanh(self):\n",
    "        t = np.tanh(self.data)\n",
    "        out = Value(t, (self,), 'tanh')\n",
    "        def _backward():\n",
    "            self.grad += (1 - t**2) * out.grad\n",
    "        out._backward = _backward\n",
    "        return out\n",
    "\n",
    "    def relu(self):\n",
    "        out_data = np.maximum(0, self.data)\n",
    "        out = Value(out_data, (self,), 'relu')\n",
    "        def _backward():\n",
    "            self.grad += (out_data > 0) * out.grad\n",
    "        out._backward = _backward\n",
    "        return out\n",
    "\n",
    "    def softplus(self):\n",
    "        # softplus(x) = log(1+exp(x))\n",
    "        sp = np.log1p(np.exp(self.data))\n",
    "        out = Value(sp, (self,), 'softplus')\n",
    "        def _backward():\n",
    "            self.grad += (1 / (1 + np.exp(-self.data))) * out.grad\n",
    "        out._backward = _backward\n",
    "        return out\n",
    "\n",
    "    # Elementwise max/min\n",
    "    def maximum(self, other):\n",
    "        other = other if isinstance(other, Value) else Value(other)\n",
    "        out_data = np.maximum(self.data, other.data)\n",
    "        out = Value(out_data, (self, other), 'max')\n",
    "        def _backward():\n",
    "            mask_self = (self.data >= other.data)\n",
    "            mask_other = ~mask_self\n",
    "            self.grad += mask_self * out.grad\n",
    "            other.grad += mask_other * out.grad\n",
    "        out._backward = _backward\n",
    "        return out\n",
    "\n",
    "    def minimum(self, other):\n",
    "        other = other if isinstance(other, Value) else Value(other)\n",
    "        out_data = np.minimum(self.data, other.data)\n",
    "        out = Value(out_data, (self, other), 'min')\n",
    "        def _backward():\n",
    "            mask_self = (self.data <= other.data)\n",
    "            mask_other = ~mask_self\n",
    "            self.grad += mask_self * out.grad\n",
    "            other.grad += mask_other * out.grad\n",
    "        out._backward = _backward\n",
    "        return out\n",
    "\n",
    "    # --- Tensor manipulation ------------\n",
    "\n",
    "    def sum(self, axis=None, keepdims=False):\n",
    "        out_data = self.data.sum(axis=axis, keepdims=keepdims)\n",
    "        out = Value(out_data, (self,), 'sum')\n",
    "\n",
    "        def _backward():\n",
    "            # the gradient is just broadcasted to the original shape\n",
    "            self.grad += np.broadcast_to(out.grad, self.shape)\n",
    "        out._backward = _backward\n",
    "        return out\n",
    "\n",
    "    def reshape(self, new_shape):\n",
    "        out = Value(self.data.reshape(new_shape), (self,), 'reshape')\n",
    "\n",
    "        def _backward():\n",
    "            # gradient is just reshaped back to the original shape\n",
    "            self.grad += out.grad.reshape(self.shape)\n",
    "        out._backward = _backward\n",
    "        return out\n",
    "\n",
    "    def transpose(self, axes=None):\n",
    "        out = Value(self.data.transpose(axes, ()), 'transpose')\n",
    "\n",
    "        def _backward():\n",
    "            if axes is None:\n",
    "                self.grad += out.grad.transpose()\n",
    "            else:\n",
    "                self.grad += out.grad.transpose(np.argsort(axes))\n",
    "        out._backward = _backward\n",
    "        return out\n",
    "\n",
    "    # --- Graph utils --------------------------\n",
    "\n",
    "    def _build_topo(self, visited=None, topo=None):\n",
    "        if visited is None: visited = set()\n",
    "        if topo is None: topo = []\n",
    "        if self not in visited:\n",
    "            visited.add(self)\n",
    "            for child in self._prev:\n",
    "                child._build_topo(visited, topo)\n",
    "            topo.append(self)\n",
    "        return topo\n",
    "\n",
    "    def backward(self, retain_graph=False):\n",
    "        \"\"\"\n",
    "        backprop gradients from this node to all dependencies.\n",
    "        clear_graph clears _prev and _backward of all nodes, just\n",
    "        to free up memory.\n",
    "        \"\"\"\n",
    "        # build/reuse topological order\n",
    "        if self._topo_cache is None:\n",
    "            self._topo_cache = self._build_topo()\n",
    "\n",
    "        # the zeroing of gradients is now handled separately\n",
    "        self.grad = np.ones_like(self.data, dtype=np.float32)\n",
    "        # backprop\n",
    "        for node in reversed(self._topo_cache):\n",
    "            node._backward()\n",
    "\n",
    "        # optionally clear graph references\n",
    "        if not retain_graph:\n",
    "            for node in self._topo_cache:\n",
    "                node._prev = set()\n",
    "                node._backward = lambda : None\n",
    "            self._topo_cache = None\n",
    "\n",
    "# -- Gradient-checking utility, following the definition of a derivative ------\n",
    "def gradient_check(func, inputs, eps=1-6, tol=1e-3):\n",
    "    \"\"\"\n",
    "    to numerically verify gradients via a centered difference\n",
    "    :param func: function mapping named Value inputs into a single Value output.\n",
    "    :param inputs: dict of name -> Value instances.\n",
    "    :param eps: perturbation magnitude (h)\n",
    "    :param tol: tolerance for comparison\n",
    "    :return: (analytical_grads, numeric_grads_), with pass/fail per input\n",
    "    \"\"\"\n",
    "    output = func(**inputs)\n",
    "    output.backward(clear_graph=True)\n",
    "    analytical = {name: inp.grad.copy() for name, inp in inputs.items()}\n",
    "\n",
    "    # compute numeric gradients\n",
    "    numeric = {}\n",
    "    for name, inp in inputs.items():\n",
    "        orig = inp.data.copy()\n",
    "        inp.data = orig + eps\n",
    "        f_plus = func(**inputs).data\n",
    "        inp.data = orig-eps\n",
    "        f_minus = func(**inputs).data\n",
    "        inp.data = orig\n",
    "        numeric[name] = (f_plus - f_minus) / (2*eps)\n",
    "\n",
    "    # compare\n",
    "    for name in inputs:\n",
    "        a, n = analytical[name], numeric[name]\n",
    "        if not np.allclose(a, n, atol=tol):\n",
    "            print(f'[FAIL] {name}: analytic={a}, numeric={n}')\n",
    "        else:\n",
    "            print(f'[PASS] {name}: analytic={a}, numeric={n}')\n",
    "    return analytical, numeric\n",
    "\n",
    "\n",
    "points = {'a': Value(2.0), 'b': Value(-3.0), 'c': Value(10.0)}\n",
    "\n",
    "def track_children(func,wrt,h:Value,**kwargs):\n",
    "    inputs_h = kwargs.copy()\n",
    "    #perturb the spec. variable we are diffing with respect to\n",
    "    inputs_h[wrt] += h\n",
    "    base_val = func(**kwargs)\n",
    "    perturbed_val = func(**inputs_h)\n",
    "    derivative_val = (perturbed_val - base_val)/h\n",
    "    return base_val, perturbed_val, derivative_val\n",
    "\n",
    "base_val, perturbed_val_a, derivative_a = track_children(eval_expression, wrt='a', h=Value(0.0001), **points)\n",
    "\n",
    "\n"
   ],
   "id": "7a6cba6ae9cca336",
   "outputs": [],
   "execution_count": 9
  },
  {
   "metadata": {
    "ExecuteTime": {
     "end_time": "2025-07-13T09:52:12.074401Z",
     "start_time": "2025-07-13T09:52:11.666833Z"
    }
   },
   "cell_type": "code",
   "source": [
    "def trace(root):\n",
    "    nodes, edges = set(), set()\n",
    "    def build(v):\n",
    "        if v not in nodes:\n",
    "            nodes.add(v)\n",
    "            for child in v._prev:\n",
    "                edges.add((child, v))\n",
    "                build(child)\n",
    "    build(root)\n",
    "    return nodes, edges\n",
    "\n",
    "def draw_dot(root, format='svg', rankdir='LR'):\n",
    "    \"\"\"\n",
    "    modified to handle both scalars and tensors\n",
    "    \"\"\"\n",
    "    dot = Digraph(format=format, graph_attr={'rankdir': rankdir})\n",
    "    nodes, edges = trace(root)\n",
    "    for node in nodes:\n",
    "        uid = str(id(node))\n",
    "        if node.data.size == 1:\n",
    "            label_text = \"{ %s | data %.4f | grad %.4f }\" % (node.label, node.data, node.grad)\n",
    "        else:\n",
    "            label_text = \"{ %s | data %s | grad mean: %.4f}\" % (node.label or '', str(node.data.shape), np.mean(node.grad))\n",
    "\n",
    "        dot.node(name=uid, label=label_text, shape='record')\n",
    "\n",
    "        if node._op:\n",
    "            dot.node(name=uid + node._op, label=node._op)\n",
    "            dot.edge(uid + node._op, uid)\n",
    "\n",
    "    for n1, n2 in edges:\n",
    "        dot.edge(str(id(n1)), str(id(n2)) + n2._op)\n",
    "\n",
    "    return dot\n",
    "\n",
    "a = Value(2.0, label='a')\n",
    "b = Value(-3.0, label='b')\n",
    "c = Value(10.0, label='c')\n",
    "d = a*b; d.label = 'd'\n",
    "e = d+c; e.label = 'e'\n",
    "f = Value(-2.0, label='f')\n",
    "\n",
    "L =  e * f; L.label = 'L'\n",
    "\n",
    "print(e)\n",
    "draw_dot(L)"
   ],
   "id": "7aca753969a52fbd",
   "outputs": [
    {
     "name": "stdout",
     "output_type": "stream",
     "text": [
      "Value(data=4.0)\n"
     ]
    },
    {
     "data": {
      "image/svg+xml": "<?xml version=\"1.0\" encoding=\"UTF-8\" standalone=\"no\"?>\n<!DOCTYPE svg PUBLIC \"-//W3C//DTD SVG 1.1//EN\"\n \"http://www.w3.org/Graphics/SVG/1.1/DTD/svg11.dtd\">\n<!-- Generated by graphviz version 12.2.1 (20241206.2353)\n -->\n<!-- Pages: 1 -->\n<svg width=\"1140pt\" height=\"128pt\"\n viewBox=\"0.00 0.00 1139.75 128.00\" xmlns=\"http://www.w3.org/2000/svg\" xmlns:xlink=\"http://www.w3.org/1999/xlink\">\n<g id=\"graph0\" class=\"graph\" transform=\"scale(1 1) rotate(0) translate(4 124)\">\n<polygon fill=\"white\" stroke=\"none\" points=\"-4,4 -4,-124 1135.75,-124 1135.75,4 -4,4\"/>\n<!-- 4656145936 -->\n<g id=\"node1\" class=\"node\">\n<title>4656145936</title>\n<polygon fill=\"none\" stroke=\"black\" points=\"314.25,-83.5 314.25,-119.5 504,-119.5 504,-83.5 314.25,-83.5\"/>\n<text text-anchor=\"middle\" x=\"325.25\" y=\"-96.7\" font-family=\"Times,serif\" font-size=\"14.00\">c</text>\n<polyline fill=\"none\" stroke=\"black\" points=\"336.25,-84 336.25,-119.5\"/>\n<text text-anchor=\"middle\" x=\"379.5\" y=\"-96.7\" font-family=\"Times,serif\" font-size=\"14.00\">data 10.0000</text>\n<polyline fill=\"none\" stroke=\"black\" points=\"422.75,-84 422.75,-119.5\"/>\n<text text-anchor=\"middle\" x=\"463.38\" y=\"-96.7\" font-family=\"Times,serif\" font-size=\"14.00\">grad 0.0000</text>\n</g>\n<!-- 4656143248+ -->\n<g id=\"node10\" class=\"node\">\n<title>4656143248+</title>\n<ellipse fill=\"none\" stroke=\"black\" cx=\"567\" cy=\"-73.5\" rx=\"27\" ry=\"18\"/>\n<text text-anchor=\"middle\" x=\"567\" y=\"-68.45\" font-family=\"Times,serif\" font-size=\"14.00\">+</text>\n</g>\n<!-- 4656145936&#45;&gt;4656143248+ -->\n<g id=\"edge6\" class=\"edge\">\n<title>4656145936&#45;&gt;4656143248+</title>\n<path fill=\"none\" stroke=\"black\" d=\"M504.39,-84.57C513.16,-82.99 521.65,-81.47 529.37,-80.08\"/>\n<polygon fill=\"black\" stroke=\"black\" points=\"529.73,-83.57 538.95,-78.36 528.49,-76.68 529.73,-83.57\"/>\n</g>\n<!-- 4652421712 -->\n<g id=\"node2\" class=\"node\">\n<title>4652421712</title>\n<polygon fill=\"none\" stroke=\"black\" points=\"315,-28.5 315,-64.5 503.25,-64.5 503.25,-28.5 315,-28.5\"/>\n<text text-anchor=\"middle\" x=\"326.38\" y=\"-41.7\" font-family=\"Times,serif\" font-size=\"14.00\">d</text>\n<polyline fill=\"none\" stroke=\"black\" points=\"337.75,-29 337.75,-64.5\"/>\n<text text-anchor=\"middle\" x=\"379.88\" y=\"-41.7\" font-family=\"Times,serif\" font-size=\"14.00\">data &#45;6.0000</text>\n<polyline fill=\"none\" stroke=\"black\" points=\"422,-29 422,-64.5\"/>\n<text text-anchor=\"middle\" x=\"462.62\" y=\"-41.7\" font-family=\"Times,serif\" font-size=\"14.00\">grad 0.0000</text>\n</g>\n<!-- 4652421712&#45;&gt;4656143248+ -->\n<g id=\"edge5\" class=\"edge\">\n<title>4652421712&#45;&gt;4656143248+</title>\n<path fill=\"none\" stroke=\"black\" d=\"M503.5,-62.67C512.45,-64.22 521.13,-65.73 529.02,-67.09\"/>\n<polygon fill=\"black\" stroke=\"black\" points=\"528.38,-70.54 538.83,-68.79 529.58,-63.64 528.38,-70.54\"/>\n</g>\n<!-- 4652421712* -->\n<g id=\"node3\" class=\"node\">\n<title>4652421712*</title>\n<ellipse fill=\"none\" stroke=\"black\" cx=\"251.25\" cy=\"-46.5\" rx=\"27\" ry=\"18\"/>\n<text text-anchor=\"middle\" x=\"251.25\" y=\"-41.45\" font-family=\"Times,serif\" font-size=\"14.00\">*</text>\n</g>\n<!-- 4652421712*&#45;&gt;4652421712 -->\n<g id=\"edge1\" class=\"edge\">\n<title>4652421712*&#45;&gt;4652421712</title>\n<path fill=\"none\" stroke=\"black\" d=\"M278.69,-46.5C285.96,-46.5 294.31,-46.5 303.19,-46.5\"/>\n<polygon fill=\"black\" stroke=\"black\" points=\"303.17,-50 313.17,-46.5 303.17,-43 303.17,-50\"/>\n</g>\n<!-- 4656150672 -->\n<g id=\"node4\" class=\"node\">\n<title>4656150672</title>\n<polygon fill=\"none\" stroke=\"black\" points=\"630,-0.5 630,-36.5 816,-36.5 816,-0.5 630,-0.5\"/>\n<text text-anchor=\"middle\" x=\"640.25\" y=\"-13.7\" font-family=\"Times,serif\" font-size=\"14.00\">f</text>\n<polyline fill=\"none\" stroke=\"black\" points=\"650.5,-1 650.5,-36.5\"/>\n<text text-anchor=\"middle\" x=\"692.62\" y=\"-13.7\" font-family=\"Times,serif\" font-size=\"14.00\">data &#45;2.0000</text>\n<polyline fill=\"none\" stroke=\"black\" points=\"734.75,-1 734.75,-36.5\"/>\n<text text-anchor=\"middle\" x=\"775.38\" y=\"-13.7\" font-family=\"Times,serif\" font-size=\"14.00\">grad 0.0000</text>\n</g>\n<!-- 4652944144* -->\n<g id=\"node8\" class=\"node\">\n<title>4652944144*</title>\n<ellipse fill=\"none\" stroke=\"black\" cx=\"879\" cy=\"-45.5\" rx=\"27\" ry=\"18\"/>\n<text text-anchor=\"middle\" x=\"879\" y=\"-40.45\" font-family=\"Times,serif\" font-size=\"14.00\">*</text>\n</g>\n<!-- 4656150672&#45;&gt;4652944144* -->\n<g id=\"edge8\" class=\"edge\">\n<title>4656150672&#45;&gt;4652944144*</title>\n<path fill=\"none\" stroke=\"black\" d=\"M816.25,-34.67C825.01,-36.21 833.5,-37.7 841.24,-39.05\"/>\n<polygon fill=\"black\" stroke=\"black\" points=\"840.39,-42.46 850.84,-40.74 841.6,-35.56 840.39,-42.46\"/>\n</g>\n<!-- 4655657680 -->\n<g id=\"node5\" class=\"node\">\n<title>4655657680</title>\n<polygon fill=\"none\" stroke=\"black\" points=\"0,-56.5 0,-92.5 188.25,-92.5 188.25,-56.5 0,-56.5\"/>\n<text text-anchor=\"middle\" x=\"11.38\" y=\"-69.7\" font-family=\"Times,serif\" font-size=\"14.00\">b</text>\n<polyline fill=\"none\" stroke=\"black\" points=\"22.75,-57 22.75,-92.5\"/>\n<text text-anchor=\"middle\" x=\"64.88\" y=\"-69.7\" font-family=\"Times,serif\" font-size=\"14.00\">data &#45;3.0000</text>\n<polyline fill=\"none\" stroke=\"black\" points=\"107,-57 107,-92.5\"/>\n<text text-anchor=\"middle\" x=\"147.62\" y=\"-69.7\" font-family=\"Times,serif\" font-size=\"14.00\">grad 0.0000</text>\n</g>\n<!-- 4655657680&#45;&gt;4652421712* -->\n<g id=\"edge4\" class=\"edge\">\n<title>4655657680&#45;&gt;4652421712*</title>\n<path fill=\"none\" stroke=\"black\" d=\"M188.49,-57.65C197.36,-56.05 205.93,-54.5 213.73,-53.09\"/>\n<polygon fill=\"black\" stroke=\"black\" points=\"214.2,-56.56 223.42,-51.34 212.95,-49.68 214.2,-56.56\"/>\n</g>\n<!-- 4655929104 -->\n<g id=\"node6\" class=\"node\">\n<title>4655929104</title>\n<polygon fill=\"none\" stroke=\"black\" points=\"2.62,-1.5 2.62,-37.5 185.62,-37.5 185.62,-1.5 2.62,-1.5\"/>\n<text text-anchor=\"middle\" x=\"13.62\" y=\"-14.7\" font-family=\"Times,serif\" font-size=\"14.00\">a</text>\n<polyline fill=\"none\" stroke=\"black\" points=\"24.62,-2 24.62,-37.5\"/>\n<text text-anchor=\"middle\" x=\"64.5\" y=\"-14.7\" font-family=\"Times,serif\" font-size=\"14.00\">data 2.0000</text>\n<polyline fill=\"none\" stroke=\"black\" points=\"104.38,-2 104.38,-37.5\"/>\n<text text-anchor=\"middle\" x=\"145\" y=\"-14.7\" font-family=\"Times,serif\" font-size=\"14.00\">grad 0.0000</text>\n</g>\n<!-- 4655929104&#45;&gt;4652421712* -->\n<g id=\"edge7\" class=\"edge\">\n<title>4655929104&#45;&gt;4652421712*</title>\n<path fill=\"none\" stroke=\"black\" d=\"M185.81,-35.28C195.45,-36.96 204.82,-38.59 213.29,-40.07\"/>\n<polygon fill=\"black\" stroke=\"black\" points=\"212.65,-43.51 223.1,-41.77 213.85,-36.61 212.65,-43.51\"/>\n</g>\n<!-- 4652944144 -->\n<g id=\"node7\" class=\"node\">\n<title>4652944144</title>\n<polygon fill=\"none\" stroke=\"black\" points=\"942,-27.5 942,-63.5 1131.75,-63.5 1131.75,-27.5 942,-27.5\"/>\n<text text-anchor=\"middle\" x=\"954.12\" y=\"-40.7\" font-family=\"Times,serif\" font-size=\"14.00\">L</text>\n<polyline fill=\"none\" stroke=\"black\" points=\"966.25,-28 966.25,-63.5\"/>\n<text text-anchor=\"middle\" x=\"1008.38\" y=\"-40.7\" font-family=\"Times,serif\" font-size=\"14.00\">data &#45;8.0000</text>\n<polyline fill=\"none\" stroke=\"black\" points=\"1050.5,-28 1050.5,-63.5\"/>\n<text text-anchor=\"middle\" x=\"1091.12\" y=\"-40.7\" font-family=\"Times,serif\" font-size=\"14.00\">grad 0.0000</text>\n</g>\n<!-- 4652944144*&#45;&gt;4652944144 -->\n<g id=\"edge2\" class=\"edge\">\n<title>4652944144*&#45;&gt;4652944144</title>\n<path fill=\"none\" stroke=\"black\" d=\"M906.44,-45.5C913.59,-45.5 921.78,-45.5 930.49,-45.5\"/>\n<polygon fill=\"black\" stroke=\"black\" points=\"930.26,-49 940.26,-45.5 930.26,-42 930.26,-49\"/>\n</g>\n<!-- 4656143248 -->\n<g id=\"node9\" class=\"node\">\n<title>4656143248</title>\n<polygon fill=\"none\" stroke=\"black\" points=\"631.5,-55.5 631.5,-91.5 814.5,-91.5 814.5,-55.5 631.5,-55.5\"/>\n<text text-anchor=\"middle\" x=\"642.5\" y=\"-68.7\" font-family=\"Times,serif\" font-size=\"14.00\">e</text>\n<polyline fill=\"none\" stroke=\"black\" points=\"653.5,-56 653.5,-91.5\"/>\n<text text-anchor=\"middle\" x=\"693.38\" y=\"-68.7\" font-family=\"Times,serif\" font-size=\"14.00\">data 4.0000</text>\n<polyline fill=\"none\" stroke=\"black\" points=\"733.25,-56 733.25,-91.5\"/>\n<text text-anchor=\"middle\" x=\"773.88\" y=\"-68.7\" font-family=\"Times,serif\" font-size=\"14.00\">grad 0.0000</text>\n</g>\n<!-- 4656143248&#45;&gt;4652944144* -->\n<g id=\"edge9\" class=\"edge\">\n<title>4656143248&#45;&gt;4652944144*</title>\n<path fill=\"none\" stroke=\"black\" d=\"M814.92,-56.97C824.19,-55.28 833.19,-53.65 841.35,-52.16\"/>\n<polygon fill=\"black\" stroke=\"black\" points=\"841.92,-55.62 851.14,-50.38 840.67,-48.73 841.92,-55.62\"/>\n</g>\n<!-- 4656143248+&#45;&gt;4656143248 -->\n<g id=\"edge3\" class=\"edge\">\n<title>4656143248+&#45;&gt;4656143248</title>\n<path fill=\"none\" stroke=\"black\" d=\"M594.47,-73.5C601.93,-73.5 610.52,-73.5 619.65,-73.5\"/>\n<polygon fill=\"black\" stroke=\"black\" points=\"619.49,-77 629.49,-73.5 619.49,-70 619.49,-77\"/>\n</g>\n</g>\n</svg>\n",
      "text/plain": [
       "<graphviz.graphs.Digraph at 0x1155655d0>"
      ]
     },
     "execution_count": 10,
     "metadata": {},
     "output_type": "execute_result"
    }
   ],
   "execution_count": 10
  },
  {
   "metadata": {
    "ExecuteTime": {
     "end_time": "2025-07-13T09:52:12.110852Z",
     "start_time": "2025-07-13T09:52:12.099861Z"
    }
   },
   "cell_type": "code",
   "source": [
    "L.grad = 1.0\n",
    "\n",
    "def lol():\n",
    "    h = Value(0.00001)\n",
    "    a = Value(2.0, label='a')\n",
    "    b = Value(-3.0, label='b')\n",
    "    c = Value(10.0, label='c')\n",
    "    d = a*b; d.label = 'd'\n",
    "    e = d+c; e.label = 'e'\n",
    "    f = Value(-2.0, label='f')\n",
    "\n",
    "    L1 =  e * f; L1.label = 'L'\n",
    "\n",
    "    a = Value(2.0, label='a')\n",
    "    b = Value(-3.0, label='b')\n",
    "    c = Value(10.0, label='c')\n",
    "    d = a*(b+h); d.label = 'd'\n",
    "    e = d+c; e.label = 'e'\n",
    "    f = Value(-2.0, label='f')\n",
    "\n",
    "    L2 =  e * f; L.label = 'L'\n",
    "\n",
    "\n",
    "    print((L2 - L)/h)\n",
    "\n",
    "lol()\n",
    "\n",
    "\n"
   ],
   "id": "6269205c5fa2a8cc",
   "outputs": [
    {
     "name": "stdout",
     "output_type": "stream",
     "text": [
      "Value(data=-4.00543212890625)\n"
     ]
    }
   ],
   "execution_count": 11
  },
  {
   "metadata": {},
   "cell_type": "markdown",
   "source": [
    "For $f$:\n",
    "\n",
    "$$\n",
    "L = e * f \\rightarrow \\frac{\\partial L}{\\partial f} = e\n",
    "$$\n",
    "\n",
    "Since (e * (f+h))-(e * f)/h = (((e * f) + (e * h))-(e*f))/h = (e * h)/h = e * 1 = e\n",
    "\n",
    "Symmetrically, for $e$:\n",
    "\n",
    "$$\n",
    "L = e * f \\rightarrow \\frac{\\partial L}{\\partial e} = f\n",
    "$$\n"
   ],
   "id": "87395c4c4fe1e7c1"
  },
  {
   "metadata": {
    "ExecuteTime": {
     "end_time": "2025-07-13T09:52:12.326285Z",
     "start_time": "2025-07-13T09:52:12.157651Z"
    }
   },
   "cell_type": "code",
   "source": [
    "e.grad = f.data\n",
    "f.grad = e.data\n",
    "\n",
    "draw_dot(L)\n"
   ],
   "id": "43f0d6f644d73e6d",
   "outputs": [
    {
     "data": {
      "image/svg+xml": "<?xml version=\"1.0\" encoding=\"UTF-8\" standalone=\"no\"?>\n<!DOCTYPE svg PUBLIC \"-//W3C//DTD SVG 1.1//EN\"\n \"http://www.w3.org/Graphics/SVG/1.1/DTD/svg11.dtd\">\n<!-- Generated by graphviz version 12.2.1 (20241206.2353)\n -->\n<!-- Pages: 1 -->\n<svg width=\"1141pt\" height=\"128pt\"\n viewBox=\"0.00 0.00 1141.25 128.00\" xmlns=\"http://www.w3.org/2000/svg\" xmlns:xlink=\"http://www.w3.org/1999/xlink\">\n<g id=\"graph0\" class=\"graph\" transform=\"scale(1 1) rotate(0) translate(4 124)\">\n<polygon fill=\"white\" stroke=\"none\" points=\"-4,4 -4,-124 1137.25,-124 1137.25,4 -4,4\"/>\n<!-- 4656145936 -->\n<g id=\"node1\" class=\"node\">\n<title>4656145936</title>\n<polygon fill=\"none\" stroke=\"black\" points=\"314.25,-83.5 314.25,-119.5 504,-119.5 504,-83.5 314.25,-83.5\"/>\n<text text-anchor=\"middle\" x=\"325.25\" y=\"-96.7\" font-family=\"Times,serif\" font-size=\"14.00\">c</text>\n<polyline fill=\"none\" stroke=\"black\" points=\"336.25,-84 336.25,-119.5\"/>\n<text text-anchor=\"middle\" x=\"379.5\" y=\"-96.7\" font-family=\"Times,serif\" font-size=\"14.00\">data 10.0000</text>\n<polyline fill=\"none\" stroke=\"black\" points=\"422.75,-84 422.75,-119.5\"/>\n<text text-anchor=\"middle\" x=\"463.38\" y=\"-96.7\" font-family=\"Times,serif\" font-size=\"14.00\">grad 0.0000</text>\n</g>\n<!-- 4656143248+ -->\n<g id=\"node10\" class=\"node\">\n<title>4656143248+</title>\n<ellipse fill=\"none\" stroke=\"black\" cx=\"567\" cy=\"-73.5\" rx=\"27\" ry=\"18\"/>\n<text text-anchor=\"middle\" x=\"567\" y=\"-68.45\" font-family=\"Times,serif\" font-size=\"14.00\">+</text>\n</g>\n<!-- 4656145936&#45;&gt;4656143248+ -->\n<g id=\"edge6\" class=\"edge\">\n<title>4656145936&#45;&gt;4656143248+</title>\n<path fill=\"none\" stroke=\"black\" d=\"M504.39,-84.57C513.16,-82.99 521.65,-81.47 529.37,-80.08\"/>\n<polygon fill=\"black\" stroke=\"black\" points=\"529.73,-83.57 538.95,-78.36 528.49,-76.68 529.73,-83.57\"/>\n</g>\n<!-- 4652421712 -->\n<g id=\"node2\" class=\"node\">\n<title>4652421712</title>\n<polygon fill=\"none\" stroke=\"black\" points=\"315,-28.5 315,-64.5 503.25,-64.5 503.25,-28.5 315,-28.5\"/>\n<text text-anchor=\"middle\" x=\"326.38\" y=\"-41.7\" font-family=\"Times,serif\" font-size=\"14.00\">d</text>\n<polyline fill=\"none\" stroke=\"black\" points=\"337.75,-29 337.75,-64.5\"/>\n<text text-anchor=\"middle\" x=\"379.88\" y=\"-41.7\" font-family=\"Times,serif\" font-size=\"14.00\">data &#45;6.0000</text>\n<polyline fill=\"none\" stroke=\"black\" points=\"422,-29 422,-64.5\"/>\n<text text-anchor=\"middle\" x=\"462.62\" y=\"-41.7\" font-family=\"Times,serif\" font-size=\"14.00\">grad 0.0000</text>\n</g>\n<!-- 4652421712&#45;&gt;4656143248+ -->\n<g id=\"edge5\" class=\"edge\">\n<title>4652421712&#45;&gt;4656143248+</title>\n<path fill=\"none\" stroke=\"black\" d=\"M503.5,-62.67C512.45,-64.22 521.13,-65.73 529.02,-67.09\"/>\n<polygon fill=\"black\" stroke=\"black\" points=\"528.38,-70.54 538.83,-68.79 529.58,-63.64 528.38,-70.54\"/>\n</g>\n<!-- 4652421712* -->\n<g id=\"node3\" class=\"node\">\n<title>4652421712*</title>\n<ellipse fill=\"none\" stroke=\"black\" cx=\"251.25\" cy=\"-46.5\" rx=\"27\" ry=\"18\"/>\n<text text-anchor=\"middle\" x=\"251.25\" y=\"-41.45\" font-family=\"Times,serif\" font-size=\"14.00\">*</text>\n</g>\n<!-- 4652421712*&#45;&gt;4652421712 -->\n<g id=\"edge1\" class=\"edge\">\n<title>4652421712*&#45;&gt;4652421712</title>\n<path fill=\"none\" stroke=\"black\" d=\"M278.69,-46.5C285.96,-46.5 294.31,-46.5 303.19,-46.5\"/>\n<polygon fill=\"black\" stroke=\"black\" points=\"303.17,-50 313.17,-46.5 303.17,-43 303.17,-50\"/>\n</g>\n<!-- 4656150672 -->\n<g id=\"node4\" class=\"node\">\n<title>4656150672</title>\n<polygon fill=\"none\" stroke=\"black\" points=\"630.75,-0.5 630.75,-36.5 816.75,-36.5 816.75,-0.5 630.75,-0.5\"/>\n<text text-anchor=\"middle\" x=\"641\" y=\"-13.7\" font-family=\"Times,serif\" font-size=\"14.00\">f</text>\n<polyline fill=\"none\" stroke=\"black\" points=\"651.25,-1 651.25,-36.5\"/>\n<text text-anchor=\"middle\" x=\"693.38\" y=\"-13.7\" font-family=\"Times,serif\" font-size=\"14.00\">data &#45;2.0000</text>\n<polyline fill=\"none\" stroke=\"black\" points=\"735.5,-1 735.5,-36.5\"/>\n<text text-anchor=\"middle\" x=\"776.12\" y=\"-13.7\" font-family=\"Times,serif\" font-size=\"14.00\">grad 4.0000</text>\n</g>\n<!-- 4652944144* -->\n<g id=\"node8\" class=\"node\">\n<title>4652944144*</title>\n<ellipse fill=\"none\" stroke=\"black\" cx=\"880.5\" cy=\"-45.5\" rx=\"27\" ry=\"18\"/>\n<text text-anchor=\"middle\" x=\"880.5\" y=\"-40.45\" font-family=\"Times,serif\" font-size=\"14.00\">*</text>\n</g>\n<!-- 4656150672&#45;&gt;4652944144* -->\n<g id=\"edge8\" class=\"edge\">\n<title>4656150672&#45;&gt;4652944144*</title>\n<path fill=\"none\" stroke=\"black\" d=\"M817,-34.6C826.14,-36.19 834.98,-37.73 843,-39.13\"/>\n<polygon fill=\"black\" stroke=\"black\" points=\"842.16,-42.54 852.62,-40.81 843.37,-35.64 842.16,-42.54\"/>\n</g>\n<!-- 4655657680 -->\n<g id=\"node5\" class=\"node\">\n<title>4655657680</title>\n<polygon fill=\"none\" stroke=\"black\" points=\"0,-56.5 0,-92.5 188.25,-92.5 188.25,-56.5 0,-56.5\"/>\n<text text-anchor=\"middle\" x=\"11.38\" y=\"-69.7\" font-family=\"Times,serif\" font-size=\"14.00\">b</text>\n<polyline fill=\"none\" stroke=\"black\" points=\"22.75,-57 22.75,-92.5\"/>\n<text text-anchor=\"middle\" x=\"64.88\" y=\"-69.7\" font-family=\"Times,serif\" font-size=\"14.00\">data &#45;3.0000</text>\n<polyline fill=\"none\" stroke=\"black\" points=\"107,-57 107,-92.5\"/>\n<text text-anchor=\"middle\" x=\"147.62\" y=\"-69.7\" font-family=\"Times,serif\" font-size=\"14.00\">grad 0.0000</text>\n</g>\n<!-- 4655657680&#45;&gt;4652421712* -->\n<g id=\"edge4\" class=\"edge\">\n<title>4655657680&#45;&gt;4652421712*</title>\n<path fill=\"none\" stroke=\"black\" d=\"M188.49,-57.65C197.36,-56.05 205.93,-54.5 213.73,-53.09\"/>\n<polygon fill=\"black\" stroke=\"black\" points=\"214.2,-56.56 223.42,-51.34 212.95,-49.68 214.2,-56.56\"/>\n</g>\n<!-- 4655929104 -->\n<g id=\"node6\" class=\"node\">\n<title>4655929104</title>\n<polygon fill=\"none\" stroke=\"black\" points=\"2.62,-1.5 2.62,-37.5 185.62,-37.5 185.62,-1.5 2.62,-1.5\"/>\n<text text-anchor=\"middle\" x=\"13.62\" y=\"-14.7\" font-family=\"Times,serif\" font-size=\"14.00\">a</text>\n<polyline fill=\"none\" stroke=\"black\" points=\"24.62,-2 24.62,-37.5\"/>\n<text text-anchor=\"middle\" x=\"64.5\" y=\"-14.7\" font-family=\"Times,serif\" font-size=\"14.00\">data 2.0000</text>\n<polyline fill=\"none\" stroke=\"black\" points=\"104.38,-2 104.38,-37.5\"/>\n<text text-anchor=\"middle\" x=\"145\" y=\"-14.7\" font-family=\"Times,serif\" font-size=\"14.00\">grad 0.0000</text>\n</g>\n<!-- 4655929104&#45;&gt;4652421712* -->\n<g id=\"edge7\" class=\"edge\">\n<title>4655929104&#45;&gt;4652421712*</title>\n<path fill=\"none\" stroke=\"black\" d=\"M185.81,-35.28C195.45,-36.96 204.82,-38.59 213.29,-40.07\"/>\n<polygon fill=\"black\" stroke=\"black\" points=\"212.65,-43.51 223.1,-41.77 213.85,-36.61 212.65,-43.51\"/>\n</g>\n<!-- 4652944144 -->\n<g id=\"node7\" class=\"node\">\n<title>4652944144</title>\n<polygon fill=\"none\" stroke=\"black\" points=\"943.5,-27.5 943.5,-63.5 1133.25,-63.5 1133.25,-27.5 943.5,-27.5\"/>\n<text text-anchor=\"middle\" x=\"955.62\" y=\"-40.7\" font-family=\"Times,serif\" font-size=\"14.00\">L</text>\n<polyline fill=\"none\" stroke=\"black\" points=\"967.75,-28 967.75,-63.5\"/>\n<text text-anchor=\"middle\" x=\"1009.88\" y=\"-40.7\" font-family=\"Times,serif\" font-size=\"14.00\">data &#45;8.0000</text>\n<polyline fill=\"none\" stroke=\"black\" points=\"1052,-28 1052,-63.5\"/>\n<text text-anchor=\"middle\" x=\"1092.62\" y=\"-40.7\" font-family=\"Times,serif\" font-size=\"14.00\">grad 1.0000</text>\n</g>\n<!-- 4652944144*&#45;&gt;4652944144 -->\n<g id=\"edge2\" class=\"edge\">\n<title>4652944144*&#45;&gt;4652944144</title>\n<path fill=\"none\" stroke=\"black\" d=\"M907.94,-45.5C915.09,-45.5 923.28,-45.5 931.99,-45.5\"/>\n<polygon fill=\"black\" stroke=\"black\" points=\"931.76,-49 941.76,-45.5 931.76,-42 931.76,-49\"/>\n</g>\n<!-- 4656143248 -->\n<g id=\"node9\" class=\"node\">\n<title>4656143248</title>\n<polygon fill=\"none\" stroke=\"black\" points=\"630,-55.5 630,-91.5 817.5,-91.5 817.5,-55.5 630,-55.5\"/>\n<text text-anchor=\"middle\" x=\"641\" y=\"-68.7\" font-family=\"Times,serif\" font-size=\"14.00\">e</text>\n<polyline fill=\"none\" stroke=\"black\" points=\"652,-56 652,-91.5\"/>\n<text text-anchor=\"middle\" x=\"691.88\" y=\"-68.7\" font-family=\"Times,serif\" font-size=\"14.00\">data 4.0000</text>\n<polyline fill=\"none\" stroke=\"black\" points=\"731.75,-56 731.75,-91.5\"/>\n<text text-anchor=\"middle\" x=\"774.62\" y=\"-68.7\" font-family=\"Times,serif\" font-size=\"14.00\">grad &#45;2.0000</text>\n</g>\n<!-- 4656143248&#45;&gt;4652944144* -->\n<g id=\"edge9\" class=\"edge\">\n<title>4656143248&#45;&gt;4652944144*</title>\n<path fill=\"none\" stroke=\"black\" d=\"M817.89,-56.65C826.65,-55.06 835.13,-53.53 842.84,-52.13\"/>\n<polygon fill=\"black\" stroke=\"black\" points=\"843.21,-55.62 852.43,-50.4 841.96,-48.73 843.21,-55.62\"/>\n</g>\n<!-- 4656143248+&#45;&gt;4656143248 -->\n<g id=\"edge3\" class=\"edge\">\n<title>4656143248+&#45;&gt;4656143248</title>\n<path fill=\"none\" stroke=\"black\" d=\"M594.25,-73.5C601.41,-73.5 609.62,-73.5 618.35,-73.5\"/>\n<polygon fill=\"black\" stroke=\"black\" points=\"618.14,-77 628.14,-73.5 618.14,-70 618.14,-77\"/>\n</g>\n</g>\n</svg>\n",
      "text/plain": [
       "<graphviz.graphs.Digraph at 0x1157ea250>"
      ]
     },
     "execution_count": 12,
     "metadata": {},
     "output_type": "execute_result"
    }
   ],
   "execution_count": 12
  },
  {
   "metadata": {},
   "cell_type": "markdown",
   "source": [
    "Continuing down the graph, we now need $\\frac{\\partial L}{\\partial c}$, but:\n",
    "\n",
    "$$\n",
    "L = e * f, \\text{where} \\space e = c + d\n",
    "$$\n",
    "\n",
    "So we know that $c$ impacts $L$ through $e$. So the impact of $c$ on $L$ is a combination of the sensitivity of $e$ to $c$, and of $L$ to $e$. We use the chain rule:\n",
    "\n",
    "$$\n",
    "\\frac{\\partial L}{\\partial c} = \\frac{\\partial L}{\\partial e} \\frac{\\partial e}{\\partial c}\n",
    "$$\n",
    "\n",
    "We know $\\frac{\\partial L}{\\partial e}$ and:\n",
    "\n",
    "$$\n",
    "\\frac{\\partial e}{\\partial c} = 1\n",
    "$$\n",
    "\n",
    "since e = d + c -> ((d + (c + h)) - (d + c))/h = h / h = 1\n",
    "\n",
    "so\n",
    "\n",
    "$$\n",
    "\\frac{\\partial L}{\\partial c} = \\frac{\\partial L}{\\partial e} \\frac{\\partial e}{\\partial c} = f * 1 = -2\n",
    "$$\n",
    "\n",
    "$\\frac{\\partial e}{\\partial d}$ is also -2 (by the same logic). All of this can be verified through `lol`."
   ],
   "id": "dd78127a1ac6a9b1"
  },
  {
   "metadata": {
    "ExecuteTime": {
     "end_time": "2025-07-13T09:52:12.527220Z",
     "start_time": "2025-07-13T09:52:12.364710Z"
    }
   },
   "cell_type": "code",
   "source": [
    "c.grad = -2.0\n",
    "d.grad = -2.0\n",
    "draw_dot(L)"
   ],
   "id": "823bde38295a0a74",
   "outputs": [
    {
     "data": {
      "image/svg+xml": "<?xml version=\"1.0\" encoding=\"UTF-8\" standalone=\"no\"?>\n<!DOCTYPE svg PUBLIC \"-//W3C//DTD SVG 1.1//EN\"\n \"http://www.w3.org/Graphics/SVG/1.1/DTD/svg11.dtd\">\n<!-- Generated by graphviz version 12.2.1 (20241206.2353)\n -->\n<!-- Pages: 1 -->\n<svg width=\"1146pt\" height=\"128pt\"\n viewBox=\"0.00 0.00 1145.75 128.00\" xmlns=\"http://www.w3.org/2000/svg\" xmlns:xlink=\"http://www.w3.org/1999/xlink\">\n<g id=\"graph0\" class=\"graph\" transform=\"scale(1 1) rotate(0) translate(4 124)\">\n<polygon fill=\"white\" stroke=\"none\" points=\"-4,4 -4,-124 1141.75,-124 1141.75,4 -4,4\"/>\n<!-- 4656145936 -->\n<g id=\"node1\" class=\"node\">\n<title>4656145936</title>\n<polygon fill=\"none\" stroke=\"black\" points=\"314.25,-83.5 314.25,-119.5 508.5,-119.5 508.5,-83.5 314.25,-83.5\"/>\n<text text-anchor=\"middle\" x=\"325.25\" y=\"-96.7\" font-family=\"Times,serif\" font-size=\"14.00\">c</text>\n<polyline fill=\"none\" stroke=\"black\" points=\"336.25,-84 336.25,-119.5\"/>\n<text text-anchor=\"middle\" x=\"379.5\" y=\"-96.7\" font-family=\"Times,serif\" font-size=\"14.00\">data 10.0000</text>\n<polyline fill=\"none\" stroke=\"black\" points=\"422.75,-84 422.75,-119.5\"/>\n<text text-anchor=\"middle\" x=\"465.62\" y=\"-96.7\" font-family=\"Times,serif\" font-size=\"14.00\">grad &#45;2.0000</text>\n</g>\n<!-- 4656143248+ -->\n<g id=\"node10\" class=\"node\">\n<title>4656143248+</title>\n<ellipse fill=\"none\" stroke=\"black\" cx=\"571.5\" cy=\"-73.5\" rx=\"27\" ry=\"18\"/>\n<text text-anchor=\"middle\" x=\"571.5\" y=\"-68.45\" font-family=\"Times,serif\" font-size=\"14.00\">+</text>\n</g>\n<!-- 4656145936&#45;&gt;4656143248+ -->\n<g id=\"edge6\" class=\"edge\">\n<title>4656145936&#45;&gt;4656143248+</title>\n<path fill=\"none\" stroke=\"black\" d=\"M508.91,-84.41C517.71,-82.85 526.2,-81.34 533.92,-79.98\"/>\n<polygon fill=\"black\" stroke=\"black\" points=\"534.27,-83.47 543.5,-78.28 533.05,-76.58 534.27,-83.47\"/>\n</g>\n<!-- 4652421712 -->\n<g id=\"node2\" class=\"node\">\n<title>4652421712</title>\n<polygon fill=\"none\" stroke=\"black\" points=\"315,-28.5 315,-64.5 507.75,-64.5 507.75,-28.5 315,-28.5\"/>\n<text text-anchor=\"middle\" x=\"326.38\" y=\"-41.7\" font-family=\"Times,serif\" font-size=\"14.00\">d</text>\n<polyline fill=\"none\" stroke=\"black\" points=\"337.75,-29 337.75,-64.5\"/>\n<text text-anchor=\"middle\" x=\"379.88\" y=\"-41.7\" font-family=\"Times,serif\" font-size=\"14.00\">data &#45;6.0000</text>\n<polyline fill=\"none\" stroke=\"black\" points=\"422,-29 422,-64.5\"/>\n<text text-anchor=\"middle\" x=\"464.88\" y=\"-41.7\" font-family=\"Times,serif\" font-size=\"14.00\">grad &#45;2.0000</text>\n</g>\n<!-- 4652421712&#45;&gt;4656143248+ -->\n<g id=\"edge5\" class=\"edge\">\n<title>4652421712&#45;&gt;4656143248+</title>\n<path fill=\"none\" stroke=\"black\" d=\"M508,-62.83C516.99,-64.36 525.67,-65.85 533.57,-67.19\"/>\n<polygon fill=\"black\" stroke=\"black\" points=\"532.94,-70.64 543.38,-68.87 534.11,-63.74 532.94,-70.64\"/>\n</g>\n<!-- 4652421712* -->\n<g id=\"node3\" class=\"node\">\n<title>4652421712*</title>\n<ellipse fill=\"none\" stroke=\"black\" cx=\"251.25\" cy=\"-46.5\" rx=\"27\" ry=\"18\"/>\n<text text-anchor=\"middle\" x=\"251.25\" y=\"-41.45\" font-family=\"Times,serif\" font-size=\"14.00\">*</text>\n</g>\n<!-- 4652421712*&#45;&gt;4652421712 -->\n<g id=\"edge1\" class=\"edge\">\n<title>4652421712*&#45;&gt;4652421712</title>\n<path fill=\"none\" stroke=\"black\" d=\"M278.72,-46.5C285.95,-46.5 294.26,-46.5 303.11,-46.5\"/>\n<polygon fill=\"black\" stroke=\"black\" points=\"303.05,-50 313.05,-46.5 303.05,-43 303.05,-50\"/>\n</g>\n<!-- 4656150672 -->\n<g id=\"node4\" class=\"node\">\n<title>4656150672</title>\n<polygon fill=\"none\" stroke=\"black\" points=\"635.25,-0.5 635.25,-36.5 821.25,-36.5 821.25,-0.5 635.25,-0.5\"/>\n<text text-anchor=\"middle\" x=\"645.5\" y=\"-13.7\" font-family=\"Times,serif\" font-size=\"14.00\">f</text>\n<polyline fill=\"none\" stroke=\"black\" points=\"655.75,-1 655.75,-36.5\"/>\n<text text-anchor=\"middle\" x=\"697.88\" y=\"-13.7\" font-family=\"Times,serif\" font-size=\"14.00\">data &#45;2.0000</text>\n<polyline fill=\"none\" stroke=\"black\" points=\"740,-1 740,-36.5\"/>\n<text text-anchor=\"middle\" x=\"780.62\" y=\"-13.7\" font-family=\"Times,serif\" font-size=\"14.00\">grad 4.0000</text>\n</g>\n<!-- 4652944144* -->\n<g id=\"node8\" class=\"node\">\n<title>4652944144*</title>\n<ellipse fill=\"none\" stroke=\"black\" cx=\"885\" cy=\"-45.5\" rx=\"27\" ry=\"18\"/>\n<text text-anchor=\"middle\" x=\"885\" y=\"-40.45\" font-family=\"Times,serif\" font-size=\"14.00\">*</text>\n</g>\n<!-- 4656150672&#45;&gt;4652944144* -->\n<g id=\"edge8\" class=\"edge\">\n<title>4656150672&#45;&gt;4652944144*</title>\n<path fill=\"none\" stroke=\"black\" d=\"M821.5,-34.6C830.64,-36.19 839.48,-37.73 847.5,-39.13\"/>\n<polygon fill=\"black\" stroke=\"black\" points=\"846.66,-42.54 857.12,-40.81 847.87,-35.64 846.66,-42.54\"/>\n</g>\n<!-- 4655657680 -->\n<g id=\"node5\" class=\"node\">\n<title>4655657680</title>\n<polygon fill=\"none\" stroke=\"black\" points=\"0,-56.5 0,-92.5 188.25,-92.5 188.25,-56.5 0,-56.5\"/>\n<text text-anchor=\"middle\" x=\"11.38\" y=\"-69.7\" font-family=\"Times,serif\" font-size=\"14.00\">b</text>\n<polyline fill=\"none\" stroke=\"black\" points=\"22.75,-57 22.75,-92.5\"/>\n<text text-anchor=\"middle\" x=\"64.88\" y=\"-69.7\" font-family=\"Times,serif\" font-size=\"14.00\">data &#45;3.0000</text>\n<polyline fill=\"none\" stroke=\"black\" points=\"107,-57 107,-92.5\"/>\n<text text-anchor=\"middle\" x=\"147.62\" y=\"-69.7\" font-family=\"Times,serif\" font-size=\"14.00\">grad 0.0000</text>\n</g>\n<!-- 4655657680&#45;&gt;4652421712* -->\n<g id=\"edge4\" class=\"edge\">\n<title>4655657680&#45;&gt;4652421712*</title>\n<path fill=\"none\" stroke=\"black\" d=\"M188.49,-57.65C197.36,-56.05 205.93,-54.5 213.73,-53.09\"/>\n<polygon fill=\"black\" stroke=\"black\" points=\"214.2,-56.56 223.42,-51.34 212.95,-49.68 214.2,-56.56\"/>\n</g>\n<!-- 4655929104 -->\n<g id=\"node6\" class=\"node\">\n<title>4655929104</title>\n<polygon fill=\"none\" stroke=\"black\" points=\"2.62,-1.5 2.62,-37.5 185.62,-37.5 185.62,-1.5 2.62,-1.5\"/>\n<text text-anchor=\"middle\" x=\"13.62\" y=\"-14.7\" font-family=\"Times,serif\" font-size=\"14.00\">a</text>\n<polyline fill=\"none\" stroke=\"black\" points=\"24.62,-2 24.62,-37.5\"/>\n<text text-anchor=\"middle\" x=\"64.5\" y=\"-14.7\" font-family=\"Times,serif\" font-size=\"14.00\">data 2.0000</text>\n<polyline fill=\"none\" stroke=\"black\" points=\"104.38,-2 104.38,-37.5\"/>\n<text text-anchor=\"middle\" x=\"145\" y=\"-14.7\" font-family=\"Times,serif\" font-size=\"14.00\">grad 0.0000</text>\n</g>\n<!-- 4655929104&#45;&gt;4652421712* -->\n<g id=\"edge7\" class=\"edge\">\n<title>4655929104&#45;&gt;4652421712*</title>\n<path fill=\"none\" stroke=\"black\" d=\"M185.81,-35.28C195.45,-36.96 204.82,-38.59 213.29,-40.07\"/>\n<polygon fill=\"black\" stroke=\"black\" points=\"212.65,-43.51 223.1,-41.77 213.85,-36.61 212.65,-43.51\"/>\n</g>\n<!-- 4652944144 -->\n<g id=\"node7\" class=\"node\">\n<title>4652944144</title>\n<polygon fill=\"none\" stroke=\"black\" points=\"948,-27.5 948,-63.5 1137.75,-63.5 1137.75,-27.5 948,-27.5\"/>\n<text text-anchor=\"middle\" x=\"960.12\" y=\"-40.7\" font-family=\"Times,serif\" font-size=\"14.00\">L</text>\n<polyline fill=\"none\" stroke=\"black\" points=\"972.25,-28 972.25,-63.5\"/>\n<text text-anchor=\"middle\" x=\"1014.38\" y=\"-40.7\" font-family=\"Times,serif\" font-size=\"14.00\">data &#45;8.0000</text>\n<polyline fill=\"none\" stroke=\"black\" points=\"1056.5,-28 1056.5,-63.5\"/>\n<text text-anchor=\"middle\" x=\"1097.12\" y=\"-40.7\" font-family=\"Times,serif\" font-size=\"14.00\">grad 1.0000</text>\n</g>\n<!-- 4652944144*&#45;&gt;4652944144 -->\n<g id=\"edge2\" class=\"edge\">\n<title>4652944144*&#45;&gt;4652944144</title>\n<path fill=\"none\" stroke=\"black\" d=\"M912.44,-45.5C919.59,-45.5 927.78,-45.5 936.49,-45.5\"/>\n<polygon fill=\"black\" stroke=\"black\" points=\"936.26,-49 946.26,-45.5 936.26,-42 936.26,-49\"/>\n</g>\n<!-- 4656143248 -->\n<g id=\"node9\" class=\"node\">\n<title>4656143248</title>\n<polygon fill=\"none\" stroke=\"black\" points=\"634.5,-55.5 634.5,-91.5 822,-91.5 822,-55.5 634.5,-55.5\"/>\n<text text-anchor=\"middle\" x=\"645.5\" y=\"-68.7\" font-family=\"Times,serif\" font-size=\"14.00\">e</text>\n<polyline fill=\"none\" stroke=\"black\" points=\"656.5,-56 656.5,-91.5\"/>\n<text text-anchor=\"middle\" x=\"696.38\" y=\"-68.7\" font-family=\"Times,serif\" font-size=\"14.00\">data 4.0000</text>\n<polyline fill=\"none\" stroke=\"black\" points=\"736.25,-56 736.25,-91.5\"/>\n<text text-anchor=\"middle\" x=\"779.12\" y=\"-68.7\" font-family=\"Times,serif\" font-size=\"14.00\">grad &#45;2.0000</text>\n</g>\n<!-- 4656143248&#45;&gt;4652944144* -->\n<g id=\"edge9\" class=\"edge\">\n<title>4656143248&#45;&gt;4652944144*</title>\n<path fill=\"none\" stroke=\"black\" d=\"M822.39,-56.65C831.15,-55.06 839.63,-53.53 847.34,-52.13\"/>\n<polygon fill=\"black\" stroke=\"black\" points=\"847.71,-55.62 856.93,-50.4 846.46,-48.73 847.71,-55.62\"/>\n</g>\n<!-- 4656143248+&#45;&gt;4656143248 -->\n<g id=\"edge3\" class=\"edge\">\n<title>4656143248+&#45;&gt;4656143248</title>\n<path fill=\"none\" stroke=\"black\" d=\"M598.75,-73.5C605.91,-73.5 614.12,-73.5 622.85,-73.5\"/>\n<polygon fill=\"black\" stroke=\"black\" points=\"622.64,-77 632.64,-73.5 622.64,-70 622.64,-77\"/>\n</g>\n</g>\n</svg>\n",
      "text/plain": [
       "<graphviz.graphs.Digraph at 0x115871590>"
      ]
     },
     "execution_count": 13,
     "metadata": {},
     "output_type": "execute_result"
    }
   ],
   "execution_count": 13
  },
  {
   "metadata": {},
   "cell_type": "markdown",
   "source": [
    "Continuing down the graph, we now need $\\frac{\\partial L}{\\partial b}$ and:\n",
    "\n",
    "$$\n",
    "L = e * f, \\space \\text{where} \\space e = c + d, \\space \\text{where} \\space d = a * b\n",
    "$$\n",
    "\n",
    "So $b$ impacts $L$ through $d$, which impacts $e$, which impacts $L$. So the impact of $b$ on $L$ is a combination of the sensitivity of $d$ to $b$, of $e$ to $d$, and of $L$ to $e$. Again, we use the chain rule:\n",
    "\n",
    "$$\n",
    "\\frac{\\partial L}{\\partial b} = \\frac{\\partial L}{\\partial e}\\frac{\\partial e}{\\partial d}\\frac{\\partial d}{\\partial b}\n",
    "$$\n",
    "\n",
    "We know $\\frac{\\partial L}{\\partial e}$ = $f$ = -2.0, and $\\frac{\\partial e}{\\partial d}$ = 1, and:\n",
    "\n",
    "$$\n",
    "\\frac{\\partial d}{\\partial b} = a = 2.0\n",
    "$$\n",
    "\n",
    "since ((a * (b+h)) - (a * b))/h = (((a * b)+(a * h)) - (a * b))/h = (a * h) / h = a\n",
    "\n",
    "and so:\n",
    "\n",
    "$$\n",
    "\\frac{\\partial L}{\\partial b} = \\frac{\\partial L}{\\partial e}\\frac{\\partial e}{\\partial d}\\frac{\\partial d}{\\partial b} = -2 * 1 * 2 = -4\n",
    "$$\n",
    "\n",
    "\n",
    "\n",
    "By the same logic $\\frac{\\partial L}{\\partial a}$ = $b$ = 6.0"
   ],
   "id": "b5916552e05fffa2"
  },
  {
   "metadata": {
    "ExecuteTime": {
     "end_time": "2025-07-13T09:52:12.716736Z",
     "start_time": "2025-07-13T09:52:12.560146Z"
    }
   },
   "cell_type": "code",
   "source": [
    "a.grad = 6.0\n",
    "b.grad = -4.0\n",
    "draw_dot(L)"
   ],
   "id": "21e86bc7fe5a74a7",
   "outputs": [
    {
     "data": {
      "image/svg+xml": "<?xml version=\"1.0\" encoding=\"UTF-8\" standalone=\"no\"?>\n<!DOCTYPE svg PUBLIC \"-//W3C//DTD SVG 1.1//EN\"\n \"http://www.w3.org/Graphics/SVG/1.1/DTD/svg11.dtd\">\n<!-- Generated by graphviz version 12.2.1 (20241206.2353)\n -->\n<!-- Pages: 1 -->\n<svg width=\"1150pt\" height=\"128pt\"\n viewBox=\"0.00 0.00 1150.25 128.00\" xmlns=\"http://www.w3.org/2000/svg\" xmlns:xlink=\"http://www.w3.org/1999/xlink\">\n<g id=\"graph0\" class=\"graph\" transform=\"scale(1 1) rotate(0) translate(4 124)\">\n<polygon fill=\"white\" stroke=\"none\" points=\"-4,4 -4,-124 1146.25,-124 1146.25,4 -4,4\"/>\n<!-- 4656145936 -->\n<g id=\"node1\" class=\"node\">\n<title>4656145936</title>\n<polygon fill=\"none\" stroke=\"black\" points=\"318.75,-83.5 318.75,-119.5 513,-119.5 513,-83.5 318.75,-83.5\"/>\n<text text-anchor=\"middle\" x=\"329.75\" y=\"-96.7\" font-family=\"Times,serif\" font-size=\"14.00\">c</text>\n<polyline fill=\"none\" stroke=\"black\" points=\"340.75,-84 340.75,-119.5\"/>\n<text text-anchor=\"middle\" x=\"384\" y=\"-96.7\" font-family=\"Times,serif\" font-size=\"14.00\">data 10.0000</text>\n<polyline fill=\"none\" stroke=\"black\" points=\"427.25,-84 427.25,-119.5\"/>\n<text text-anchor=\"middle\" x=\"470.12\" y=\"-96.7\" font-family=\"Times,serif\" font-size=\"14.00\">grad &#45;2.0000</text>\n</g>\n<!-- 4656143248+ -->\n<g id=\"node10\" class=\"node\">\n<title>4656143248+</title>\n<ellipse fill=\"none\" stroke=\"black\" cx=\"576\" cy=\"-73.5\" rx=\"27\" ry=\"18\"/>\n<text text-anchor=\"middle\" x=\"576\" y=\"-68.45\" font-family=\"Times,serif\" font-size=\"14.00\">+</text>\n</g>\n<!-- 4656145936&#45;&gt;4656143248+ -->\n<g id=\"edge6\" class=\"edge\">\n<title>4656145936&#45;&gt;4656143248+</title>\n<path fill=\"none\" stroke=\"black\" d=\"M513.41,-84.41C522.21,-82.85 530.7,-81.34 538.42,-79.98\"/>\n<polygon fill=\"black\" stroke=\"black\" points=\"538.77,-83.47 548,-78.28 537.55,-76.58 538.77,-83.47\"/>\n</g>\n<!-- 4652421712 -->\n<g id=\"node2\" class=\"node\">\n<title>4652421712</title>\n<polygon fill=\"none\" stroke=\"black\" points=\"319.5,-28.5 319.5,-64.5 512.25,-64.5 512.25,-28.5 319.5,-28.5\"/>\n<text text-anchor=\"middle\" x=\"330.88\" y=\"-41.7\" font-family=\"Times,serif\" font-size=\"14.00\">d</text>\n<polyline fill=\"none\" stroke=\"black\" points=\"342.25,-29 342.25,-64.5\"/>\n<text text-anchor=\"middle\" x=\"384.38\" y=\"-41.7\" font-family=\"Times,serif\" font-size=\"14.00\">data &#45;6.0000</text>\n<polyline fill=\"none\" stroke=\"black\" points=\"426.5,-29 426.5,-64.5\"/>\n<text text-anchor=\"middle\" x=\"469.38\" y=\"-41.7\" font-family=\"Times,serif\" font-size=\"14.00\">grad &#45;2.0000</text>\n</g>\n<!-- 4652421712&#45;&gt;4656143248+ -->\n<g id=\"edge5\" class=\"edge\">\n<title>4652421712&#45;&gt;4656143248+</title>\n<path fill=\"none\" stroke=\"black\" d=\"M512.5,-62.83C521.49,-64.36 530.17,-65.85 538.07,-67.19\"/>\n<polygon fill=\"black\" stroke=\"black\" points=\"537.44,-70.64 547.88,-68.87 538.61,-63.74 537.44,-70.64\"/>\n</g>\n<!-- 4652421712* -->\n<g id=\"node3\" class=\"node\">\n<title>4652421712*</title>\n<ellipse fill=\"none\" stroke=\"black\" cx=\"255.75\" cy=\"-46.5\" rx=\"27\" ry=\"18\"/>\n<text text-anchor=\"middle\" x=\"255.75\" y=\"-41.45\" font-family=\"Times,serif\" font-size=\"14.00\">*</text>\n</g>\n<!-- 4652421712*&#45;&gt;4652421712 -->\n<g id=\"edge1\" class=\"edge\">\n<title>4652421712*&#45;&gt;4652421712</title>\n<path fill=\"none\" stroke=\"black\" d=\"M283.22,-46.5C290.45,-46.5 298.76,-46.5 307.61,-46.5\"/>\n<polygon fill=\"black\" stroke=\"black\" points=\"307.55,-50 317.55,-46.5 307.55,-43 307.55,-50\"/>\n</g>\n<!-- 4656150672 -->\n<g id=\"node4\" class=\"node\">\n<title>4656150672</title>\n<polygon fill=\"none\" stroke=\"black\" points=\"639.75,-0.5 639.75,-36.5 825.75,-36.5 825.75,-0.5 639.75,-0.5\"/>\n<text text-anchor=\"middle\" x=\"650\" y=\"-13.7\" font-family=\"Times,serif\" font-size=\"14.00\">f</text>\n<polyline fill=\"none\" stroke=\"black\" points=\"660.25,-1 660.25,-36.5\"/>\n<text text-anchor=\"middle\" x=\"702.38\" y=\"-13.7\" font-family=\"Times,serif\" font-size=\"14.00\">data &#45;2.0000</text>\n<polyline fill=\"none\" stroke=\"black\" points=\"744.5,-1 744.5,-36.5\"/>\n<text text-anchor=\"middle\" x=\"785.12\" y=\"-13.7\" font-family=\"Times,serif\" font-size=\"14.00\">grad 4.0000</text>\n</g>\n<!-- 4652944144* -->\n<g id=\"node8\" class=\"node\">\n<title>4652944144*</title>\n<ellipse fill=\"none\" stroke=\"black\" cx=\"889.5\" cy=\"-45.5\" rx=\"27\" ry=\"18\"/>\n<text text-anchor=\"middle\" x=\"889.5\" y=\"-40.45\" font-family=\"Times,serif\" font-size=\"14.00\">*</text>\n</g>\n<!-- 4656150672&#45;&gt;4652944144* -->\n<g id=\"edge8\" class=\"edge\">\n<title>4656150672&#45;&gt;4652944144*</title>\n<path fill=\"none\" stroke=\"black\" d=\"M826,-34.6C835.14,-36.19 843.98,-37.73 852,-39.13\"/>\n<polygon fill=\"black\" stroke=\"black\" points=\"851.16,-42.54 861.62,-40.81 852.37,-35.64 851.16,-42.54\"/>\n</g>\n<!-- 4655657680 -->\n<g id=\"node5\" class=\"node\">\n<title>4655657680</title>\n<polygon fill=\"none\" stroke=\"black\" points=\"0,-56.5 0,-92.5 192.75,-92.5 192.75,-56.5 0,-56.5\"/>\n<text text-anchor=\"middle\" x=\"11.38\" y=\"-69.7\" font-family=\"Times,serif\" font-size=\"14.00\">b</text>\n<polyline fill=\"none\" stroke=\"black\" points=\"22.75,-57 22.75,-92.5\"/>\n<text text-anchor=\"middle\" x=\"64.88\" y=\"-69.7\" font-family=\"Times,serif\" font-size=\"14.00\">data &#45;3.0000</text>\n<polyline fill=\"none\" stroke=\"black\" points=\"107,-57 107,-92.5\"/>\n<text text-anchor=\"middle\" x=\"149.88\" y=\"-69.7\" font-family=\"Times,serif\" font-size=\"14.00\">grad &#45;4.0000</text>\n</g>\n<!-- 4655657680&#45;&gt;4652421712* -->\n<g id=\"edge4\" class=\"edge\">\n<title>4655657680&#45;&gt;4652421712*</title>\n<path fill=\"none\" stroke=\"black\" d=\"M193,-57.49C201.81,-55.92 210.32,-54.41 218.06,-53.03\"/>\n<polygon fill=\"black\" stroke=\"black\" points=\"218.43,-56.52 227.66,-51.32 217.21,-49.62 218.43,-56.52\"/>\n</g>\n<!-- 4655929104 -->\n<g id=\"node6\" class=\"node\">\n<title>4655929104</title>\n<polygon fill=\"none\" stroke=\"black\" points=\"4.88,-1.5 4.88,-37.5 187.88,-37.5 187.88,-1.5 4.88,-1.5\"/>\n<text text-anchor=\"middle\" x=\"15.88\" y=\"-14.7\" font-family=\"Times,serif\" font-size=\"14.00\">a</text>\n<polyline fill=\"none\" stroke=\"black\" points=\"26.88,-2 26.88,-37.5\"/>\n<text text-anchor=\"middle\" x=\"66.75\" y=\"-14.7\" font-family=\"Times,serif\" font-size=\"14.00\">data 2.0000</text>\n<polyline fill=\"none\" stroke=\"black\" points=\"106.62,-2 106.62,-37.5\"/>\n<text text-anchor=\"middle\" x=\"147.25\" y=\"-14.7\" font-family=\"Times,serif\" font-size=\"14.00\">grad 6.0000</text>\n</g>\n<!-- 4655929104&#45;&gt;4652421712* -->\n<g id=\"edge7\" class=\"edge\">\n<title>4655929104&#45;&gt;4652421712*</title>\n<path fill=\"none\" stroke=\"black\" d=\"M188.01,-35.05C198.46,-36.84 208.62,-38.59 217.74,-40.15\"/>\n<polygon fill=\"black\" stroke=\"black\" points=\"217.11,-43.59 227.56,-41.84 218.3,-36.69 217.11,-43.59\"/>\n</g>\n<!-- 4652944144 -->\n<g id=\"node7\" class=\"node\">\n<title>4652944144</title>\n<polygon fill=\"none\" stroke=\"black\" points=\"952.5,-27.5 952.5,-63.5 1142.25,-63.5 1142.25,-27.5 952.5,-27.5\"/>\n<text text-anchor=\"middle\" x=\"964.62\" y=\"-40.7\" font-family=\"Times,serif\" font-size=\"14.00\">L</text>\n<polyline fill=\"none\" stroke=\"black\" points=\"976.75,-28 976.75,-63.5\"/>\n<text text-anchor=\"middle\" x=\"1018.88\" y=\"-40.7\" font-family=\"Times,serif\" font-size=\"14.00\">data &#45;8.0000</text>\n<polyline fill=\"none\" stroke=\"black\" points=\"1061,-28 1061,-63.5\"/>\n<text text-anchor=\"middle\" x=\"1101.62\" y=\"-40.7\" font-family=\"Times,serif\" font-size=\"14.00\">grad 1.0000</text>\n</g>\n<!-- 4652944144*&#45;&gt;4652944144 -->\n<g id=\"edge2\" class=\"edge\">\n<title>4652944144*&#45;&gt;4652944144</title>\n<path fill=\"none\" stroke=\"black\" d=\"M916.94,-45.5C924.09,-45.5 932.28,-45.5 940.99,-45.5\"/>\n<polygon fill=\"black\" stroke=\"black\" points=\"940.76,-49 950.76,-45.5 940.76,-42 940.76,-49\"/>\n</g>\n<!-- 4656143248 -->\n<g id=\"node9\" class=\"node\">\n<title>4656143248</title>\n<polygon fill=\"none\" stroke=\"black\" points=\"639,-55.5 639,-91.5 826.5,-91.5 826.5,-55.5 639,-55.5\"/>\n<text text-anchor=\"middle\" x=\"650\" y=\"-68.7\" font-family=\"Times,serif\" font-size=\"14.00\">e</text>\n<polyline fill=\"none\" stroke=\"black\" points=\"661,-56 661,-91.5\"/>\n<text text-anchor=\"middle\" x=\"700.88\" y=\"-68.7\" font-family=\"Times,serif\" font-size=\"14.00\">data 4.0000</text>\n<polyline fill=\"none\" stroke=\"black\" points=\"740.75,-56 740.75,-91.5\"/>\n<text text-anchor=\"middle\" x=\"783.62\" y=\"-68.7\" font-family=\"Times,serif\" font-size=\"14.00\">grad &#45;2.0000</text>\n</g>\n<!-- 4656143248&#45;&gt;4652944144* -->\n<g id=\"edge9\" class=\"edge\">\n<title>4656143248&#45;&gt;4652944144*</title>\n<path fill=\"none\" stroke=\"black\" d=\"M826.89,-56.65C835.65,-55.06 844.13,-53.53 851.84,-52.13\"/>\n<polygon fill=\"black\" stroke=\"black\" points=\"852.21,-55.62 861.43,-50.4 850.96,-48.73 852.21,-55.62\"/>\n</g>\n<!-- 4656143248+&#45;&gt;4656143248 -->\n<g id=\"edge3\" class=\"edge\">\n<title>4656143248+&#45;&gt;4656143248</title>\n<path fill=\"none\" stroke=\"black\" d=\"M603.25,-73.5C610.41,-73.5 618.62,-73.5 627.35,-73.5\"/>\n<polygon fill=\"black\" stroke=\"black\" points=\"627.14,-77 637.14,-73.5 627.14,-70 627.14,-77\"/>\n</g>\n</g>\n</svg>\n",
      "text/plain": [
       "<graphviz.graphs.Digraph at 0x1158acbd0>"
      ]
     },
     "execution_count": 14,
     "metadata": {},
     "output_type": "execute_result"
    }
   ],
   "execution_count": 14
  },
  {
   "metadata": {},
   "cell_type": "markdown",
   "source": "With all the gradients of our variables calculated, we can simulate the forward pass and see the single-step change of our loss function $L$ (assuming a maximization scenario) and learning rate of 0.001:",
   "id": "575b1683ee389c23"
  },
  {
   "metadata": {
    "ExecuteTime": {
     "end_time": "2025-07-13T09:52:12.780151Z",
     "start_time": "2025-07-13T09:52:12.773904Z"
    }
   },
   "cell_type": "code",
   "source": [
    "def forward_pass(a, b, c, f, lr=0.01):\n",
    "    a.data += lr * a.grad\n",
    "    b.data += lr * b.grad\n",
    "    c.data += lr * c.grad\n",
    "    f.data += lr * f.grad\n",
    "\n",
    "    d = a*b\n",
    "    e = d+c\n",
    "    L = f*e\n",
    "    return L.data\n",
    "\n",
    "\n",
    "print(f'Current L val: {L.data}')\n",
    "print(f'L val after one backprop pass: {forward_pass(a=a, b=b, c=c, f=f)}')\n",
    "\n",
    "\n",
    "\n"
   ],
   "id": "b43c062455a6a91c",
   "outputs": [
    {
     "name": "stdout",
     "output_type": "stream",
     "text": [
      "Current L val: -8.0\n",
      "L val after one backprop pass: -7.286495685577393\n"
     ]
    }
   ],
   "execution_count": 15
  },
  {
   "metadata": {
    "ExecuteTime": {
     "end_time": "2025-07-13T09:52:12.887045Z",
     "start_time": "2025-07-13T09:52:12.880742Z"
    }
   },
   "cell_type": "code",
   "source": [
    "# another (more useful) example\n",
    "\n",
    "#sample inputs x1, x2\n",
    "x1 = Value(2.0, label='x1')\n",
    "x2 = Value(0.0, label='x2')\n",
    "#sample weights w1, w2 (parameter to optimize through backprop)\n",
    "w1 = Value(-3.0, label='w1')\n",
    "w2 = Value(1.0, label='w2')\n",
    "# bias of neuron (parameter to optimze through backprop)\n",
    "b = Value(6.8813735870, label='b')\n",
    "\n",
    "x1w1 = x1*w1; x1w1.label = 'x1*w1'\n",
    "x2w2 = x2*w2; x2w2.label = 'x2*w2'\n",
    "x1w1x2w2 = x1w1 + x2w2; x1w1x2w2.label = 'x1w1 + x2w2'\n",
    "n = x1w1x2w2 + b; n.label = 'n'\n",
    "o = n.tanh(); o.label = 'o'\n",
    "\n"
   ],
   "id": "bc580c2ab5f08ce4",
   "outputs": [],
   "execution_count": 16
  },
  {
   "metadata": {
    "ExecuteTime": {
     "end_time": "2025-07-13T09:52:13.126843Z",
     "start_time": "2025-07-13T09:52:12.968869Z"
    }
   },
   "cell_type": "code",
   "source": [
    "o.backward()\n",
    "draw_dot(o)\n"
   ],
   "id": "3b619526f2a83bca",
   "outputs": [
    {
     "data": {
      "image/svg+xml": "<?xml version=\"1.0\" encoding=\"UTF-8\" standalone=\"no\"?>\n<!DOCTYPE svg PUBLIC \"-//W3C//DTD SVG 1.1//EN\"\n \"http://www.w3.org/Graphics/SVG/1.1/DTD/svg11.dtd\">\n<!-- Generated by graphviz version 12.2.1 (20241206.2353)\n -->\n<!-- Pages: 1 -->\n<svg width=\"282pt\" height=\"45pt\"\n viewBox=\"0.00 0.00 281.75 45.00\" xmlns=\"http://www.w3.org/2000/svg\" xmlns:xlink=\"http://www.w3.org/1999/xlink\">\n<g id=\"graph0\" class=\"graph\" transform=\"scale(1 1) rotate(0) translate(4 41)\">\n<polygon fill=\"white\" stroke=\"none\" points=\"-4,4 -4,-41 277.75,-41 277.75,4 -4,4\"/>\n<!-- 4652382800 -->\n<g id=\"node1\" class=\"node\">\n<title>4652382800</title>\n<polygon fill=\"none\" stroke=\"black\" points=\"90,-0.5 90,-36.5 273.75,-36.5 273.75,-0.5 90,-0.5\"/>\n<text text-anchor=\"middle\" x=\"101.38\" y=\"-13.7\" font-family=\"Times,serif\" font-size=\"14.00\">o</text>\n<polyline fill=\"none\" stroke=\"black\" points=\"112.75,-1 112.75,-36.5\"/>\n<text text-anchor=\"middle\" x=\"152.62\" y=\"-13.7\" font-family=\"Times,serif\" font-size=\"14.00\">data 0.7071</text>\n<polyline fill=\"none\" stroke=\"black\" points=\"192.5,-1 192.5,-36.5\"/>\n<text text-anchor=\"middle\" x=\"233.12\" y=\"-13.7\" font-family=\"Times,serif\" font-size=\"14.00\">grad 1.0000</text>\n</g>\n<!-- 4652382800tanh -->\n<g id=\"node2\" class=\"node\">\n<title>4652382800tanh</title>\n<ellipse fill=\"none\" stroke=\"black\" cx=\"27\" cy=\"-18.5\" rx=\"27\" ry=\"18\"/>\n<text text-anchor=\"middle\" x=\"27\" y=\"-13.45\" font-family=\"Times,serif\" font-size=\"14.00\">tanh</text>\n</g>\n<!-- 4652382800tanh&#45;&gt;4652382800 -->\n<g id=\"edge1\" class=\"edge\">\n<title>4652382800tanh&#45;&gt;4652382800</title>\n<path fill=\"none\" stroke=\"black\" d=\"M54.28,-18.5C61.42,-18.5 69.61,-18.5 78.32,-18.5\"/>\n<polygon fill=\"black\" stroke=\"black\" points=\"78.06,-22 88.06,-18.5 78.06,-15 78.06,-22\"/>\n</g>\n</g>\n</svg>\n",
      "text/plain": [
       "<graphviz.graphs.Digraph at 0x1158aea10>"
      ]
     },
     "execution_count": 17,
     "metadata": {},
     "output_type": "execute_result"
    }
   ],
   "execution_count": 17
  },
  {
   "metadata": {
    "ExecuteTime": {
     "end_time": "2025-07-13T09:52:13.197612Z",
     "start_time": "2025-07-13T09:52:13.189946Z"
    }
   },
   "cell_type": "code",
   "source": [
    "# f(x) = exp(x) * sin(x)\n",
    "x = Value(0.5, label='x')\n",
    "f = x.exp() * x.sin(); f.label = 'f'\n",
    "f.backward()\n",
    "print(f\"Analytic grad at x=0.5: {x.grad}\")\n",
    "# numerical gradient\n",
    "h = 1e-6\n",
    "x0 = 0.5\n",
    "num_grad = (math.exp(x0 + h) * math.sin(x0 + h) - math.exp(x0 - h) * math.sin(x0 - h)) / (2*h)\n",
    "print(f\"Numeric grad at x=0.5:  {num_grad}\")"
   ],
   "id": "e722344782cf3a9d",
   "outputs": [
    {
     "name": "stdout",
     "output_type": "stream",
     "text": [
      "Analytic grad at x=0.5: 2.237328052520752\n",
      "Numeric grad at x=0.5:  2.2373281198251327\n"
     ]
    }
   ],
   "execution_count": 18
  },
  {
   "metadata": {
    "ExecuteTime": {
     "end_time": "2025-07-13T09:52:13.404634Z",
     "start_time": "2025-07-13T09:52:13.243980Z"
    }
   },
   "cell_type": "code",
   "source": "draw_dot(f)",
   "id": "c06c512cbcc48887",
   "outputs": [
    {
     "data": {
      "image/svg+xml": "<?xml version=\"1.0\" encoding=\"UTF-8\" standalone=\"no\"?>\n<!DOCTYPE svg PUBLIC \"-//W3C//DTD SVG 1.1//EN\"\n \"http://www.w3.org/Graphics/SVG/1.1/DTD/svg11.dtd\">\n<!-- Generated by graphviz version 12.2.1 (20241206.2353)\n -->\n<!-- Pages: 1 -->\n<svg width=\"280pt\" height=\"45pt\"\n viewBox=\"0.00 0.00 279.50 45.00\" xmlns=\"http://www.w3.org/2000/svg\" xmlns:xlink=\"http://www.w3.org/1999/xlink\">\n<g id=\"graph0\" class=\"graph\" transform=\"scale(1 1) rotate(0) translate(4 41)\">\n<polygon fill=\"white\" stroke=\"none\" points=\"-4,4 -4,-41 275.5,-41 275.5,4 -4,4\"/>\n<!-- 4656315024 -->\n<g id=\"node1\" class=\"node\">\n<title>4656315024</title>\n<polygon fill=\"none\" stroke=\"black\" points=\"90,-0.5 90,-36.5 271.5,-36.5 271.5,-0.5 90,-0.5\"/>\n<text text-anchor=\"middle\" x=\"100.25\" y=\"-13.7\" font-family=\"Times,serif\" font-size=\"14.00\">f</text>\n<polyline fill=\"none\" stroke=\"black\" points=\"110.5,-1 110.5,-36.5\"/>\n<text text-anchor=\"middle\" x=\"150.38\" y=\"-13.7\" font-family=\"Times,serif\" font-size=\"14.00\">data 0.7904</text>\n<polyline fill=\"none\" stroke=\"black\" points=\"190.25,-1 190.25,-36.5\"/>\n<text text-anchor=\"middle\" x=\"230.88\" y=\"-13.7\" font-family=\"Times,serif\" font-size=\"14.00\">grad 1.0000</text>\n</g>\n<!-- 4656315024* -->\n<g id=\"node2\" class=\"node\">\n<title>4656315024*</title>\n<ellipse fill=\"none\" stroke=\"black\" cx=\"27\" cy=\"-18.5\" rx=\"27\" ry=\"18\"/>\n<text text-anchor=\"middle\" x=\"27\" y=\"-13.45\" font-family=\"Times,serif\" font-size=\"14.00\">*</text>\n</g>\n<!-- 4656315024*&#45;&gt;4656315024 -->\n<g id=\"edge1\" class=\"edge\">\n<title>4656315024*&#45;&gt;4656315024</title>\n<path fill=\"none\" stroke=\"black\" d=\"M54.43,-18.5C61.6,-18.5 69.8,-18.5 78.51,-18.5\"/>\n<polygon fill=\"black\" stroke=\"black\" points=\"78.26,-22 88.26,-18.5 78.26,-15 78.26,-22\"/>\n</g>\n</g>\n</svg>\n",
      "text/plain": [
       "<graphviz.graphs.Digraph at 0x1158ad010>"
      ]
     },
     "execution_count": 19,
     "metadata": {},
     "output_type": "execute_result"
    }
   ],
   "execution_count": 19
  },
  {
   "metadata": {},
   "cell_type": "markdown",
   "source": [
    "### tensor operations\n",
    "\n",
    "To leverage our tensor-aware numpy backend, we now create and modify tensor-based neural network components. The original `Neuron`, `Layer` and `MLP` classes operate on a list of scalar `Value` objects, which is inefficient given the numpy-backend we have implemented precisely to perform vectorized operations on entire tensors (matrices and vectors) at once. We want to have our `Layer` class perform a single matrix multiplication and bias addition, rather than looping through individual neurons.\n",
    "\n",
    "this requires implementing `__matmul__` in `Value`, and therefore also the backward pass for matrix multiplication, which is thankfully a direct generalization of the simple scalar version. if we want to calculate $\\frac{\\partial L}{\\partial A}$ and $\\frac{\\partial L}{\\partial B}$, where $A$ is the first matrix and $B$ the second one, and where $C = A \\cdot B$, then:\n",
    "\n",
    "$$\n",
    "\\frac{\\partial L}{\\partial A} = \\frac{\\partial L}{\\partial C} \\cdot B^T\n",
    "$$\n",
    "\n",
    "and\n",
    "\n",
    "$$\n",
    "\\frac{\\partial L}{\\partial B} = A^T \\cdot \\frac{\\partial L}{\\partial C}\n",
    "$$\n",
    "\n",
    "this is because, if let $A$ be shape `(m, n)` and $B$ be shape `(n, p)`, then $C$ has shape `(m, p)`. The incoming gradient, dL/dC, must also have the shape of C, and we need the final gradient, dL/dA (or dL/dB, let's stick for dL/dA for this example) to have the same shape as $A$. The tranpose of $B$, $B^T$, results in the correct final shape of `(m, n)`.\n",
    "\n",
    "The individual `Neuron` class is therefore no longer needed.\n"
   ],
   "id": "450e9bc2f55cf4af"
  },
  {
   "metadata": {
    "ExecuteTime": {
     "end_time": "2025-07-13T09:52:13.465668Z",
     "start_time": "2025-07-13T09:52:13.432390Z"
    }
   },
   "cell_type": "code",
   "source": [
    "class Layer:\n",
    "    def __init__(self, num_inputs, num_outputs):\n",
    "        limit = np.sqrt(6 / (num_inputs + num_outputs))\n",
    "        self.w = Value(np.random.uniform(-limit, limit, (num_inputs, num_outputs)))\n",
    "        self.b = Value(np.zeros(num_outputs)) #broadcasts during addition\n",
    "\n",
    "    def __call__(self, x):\n",
    "        # x is now a Value object containing a batch of inputs\n",
    "        # e.g., shape (batch_size, num_inputs)\n",
    "        act = x @ self.w + self.b\n",
    "        out = act.tanh()\n",
    "        return out\n",
    "\n",
    "    def parameters(self):\n",
    "        return [self.w, self.b]\n",
    "\n",
    "class MLP:\n",
    "    def __init__(self, num_inputs, nouts):\n",
    "        sz = [num_inputs] + nouts\n",
    "        self.layers = [Layer(sz[i], sz[i+1]) for i in range(len(nouts))]\n",
    "\n",
    "    def __call__(self, x):\n",
    "        for layer in self.layers:\n",
    "            x = layer(x)\n",
    "        return x\n",
    "\n",
    "    def parameters(self):\n",
    "        return [p for layer in self.layers for p in layer.parameters()]\n",
    "\n",
    "    def zero_grad(self):\n",
    "        \"\"\"sets the gradients to zero\"\"\"\n",
    "        for p in self.parameters():\n",
    "            p.grad.fill(0)"
   ],
   "id": "833fb57aa2b986f1",
   "outputs": [],
   "execution_count": 20
  },
  {
   "metadata": {
    "ExecuteTime": {
     "end_time": "2025-07-13T09:55:21.711615Z",
     "start_time": "2025-07-13T09:55:21.693565Z"
    }
   },
   "cell_type": "code",
   "source": [
    "model = MLP(3, [4, 4, 1])\n",
    "print(f'Network parameters:\\n{model.parameters()}')\n",
    "\n",
    "xs = Value(np.array([\n",
    "    [2.0, 3.0, -1.0],\n",
    "    [3.0, -1.0, 0.5],\n",
    "    [0.5, 1.0, 1.0],\n",
    "    [1.0, 1.0,-1.0],\n",
    "]))\n",
    "\n",
    "ys = Value(np.array([[1.0], [-1.0], [-1.0], [1.0]]))\n",
    "lr = 0.03\n",
    "# Training loop\n",
    "for k in range(20):\n",
    "    # Forward pass\n",
    "    ypred = model(xs)\n",
    "    # Mean Squared Error Loss\n",
    "    loss = ((ypred - ys)**2).sum() # Need to implement sum()\n",
    "    model.zero_grad()\n",
    "    loss.backward()\n",
    "    for p in model.parameters():\n",
    "        p.data -= lr * p.grad\n",
    "\n",
    "    print(f'iter: {k}, loss: {loss.data}')\n",
    "\n",
    "print(f'Final predictions {model(xs)}')\n",
    "\n"
   ],
   "id": "5c6a7b6c9a891279",
   "outputs": [
    {
     "name": "stdout",
     "output_type": "stream",
     "text": [
      "Network parameters:\n",
      "[Value(data=[[ 0.10009021  0.35044852  0.73883855  0.10761905]\n",
      " [-0.72566664 -0.8312433  -0.5137002  -0.17060445]\n",
      " [ 0.49399117  0.7010436  -0.09133334  0.2730261 ]]), Value(data=[0. 0. 0. 0.]), Value(data=[[ 0.00461055  0.7423535   0.05895448 -0.28474057]\n",
      " [-0.55159897 -0.28875187 -0.2754133   0.7525455 ]\n",
      " [-0.7440989  -0.8332245   0.15002976 -0.65041536]\n",
      " [-0.53005105  0.5371184  -0.15241018 -0.2742199 ]]), Value(data=[0. 0. 0. 0.]), Value(data=[[-1.0269859 ]\n",
      " [-0.47481504]\n",
      " [-0.36926937]\n",
      " [-0.29198354]]), Value(data=[0.])]\n",
      "iter: 0, loss: 6.996574878692627\n",
      "iter: 1, loss: 4.347339153289795\n",
      "iter: 2, loss: 3.2191011905670166\n",
      "iter: 3, loss: 2.4443976879119873\n",
      "iter: 4, loss: 1.6196186542510986\n",
      "iter: 5, loss: 0.9759476184844971\n",
      "iter: 6, loss: 0.6290285587310791\n",
      "iter: 7, loss: 0.4516296088695526\n",
      "iter: 8, loss: 0.34958964586257935\n",
      "iter: 9, loss: 0.284100204706192\n",
      "iter: 10, loss: 0.23865097761154175\n",
      "iter: 11, loss: 0.20530831813812256\n",
      "iter: 12, loss: 0.17982697486877441\n",
      "iter: 13, loss: 0.15973663330078125\n",
      "iter: 14, loss: 0.14350295066833496\n",
      "iter: 15, loss: 0.13012255728244781\n",
      "iter: 16, loss: 0.11891186237335205\n",
      "iter: 17, loss: 0.1093888059258461\n",
      "iter: 18, loss: 0.10120388865470886\n",
      "iter: 19, loss: 0.09409753233194351\n",
      "Final predictions Value(data=[[ 0.8841667 ]\n",
      " [-0.8043767 ]\n",
      " [-0.89294314]\n",
      " [ 0.8427555 ]])\n"
     ]
    }
   ],
   "execution_count": 23
  },
  {
   "metadata": {
    "ExecuteTime": {
     "end_time": "2025-07-13T09:52:13.710110Z",
     "start_time": "2025-07-13T09:52:13.554587Z"
    }
   },
   "cell_type": "code",
   "source": "draw_dot(loss)",
   "id": "da5569ac59861acb",
   "outputs": [
    {
     "data": {
      "image/svg+xml": "<?xml version=\"1.0\" encoding=\"UTF-8\" standalone=\"no\"?>\n<!DOCTYPE svg PUBLIC \"-//W3C//DTD SVG 1.1//EN\"\n \"http://www.w3.org/Graphics/SVG/1.1/DTD/svg11.dtd\">\n<!-- Generated by graphviz version 12.2.1 (20241206.2353)\n -->\n<!-- Pages: 1 -->\n<svg width=\"279pt\" height=\"45pt\"\n viewBox=\"0.00 0.00 278.75 45.00\" xmlns=\"http://www.w3.org/2000/svg\" xmlns:xlink=\"http://www.w3.org/1999/xlink\">\n<g id=\"graph0\" class=\"graph\" transform=\"scale(1 1) rotate(0) translate(4 41)\">\n<polygon fill=\"white\" stroke=\"none\" points=\"-4,4 -4,-41 274.75,-41 274.75,4 -4,4\"/>\n<!-- 4656331536 -->\n<g id=\"node1\" class=\"node\">\n<title>4656331536</title>\n<polygon fill=\"none\" stroke=\"black\" points=\"90,-0.5 90,-36.5 270.75,-36.5 270.75,-0.5 90,-0.5\"/>\n<text text-anchor=\"middle\" x=\"99.88\" y=\"-13.7\" font-family=\"Times,serif\" font-size=\"14.00\"> </text>\n<polyline fill=\"none\" stroke=\"black\" points=\"109.75,-1 109.75,-36.5\"/>\n<text text-anchor=\"middle\" x=\"149.62\" y=\"-13.7\" font-family=\"Times,serif\" font-size=\"14.00\">data 0.0758</text>\n<polyline fill=\"none\" stroke=\"black\" points=\"189.5,-1 189.5,-36.5\"/>\n<text text-anchor=\"middle\" x=\"230.12\" y=\"-13.7\" font-family=\"Times,serif\" font-size=\"14.00\">grad 1.0000</text>\n</g>\n<!-- 4656331536sum -->\n<g id=\"node2\" class=\"node\">\n<title>4656331536sum</title>\n<ellipse fill=\"none\" stroke=\"black\" cx=\"27\" cy=\"-18.5\" rx=\"27\" ry=\"18\"/>\n<text text-anchor=\"middle\" x=\"27\" y=\"-13.45\" font-family=\"Times,serif\" font-size=\"14.00\">sum</text>\n</g>\n<!-- 4656331536sum&#45;&gt;4656331536 -->\n<g id=\"edge1\" class=\"edge\">\n<title>4656331536sum&#45;&gt;4656331536</title>\n<path fill=\"none\" stroke=\"black\" d=\"M54.37,-18.5C61.51,-18.5 69.7,-18.5 78.39,-18.5\"/>\n<polygon fill=\"black\" stroke=\"black\" points=\"78.11,-22 88.11,-18.5 78.11,-15 78.11,-22\"/>\n</g>\n</g>\n</svg>\n",
      "text/plain": [
       "<graphviz.graphs.Digraph at 0x1158edd90>"
      ]
     },
     "execution_count": 22,
     "metadata": {},
     "output_type": "execute_result"
    }
   ],
   "execution_count": 22
  }
 ],
 "metadata": {
  "kernelspec": {
   "display_name": "Python 3",
   "language": "python",
   "name": "python3"
  },
  "language_info": {
   "codemirror_mode": {
    "name": "ipython",
    "version": 2
   },
   "file_extension": ".py",
   "mimetype": "text/x-python",
   "name": "python",
   "nbconvert_exporter": "python",
   "pygments_lexer": "ipython2",
   "version": "2.7.6"
  }
 },
 "nbformat": 4,
 "nbformat_minor": 5
}
