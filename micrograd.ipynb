{
 "cells": [
  {
   "metadata": {},
   "cell_type": "markdown",
   "source": [
    "### overview\n",
    "\n",
    "Neural networks are, in essence, logically sequenced mathematical expressions. They take the data and the initial weights as an input, and the outputs are the predictions (labels for unseen instances informed by past instances). Backpropagation, the optimization of weights through derivatives of the loss function with respect to each weight, relies only on arbitrary mathematical expressions, which are completely independent of neural networks. It is simply a machinery that happens to be highly effective in the training of neural networks."
   ],
   "id": "1873484ef1d340f8"
  },
  {
   "cell_type": "code",
   "id": "initial_id",
   "metadata": {
    "collapsed": true,
    "ExecuteTime": {
     "end_time": "2025-07-11T15:22:17.458968Z",
     "start_time": "2025-07-11T15:22:17.453256Z"
    }
   },
   "source": [
    "import math\n",
    "import numpy as np\n",
    "import matplotlib.pyplot as plt\n",
    "%matplotlib inline\n",
    "from graphviz import Digraph\n",
    "import random\n"
   ],
   "outputs": [],
   "execution_count": 183
  },
  {
   "metadata": {
    "ExecuteTime": {
     "end_time": "2025-07-11T15:22:17.485251Z",
     "start_time": "2025-07-11T15:22:17.480160Z"
    }
   },
   "cell_type": "code",
   "source": [
    "def f(x):\n",
    "    return 3*x**2 - 4*x + 5\n",
    "\n",
    "f(3.0)"
   ],
   "id": "20b23fc389b28615",
   "outputs": [
    {
     "data": {
      "text/plain": [
       "20.0"
      ]
     },
     "execution_count": 184,
     "metadata": {},
     "output_type": "execute_result"
    }
   ],
   "execution_count": 184
  },
  {
   "metadata": {
    "ExecuteTime": {
     "end_time": "2025-07-11T15:22:17.517816Z",
     "start_time": "2025-07-11T15:22:17.512497Z"
    }
   },
   "cell_type": "code",
   "source": [
    "results = {}\n",
    "x_s = np.arange(-5, 5, 0.25)\n",
    "for x in x_s:\n",
    "    results[x] = f(x)\n",
    "\n",
    "for (x, y) in results.items():\n",
    "    print('x: {x}, y: {y}'.format(x=x, y=y))"
   ],
   "id": "6e06214112c0d25",
   "outputs": [
    {
     "name": "stdout",
     "output_type": "stream",
     "text": [
      "x: -5.0, y: 100.0\n",
      "x: -4.75, y: 91.6875\n",
      "x: -4.5, y: 83.75\n",
      "x: -4.25, y: 76.1875\n",
      "x: -4.0, y: 69.0\n",
      "x: -3.75, y: 62.1875\n",
      "x: -3.5, y: 55.75\n",
      "x: -3.25, y: 49.6875\n",
      "x: -3.0, y: 44.0\n",
      "x: -2.75, y: 38.6875\n",
      "x: -2.5, y: 33.75\n",
      "x: -2.25, y: 29.1875\n",
      "x: -2.0, y: 25.0\n",
      "x: -1.75, y: 21.1875\n",
      "x: -1.5, y: 17.75\n",
      "x: -1.25, y: 14.6875\n",
      "x: -1.0, y: 12.0\n",
      "x: -0.75, y: 9.6875\n",
      "x: -0.5, y: 7.75\n",
      "x: -0.25, y: 6.1875\n",
      "x: 0.0, y: 5.0\n",
      "x: 0.25, y: 4.1875\n",
      "x: 0.5, y: 3.75\n",
      "x: 0.75, y: 3.6875\n",
      "x: 1.0, y: 4.0\n",
      "x: 1.25, y: 4.6875\n",
      "x: 1.5, y: 5.75\n",
      "x: 1.75, y: 7.1875\n",
      "x: 2.0, y: 9.0\n",
      "x: 2.25, y: 11.1875\n",
      "x: 2.5, y: 13.75\n",
      "x: 2.75, y: 16.6875\n",
      "x: 3.0, y: 20.0\n",
      "x: 3.25, y: 23.6875\n",
      "x: 3.5, y: 27.75\n",
      "x: 3.75, y: 32.1875\n",
      "x: 4.0, y: 37.0\n",
      "x: 4.25, y: 42.1875\n",
      "x: 4.5, y: 47.75\n",
      "x: 4.75, y: 53.6875\n"
     ]
    }
   ],
   "execution_count": 185
  },
  {
   "metadata": {
    "ExecuteTime": {
     "end_time": "2025-07-11T15:22:17.745999Z",
     "start_time": "2025-07-11T15:22:17.564981Z"
    }
   },
   "cell_type": "code",
   "source": [
    "plt.plot(x_s, results.values(), label='f(x)')\n",
    "plt.legend()"
   ],
   "id": "21b26e53a50c7ce",
   "outputs": [
    {
     "data": {
      "text/plain": [
       "<matplotlib.legend.Legend at 0x124ca07f0>"
      ]
     },
     "execution_count": 186,
     "metadata": {},
     "output_type": "execute_result"
    },
    {
     "data": {
      "text/plain": [
       "<Figure size 640x480 with 1 Axes>"
      ],
      "image/png": "[encoded data removed]"
     },
     "metadata": {},
     "output_type": "display_data"
    }
   ],
   "execution_count": 186
  },
  {
   "metadata": {
    "ExecuteTime": {
     "end_time": "2025-07-11T15:22:17.789244Z",
     "start_time": "2025-07-11T15:22:17.782580Z"
    }
   },
   "cell_type": "code",
   "source": [
    "def df(x):\n",
    "    return 6*x - 4\n",
    "\n",
    "h = 0.0001\n",
    "approx = (f(x_s + h) - f(x_s)) / h\n",
    "\n",
    "\n",
    "results_with_d = {}\n",
    "for i, x in enumerate(x_s):\n",
    "    results_with_d[x] = [f(x), df(x), approx[i]]\n",
    "\n",
    "for (x, y) in results_with_d.items():\n",
    "    print(\"x: {x}, [f(x), f'(x), f'(x) approx]: {y}\".format(x=x, y=y))"
   ],
   "id": "c29993b4803b60ed",
   "outputs": [
    {
     "name": "stdout",
     "output_type": "stream",
     "text": [
      "x: -5.0, [f(x), f'(x), f'(x) approx]: [np.float64(100.0), np.float64(-34.0), np.float64(-33.99969999989594)]\n",
      "x: -4.75, [f(x), f'(x), f'(x) approx]: [np.float64(91.6875), np.float64(-32.5), np.float64(-32.49969999998825)]\n",
      "x: -4.5, [f(x), f'(x), f'(x) approx]: [np.float64(83.75), np.float64(-31.0), np.float64(-30.999699999938457)]\n",
      "x: -4.25, [f(x), f'(x), f'(x) approx]: [np.float64(76.1875), np.float64(-29.5), np.float64(-29.49970000003077)]\n",
      "x: -4.0, [f(x), f'(x), f'(x) approx]: [np.float64(69.0), np.float64(-28.0), np.float64(-27.999699999980976)]\n",
      "x: -3.75, [f(x), f'(x), f'(x) approx]: [np.float64(62.1875), np.float64(-26.5), np.float64(-26.499700000002235)]\n",
      "x: -3.5, [f(x), f'(x), f'(x) approx]: [np.float64(55.75), np.float64(-25.0), np.float64(-24.999700000023495)]\n",
      "x: -3.25, [f(x), f'(x), f'(x) approx]: [np.float64(49.6875), np.float64(-23.5), np.float64(-23.499700000044754)]\n",
      "x: -3.0, [f(x), f'(x), f'(x) approx]: [np.float64(44.0), np.float64(-22.0), np.float64(-21.999700000066014)]\n",
      "x: -2.75, [f(x), f'(x), f'(x) approx]: [np.float64(38.6875), np.float64(-20.5), np.float64(-20.49970000001622)]\n",
      "x: -2.5, [f(x), f'(x), f'(x) approx]: [np.float64(33.75), np.float64(-19.0), np.float64(-18.99970000003748)]\n",
      "x: -2.25, [f(x), f'(x), f'(x) approx]: [np.float64(29.1875), np.float64(-17.5), np.float64(-17.499700000058738)]\n",
      "x: -2.0, [f(x), f'(x), f'(x) approx]: [np.float64(25.0), np.float64(-16.0), np.float64(-15.999700000008943)]\n",
      "x: -1.75, [f(x), f'(x), f'(x) approx]: [np.float64(21.1875), np.float64(-14.5), np.float64(-14.499699999994675)]\n",
      "x: -1.5, [f(x), f'(x), f'(x) approx]: [np.float64(17.75), np.float64(-13.0), np.float64(-12.999699999980407)]\n",
      "x: -1.25, [f(x), f'(x), f'(x) approx]: [np.float64(14.6875), np.float64(-11.5), np.float64(-11.499700000001667)]\n",
      "x: -1.0, [f(x), f'(x), f'(x) approx]: [np.float64(12.0), np.float64(-10.0), np.float64(-9.9996999999874)]\n",
      "x: -0.75, [f(x), f'(x), f'(x) approx]: [np.float64(9.6875), np.float64(-8.5), np.float64(-8.499700000008659)]\n",
      "x: -0.5, [f(x), f'(x), f'(x) approx]: [np.float64(7.75), np.float64(-7.0), np.float64(-6.999699999994391)]\n",
      "x: -0.25, [f(x), f'(x), f'(x) approx]: [np.float64(6.1875), np.float64(-5.5), np.float64(-5.499699999997887)]\n",
      "x: 0.0, [f(x), f'(x), f'(x) approx]: [np.float64(5.0), np.float64(-4.0), np.float64(-3.9997000000013827)]\n",
      "x: 0.25, [f(x), f'(x), f'(x) approx]: [np.float64(4.1875), np.float64(-2.5), np.float64(-2.4997000000048786)]\n",
      "x: 0.5, [f(x), f'(x), f'(x) approx]: [np.float64(3.75), np.float64(-1.0), np.float64(-0.9996999999994927)]\n",
      "x: 0.75, [f(x), f'(x), f'(x) approx]: [np.float64(3.6875), np.float64(0.5), np.float64(0.5003000000014524)]\n",
      "x: 1.0, [f(x), f'(x), f'(x) approx]: [np.float64(4.0), np.float64(2.0), np.float64(2.0003000000023974)]\n",
      "x: 1.25, [f(x), f'(x), f'(x) approx]: [np.float64(4.6875), np.float64(3.5), np.float64(3.5002999999989015)]\n",
      "x: 1.5, [f(x), f'(x), f'(x) approx]: [np.float64(5.75), np.float64(5.0), np.float64(5.000300000004287)]\n",
      "x: 1.75, [f(x), f'(x), f'(x) approx]: [np.float64(7.1875), np.float64(6.5), np.float64(6.500300000000792)]\n",
      "x: 2.0, [f(x), f'(x), f'(x) approx]: [np.float64(9.0), np.float64(8.0), np.float64(8.000300000023941)]\n",
      "x: 2.25, [f(x), f'(x), f'(x) approx]: [np.float64(11.1875), np.float64(9.5), np.float64(9.500300000002682)]\n",
      "x: 2.5, [f(x), f'(x), f'(x) approx]: [np.float64(13.75), np.float64(11.0), np.float64(11.00030000001695)]\n",
      "x: 2.75, [f(x), f'(x), f'(x) approx]: [np.float64(16.6875), np.float64(12.5), np.float64(12.500300000013453)]\n",
      "x: 3.0, [f(x), f'(x), f'(x) approx]: [np.float64(20.0), np.float64(14.0), np.float64(14.000300000063248)]\n",
      "x: 3.25, [f(x), f'(x), f'(x) approx]: [np.float64(23.6875), np.float64(15.5), np.float64(15.500300000041989)]\n",
      "x: 3.5, [f(x), f'(x), f'(x) approx]: [np.float64(27.75), np.float64(17.0), np.float64(17.00030000002073)]\n",
      "x: 3.75, [f(x), f'(x), f'(x) approx]: [np.float64(32.1875), np.float64(18.5), np.float64(18.50029999999947)]\n",
      "x: 4.0, [f(x), f'(x), f'(x) approx]: [np.float64(37.0), np.float64(20.0), np.float64(20.00029999997821)]\n",
      "x: 4.25, [f(x), f'(x), f'(x) approx]: [np.float64(42.1875), np.float64(21.5), np.float64(21.50029999995695)]\n",
      "x: 4.5, [f(x), f'(x), f'(x) approx]: [np.float64(47.75), np.float64(23.0), np.float64(23.000300000006746)]\n",
      "x: 4.75, [f(x), f'(x), f'(x) approx]: [np.float64(53.6875), np.float64(24.5), np.float64(24.500299999914432)]\n"
     ]
    }
   ],
   "execution_count": 187
  },
  {
   "metadata": {
    "ExecuteTime": {
     "end_time": "2025-07-11T15:22:18.023251Z",
     "start_time": "2025-07-11T15:22:17.827959Z"
    }
   },
   "cell_type": "code",
   "source": [
    "plt.plot(x_s, f(x_s), label='f(x)')\n",
    "plt.plot(x_s, df(x_s), label=\"f'(x)\")\n",
    "plt.legend()"
   ],
   "id": "535418386d8724f8",
   "outputs": [
    {
     "data": {
      "text/plain": [
       "<matplotlib.legend.Legend at 0x12558f460>"
      ]
     },
     "execution_count": 188,
     "metadata": {},
     "output_type": "execute_result"
    },
    {
     "data": {
      "text/plain": [
       "<Figure size 640x480 with 1 Axes>"
      ],
      "image/png": "[encoded data removed]"
     },
     "metadata": {},
     "output_type": "display_data"
    }
   ],
   "execution_count": 188
  },
  {
   "metadata": {
    "ExecuteTime": {
     "end_time": "2025-07-11T15:22:18.056696Z",
     "start_time": "2025-07-11T15:22:18.049416Z"
    }
   },
   "cell_type": "code",
   "source": [
    "## a more complex examples, a function depending on many variables\n",
    "\n",
    "a = 2.0\n",
    "b = -3.0\n",
    "c = 10.0\n",
    "\n",
    "d = a*b + c\n",
    "\n",
    "#notice a*b is a negative number (since they are of opposite signs)\n",
    "\n",
    "def eval_expression(a: float, b: float, c: float):\n",
    "    return a*b + c\n",
    "\n",
    "def approx_derivative(func, wrt, h=0.0001, **kwargs):\n",
    "    inputs_h = kwargs.copy()\n",
    "    #perturb the spec. variable we are diffing with respect to\n",
    "    inputs_h[wrt] += h\n",
    "    base_val = func(**kwargs)\n",
    "    perturbed_val = func(**inputs_h)\n",
    "    derivative_val = (perturbed_val - base_val)/h\n",
    "    print(f'base_val: {base_val}, perturbed_val: {perturbed_val}, derivative_val: {derivative_val}')\n",
    "\n",
    "points = {'a': 2.0, 'b': -3.0, 'c': 10.0}\n",
    "derivative_wrt_a = approx_derivative(eval_expression, wrt='a', **points)\n",
    "derivative_wrt_b = approx_derivative(eval_expression, wrt='b', **points)\n",
    "derivative_wrt_c = approx_derivative(eval_expression, wrt='c', **points)"
   ],
   "id": "423aeb2a819db9c9",
   "outputs": [
    {
     "name": "stdout",
     "output_type": "stream",
     "text": [
      "base_val: 4.0, perturbed_val: 3.999699999999999, derivative_val: -3.000000000010772\n",
      "base_val: 4.0, perturbed_val: 4.0002, derivative_val: 2.0000000000042206\n",
      "base_val: 4.0, perturbed_val: 4.0001, derivative_val: 0.9999999999976694\n"
     ]
    }
   ],
   "execution_count": 189
  },
  {
   "metadata": {},
   "cell_type": "markdown",
   "source": [
    "The following is an implementation of the micrograd's `Value` class (the exact same logic as explained by Karpathy, but extended to some more of the endless mathematical expressions we can cover such as `__pow__`, `__truediv__`, `exp`, `log`, `cos`, `relu`, etc.). Another modification is the `_unbroadcast(grad, shape)` helper function, which aims to 'undo' Numpy's broadcasting when we propagate gradients back into operands that were broadcast up to a larger shape in the forward pass.\n",
    "\n",
    "```python\n",
    "a = np.array([1, 2, 3]) # shape (3, )\n",
    "b = np.array([[10], [20]]) # shape (2,1)\n",
    "c = a + b\n",
    "```\n",
    "When we do something like the above, both `a` and `b` are stretched to shape `(2, 3)` in order for the addition to work elementwise."
   ],
   "id": "b917286f4bdb2232"
  },
  {
   "metadata": {
    "ExecuteTime": {
     "end_time": "2025-07-11T15:22:18.083686Z",
     "start_time": "2025-07-11T15:22:18.078848Z"
    }
   },
   "cell_type": "code",
   "source": [
    "a = np.array([1, 2, 3])\n",
    "b = np.array([[10], [20]])\n",
    "c = a + b\n",
    "print(c.shape)\n",
    "print(c)"
   ],
   "id": "cbdc63654732a6a9",
   "outputs": [
    {
     "name": "stdout",
     "output_type": "stream",
     "text": [
      "(2, 3)\n",
      "[[11 12 13]\n",
      " [21 22 23]]\n"
     ]
    }
   ],
   "execution_count": 190
  },
  {
   "metadata": {},
   "cell_type": "markdown",
   "source": [
    "In backprop we compute `dc/d(a or b)` by taking `dL/dc` and multiplying it by the local derivative, yielding a gradient of shape `(2, 3)`. However, `a` itself has shape `(3,)`, and `b` shape `(2,1)`, so we need to sum the gradient over the dimensions that were expanded (or broadcasted) to get a correctly-shaped gradient for each original operand. so if\n",
    "\n",
    "$$\n",
    "c_{ij} = a_j + b_i\n",
    "$$\n",
    "then\n",
    "$$\n",
    "\\frac{\\partial L}{\\partial a_j} = \\sum_{i=0}^{1} \\frac{\\partial L}{\\partial c_{ij}}, \\space \\frac{\\partial L}{\\partial b_i} = \\sum_{j=0}^{2} \\frac{\\partial L}{\\partial c_{ij}}\n",
    "$$\n",
    "\n",
    "so the `_unbroadcast` method works by collapsing any extra dimensions that got prefixed during broadcast, and then collapsing any singleton dimensions that were used to broadcast a length-1 axis. It is a static method since we do not need any data at all from `self`.\n",
    "\n",
    "In other words, before we could only backpropagate through operations on perfectly-matched shapes, and manually detect which axes were broadcasted and sum them ourselves in every operator's backward pass. As we add more ops and higher-rank tensors, this would become a maintenance nightmare. We can now work with mini-batches of shape `(batch_size, features)`, convolutional patches of shape `(batch, channels, height, width)`, broadcasted biases, normalization layers, etc."
   ],
   "id": "9b4400097ec5838b"
  },
  {
   "metadata": {
    "ExecuteTime": {
     "end_time": "2025-07-11T15:22:18.174176Z",
     "start_time": "2025-07-11T15:22:18.131843Z"
    }
   },
   "cell_type": "code",
   "source": [
    "class Value:\n",
    "    \"\"\"\n",
    "    A scalar or tensor value with automatic differentiation.\n",
    "    Support broadcasting and gradient un-broadcasting.\n",
    "    \"\"\"\n",
    "    def __init__(self, data, _children=(), _op='', label=''):\n",
    "        self.data = np.array(data, dtype=np.float32) if not isinstance(data, Value) else data.data\n",
    "        self.grad = np.zeros_like(self.data, dtype=np.float32)\n",
    "        self._backward = lambda: None #placeholder\n",
    "        self._prev = set(_children)\n",
    "        self._op = _op # the operation that produced this node\n",
    "        self.label = label\n",
    "        self.shape = self.data.shape\n",
    "\n",
    "    # util for broadcasting gradients\n",
    "    @staticmethod\n",
    "    def _unbroadcast(grad, shape):\n",
    "        \"\"\"\n",
    "        undo numpy broadcasting by summing grad along axes where\n",
    "        the original shape introduced size-1 dimensions or extra\n",
    "        leading dimensions\n",
    "        \"\"\"\n",
    "        # sum out broadcasted dimensions\n",
    "        #remove extra dims\n",
    "        while grad.ndim > len(shape):\n",
    "            grad = grad.sum(axis=0)\n",
    "\n",
    "        #sum along dims where original shape == 1\n",
    "        for ax, s in enumerate(shape):\n",
    "            if s == 1:\n",
    "                grad = grad.sum(axis=ax, keepdims=True)\n",
    "        return grad\n",
    "\n",
    "    def __str__(self):\n",
    "        return f'Value(data={self.data})'\n",
    "\n",
    "    def __repr__(self):\n",
    "        return f'Value(data={self.data})'\n",
    "\n",
    "    # -- Binary operations -----------------------\n",
    "    def __add__(self, other):\n",
    "        other = other if isinstance(other, Value) else Value(other) #to support constants\n",
    "        out = Value(self.data + other.data, (self, other), '+')\n",
    "\n",
    "        def _backward():\n",
    "            self.grad += Value._unbroadcast(out.grad, self.shape) # chain rule: dL/dx = dL/dout * dout/dx =  out.grad * 1.0\n",
    "            other.grad += Value._unbroadcast(out.grad, other.shape) # chain rule: dL/dy = dL/dout * dout/dy = out.grad * 1.0\n",
    "        out._backward = _backward\n",
    "        return out\n",
    "\n",
    "    def __radd__(self, other):\n",
    "        return self + other\n",
    "\n",
    "    def __sub__(self, other):\n",
    "        other = other if isinstance(other, Value) else Value(other)\n",
    "        return self + (-other)\n",
    "\n",
    "    def __mul__(self, other):\n",
    "        other = other if isinstance(other, Value) else Value(other)\n",
    "        out = Value(self.data * other.data, (self, other), '*')\n",
    "\n",
    "        def _backward():\n",
    "            self.grad += Value._unbroadcast(other.data * out.grad, self.shape)# Chain rule: dL/dx = dL/dout * dout/dx = out.grad * y\n",
    "            other.grad += Value._unbroadcast(self.data * out.grad, other.shape) #dL/dy = dL/dout * dout/dy = out.grad * x\n",
    "        out._backward = _backward\n",
    "        return out\n",
    "\n",
    "    def __rmul__(self, other):\n",
    "        return self*other\n",
    "\n",
    "    def __truediv__(self, other):\n",
    "        other = other if isinstance(other, Value) else Value(other)\n",
    "        return self * other**-1\n",
    "\n",
    "    def __rtruediv__(self, other):\n",
    "        return Value(other)/self\n",
    "\n",
    "    def __pow__(self, other):\n",
    "        if not isinstance(other, Value):\n",
    "            out = Value(self.data ** other, (self, ), f'**{other}')\n",
    "            def _backward():\n",
    "                self.grad += Value._unbroadcast(other * self.data ** (other-1) * out.grad, self.shape)\n",
    "            out._backward = _backward\n",
    "            return out\n",
    "\n",
    "        other = other if isinstance(other, Value) else Value(other)\n",
    "        out = Value(self.data ** other.data, (self, other), f'**{other.data}')\n",
    "\n",
    "        def _backward():\n",
    "            # derivative wrt x: y * x^(y-1)\n",
    "            self.grad += Value._unbroadcast(other.data * (self.data**(other.data-1)) * out.grad, self.shape)\n",
    "            # derivative wrt y: ln(x) * x^y\n",
    "            other.grad += Value._unbroadcast(np.log(self.data) * out.data * out.grad, other.shape)\n",
    "        out._backward = _backward\n",
    "        return out\n",
    "\n",
    "    def __neg__(self):\n",
    "        return self * -1\n",
    "\n",
    "    # ---- Unary operations -----------------------------\n",
    "    def exp(self):\n",
    "        out = Value(np.exp(self.data), (self,), 'exp')\n",
    "        def _backward():\n",
    "            self.grad += out.data * out.grad\n",
    "        out._backward = _backward\n",
    "        return out\n",
    "\n",
    "    def log(self):\n",
    "        out = Value(np.log(self.data), (self,), 'log')\n",
    "        def _backward():\n",
    "            self.grad += (1 / self.data) * out.grad\n",
    "        out._backward = _backward\n",
    "        return out\n",
    "\n",
    "    def sin(self):\n",
    "        out = Value(np.sin(self.data), (self,), 'sin')\n",
    "        def _backward():\n",
    "            self.grad += np.cos(self.data) * out.grad\n",
    "        out._backward = _backward\n",
    "        return out\n",
    "\n",
    "    def cos(self):\n",
    "        out = Value(np.cos(self.data), (self,), 'cos')\n",
    "        def _backward():\n",
    "            self.grad += -np.sin(self.data) * out.grad\n",
    "        out._backward = _backward\n",
    "        return out\n",
    "\n",
    "    def tanh(self):\n",
    "        t = np.tanh(self.data)\n",
    "        out = Value(t, (self,), 'tanh')\n",
    "        def _backward():\n",
    "            self.grad += (1 - t**2) * out.grad\n",
    "        out._backward = _backward\n",
    "        return out\n",
    "\n",
    "    def relu(self):\n",
    "        out_data = np.maximum(0, self.data)\n",
    "        out = Value(out_data, (self,), 'relu')\n",
    "        def _backward():\n",
    "            self.grad += (out_data > 0) * out.grad\n",
    "        out._backward = _backward\n",
    "        return out\n",
    "\n",
    "    def softplus(self):\n",
    "        # softplus(x) = log(1+exp(x))\n",
    "        sp = np.log1p(np.exp(self.data))\n",
    "        out = Value(sp, (self,), 'softplus')\n",
    "        def _backward():\n",
    "            self.grad += (1 / (1 + np.exp(-self.data))) * out.grad\n",
    "        out._backward = _backward\n",
    "        return out\n",
    "\n",
    "    # Elementwise max/min\n",
    "    def maximum(self, other):\n",
    "        other = other if isinstance(other, Value) else Value(other)\n",
    "        out_data = np.maximum(self.data, other.data)\n",
    "        out = Value(out_data, (self, other), 'max')\n",
    "        def _backward():\n",
    "            mask_self = (self.data >= other.data)\n",
    "            mask_other = ~mask_self\n",
    "            self.grad += mask_self * out.grad\n",
    "            other.grad += mask_other * out.grad\n",
    "        out._backward = _backward\n",
    "        return out\n",
    "\n",
    "    def minimum(self, other):\n",
    "        other = other if isinstance(other, Value) else Value(other)\n",
    "        out_data = np.minimum(self.data, other.data)\n",
    "        out = Value(out_data, (self, other), 'min')\n",
    "        def _backward():\n",
    "            mask_self = (self.data <= other.data)\n",
    "            mask_other = ~mask_self\n",
    "            self.grad += mask_self * out.grad\n",
    "            other.grad += mask_other * out.grad\n",
    "        out._backward = _backward\n",
    "        return out\n",
    "\n",
    "    # --- Graph utils --------------------------\n",
    "\n",
    "    def _build_topo(self, visited=None, topo=None):\n",
    "        if visited is None: visited = set()\n",
    "        if topo is None: topo = []\n",
    "        if self not in visited:\n",
    "            visited.add(self)\n",
    "            for child in self._prev:\n",
    "                child._build_topo(visited, topo)\n",
    "            topo.append(self)\n",
    "        return topo\n",
    "\n",
    "    def backward(self, clear_graph=False):\n",
    "        \"\"\"\n",
    "        backprop gradients from this node to all dependencies.\n",
    "        clear_graph clears _prev and _backward of all nodes, just\n",
    "        to free up memory.\n",
    "        \"\"\"\n",
    "        # build/reuse topological order\n",
    "        self._topo = self._build_topo()\n",
    "        # init output grad and zero others\n",
    "        for node in self._topo:\n",
    "            node.grad = np.zeros_like(node.data, dtype=float) # keep gradients float\n",
    "        self.grad = np.ones_like(self.data, dtype=float) # same here\n",
    "        # backprop\n",
    "        for node in reversed(self._topo):\n",
    "            node._backward()\n",
    "\n",
    "        # optionally clear graph references\n",
    "        if clear_graph:\n",
    "            for node in self._topo:\n",
    "                node._prev = set()\n",
    "                node._backward = lambda : None\n",
    "        return self.grad\n",
    "\n",
    "# -- Gradient-checking utility, following the definition of a derivative ------\n",
    "def gradient_check(func, inputs, eps=1-6, tol=1e-3):\n",
    "    \"\"\"\n",
    "    to numerically verify gradients via a centered difference\n",
    "    :param func: function mapping named Value inputs into a single Value output.\n",
    "    :param inputs: dict of name -> Value instances.\n",
    "    :param eps: perturbation magnitude (h)\n",
    "    :param tol: tolerance for comparison\n",
    "    :return: (analytical_grads, numeric_grads_), with pass/fail per input\n",
    "    \"\"\"\n",
    "    output = func(**inputs)\n",
    "    output.backward(clear_graph=True)\n",
    "    analytical = {name: inp.grad.copy() for name, inp in inputs.items()}\n",
    "\n",
    "    # compute numeric gradients\n",
    "    numeric = {}\n",
    "    for name, inp in inputs.items():\n",
    "        orig = inp.data.copy()\n",
    "        inp.data = orig + eps\n",
    "        f_plus = func(**inputs).data\n",
    "        inp.data = orig-eps\n",
    "        f_minus = func(**inputs).data\n",
    "        inp.data = orig\n",
    "        numeric[name] = (f_plus - f_minus) / (2*eps)\n",
    "\n",
    "    # compare\n",
    "    for name in inputs:\n",
    "        a, n = analytical[name], numeric[name]\n",
    "        if not np.allclose(a, n, atol=tol):\n",
    "            print(f'[FAIL] {name}: analytic={a}, numeric={n}')\n",
    "        else:\n",
    "            print(f'[PASS] {name}: analytic={a}, numeric={n}')\n",
    "    return analytical, numeric\n",
    "\n",
    "\n",
    "points = {'a': Value(2.0), 'b': Value(-3.0), 'c': Value(10.0)}\n",
    "\n",
    "def track_children(func,wrt,h:Value,**kwargs):\n",
    "    inputs_h = kwargs.copy()\n",
    "    #perturb the spec. variable we are diffing with respect to\n",
    "    inputs_h[wrt] += h\n",
    "    base_val = func(**kwargs)\n",
    "    perturbed_val = func(**inputs_h)\n",
    "    derivative_val = (perturbed_val - base_val)/h\n",
    "    return base_val, perturbed_val, derivative_val\n",
    "\n",
    "base_val, perturbed_val_a, derivative_a = track_children(eval_expression, wrt='a', h=Value(0.0001), **points)\n",
    "\n",
    "\n"
   ],
   "id": "7a6cba6ae9cca336",
   "outputs": [],
   "execution_count": 191
  },
  {
   "metadata": {
    "ExecuteTime": {
     "end_time": "2025-07-11T15:22:18.367713Z",
     "start_time": "2025-07-11T15:22:18.191314Z"
    }
   },
   "cell_type": "code",
   "source": [
    "def trace(root):\n",
    "    nodes, edges = set(), set()\n",
    "    def build(v):\n",
    "        if v not in nodes:\n",
    "            nodes.add(v)\n",
    "            for child in v._prev:\n",
    "                edges.add((child, v))\n",
    "                build(child)\n",
    "    build(root)\n",
    "    return nodes, edges\n",
    "\n",
    "def draw_dot(root, format='svg', rankdir='LR'):\n",
    "    dot = Digraph(format=format, graph_attr={'rankdir': rankdir})\n",
    "    nodes, edges = trace(root)\n",
    "    for node in nodes:\n",
    "        uid = str(id(node))\n",
    "        dot.node(name=uid, label=\"{ %s | data %.4f | grad %.4f }\" % (node.label, node.data, node.grad), shape='record')\n",
    "        if node._op:\n",
    "            dot.node(name=uid + node._op, label=node._op)\n",
    "            dot.edge(uid + node._op, uid)\n",
    "\n",
    "    for n1, n2 in edges:\n",
    "        dot.edge(str(id(n1)), str(id(n2)) + n2._op)\n",
    "\n",
    "    return dot\n",
    "\n",
    "a = Value(2.0, label='a')\n",
    "b = Value(-3.0, label='b')\n",
    "c = Value(10.0, label='c')\n",
    "d = a*b; d.label = 'd'\n",
    "e = d+c; e.label = 'e'\n",
    "f = Value(-2.0, label='f')\n",
    "\n",
    "L =  e * f; L.label = 'L'\n",
    "\n",
    "print(e)\n",
    "\n",
    "draw_dot(L)"
   ],
   "id": "7aca753969a52fbd",
   "outputs": [
    {
     "name": "stdout",
     "output_type": "stream",
     "text": [
      "Value(data=4.0)\n"
     ]
    },
    {
     "data": {
      "image/svg+xml": "<?xml version=\"1.0\" encoding=\"UTF-8\" standalone=\"no\"?>\n<!DOCTYPE svg PUBLIC \"-//W3C//DTD SVG 1.1//EN\"\n \"http://www.w3.org/Graphics/SVG/1.1/DTD/svg11.dtd\">\n<!-- Generated by graphviz version 12.2.1 (20241206.2353)\n -->\n<!-- Pages: 1 -->\n<svg width=\"1140pt\" height=\"156pt\"\n viewBox=\"0.00 0.00 1139.75 156.00\" xmlns=\"http://www.w3.org/2000/svg\" xmlns:xlink=\"http://www.w3.org/1999/xlink\">\n<g id=\"graph0\" class=\"graph\" transform=\"scale(1 1) rotate(0) translate(4 152)\">\n<polygon fill=\"white\" stroke=\"none\" points=\"-4,4 -4,-152 1135.75,-152 1135.75,4 -4,4\"/>\n<!-- 4920536576 -->\n<g id=\"node1\" class=\"node\">\n<title>4920536576</title>\n<polygon fill=\"none\" stroke=\"black\" points=\"2.62,-111.5 2.62,-147.5 185.62,-147.5 185.62,-111.5 2.62,-111.5\"/>\n<text text-anchor=\"middle\" x=\"13.62\" y=\"-124.7\" font-family=\"Times,serif\" font-size=\"14.00\">a</text>\n<polyline fill=\"none\" stroke=\"black\" points=\"24.62,-112 24.62,-147.5\"/>\n<text text-anchor=\"middle\" x=\"64.5\" y=\"-124.7\" font-family=\"Times,serif\" font-size=\"14.00\">data 2.0000</text>\n<polyline fill=\"none\" stroke=\"black\" points=\"104.38,-112 104.38,-147.5\"/>\n<text text-anchor=\"middle\" x=\"145\" y=\"-124.7\" font-family=\"Times,serif\" font-size=\"14.00\">grad 0.0000</text>\n</g>\n<!-- 4922165136* -->\n<g id=\"node7\" class=\"node\">\n<title>4922165136*</title>\n<ellipse fill=\"none\" stroke=\"black\" cx=\"251.25\" cy=\"-101.5\" rx=\"27\" ry=\"18\"/>\n<text text-anchor=\"middle\" x=\"251.25\" y=\"-96.45\" font-family=\"Times,serif\" font-size=\"14.00\">*</text>\n</g>\n<!-- 4920536576&#45;&gt;4922165136* -->\n<g id=\"edge5\" class=\"edge\">\n<title>4920536576&#45;&gt;4922165136*</title>\n<path fill=\"none\" stroke=\"black\" d=\"M185.81,-113.13C195.66,-111.35 205.21,-109.63 213.82,-108.08\"/>\n<polygon fill=\"black\" stroke=\"black\" points=\"214.19,-111.57 223.41,-106.34 212.95,-104.68 214.19,-111.57\"/>\n</g>\n<!-- 4922164752 -->\n<g id=\"node2\" class=\"node\">\n<title>4922164752</title>\n<polygon fill=\"none\" stroke=\"black\" points=\"631.5,-55.5 631.5,-91.5 814.5,-91.5 814.5,-55.5 631.5,-55.5\"/>\n<text text-anchor=\"middle\" x=\"642.5\" y=\"-68.7\" font-family=\"Times,serif\" font-size=\"14.00\">e</text>\n<polyline fill=\"none\" stroke=\"black\" points=\"653.5,-56 653.5,-91.5\"/>\n<text text-anchor=\"middle\" x=\"693.38\" y=\"-68.7\" font-family=\"Times,serif\" font-size=\"14.00\">data 4.0000</text>\n<polyline fill=\"none\" stroke=\"black\" points=\"733.25,-56 733.25,-91.5\"/>\n<text text-anchor=\"middle\" x=\"773.88\" y=\"-68.7\" font-family=\"Times,serif\" font-size=\"14.00\">grad 0.0000</text>\n</g>\n<!-- 4922168064* -->\n<g id=\"node5\" class=\"node\">\n<title>4922168064*</title>\n<ellipse fill=\"none\" stroke=\"black\" cx=\"879\" cy=\"-45.5\" rx=\"27\" ry=\"18\"/>\n<text text-anchor=\"middle\" x=\"879\" y=\"-40.45\" font-family=\"Times,serif\" font-size=\"14.00\">*</text>\n</g>\n<!-- 4922164752&#45;&gt;4922168064* -->\n<g id=\"edge8\" class=\"edge\">\n<title>4922164752&#45;&gt;4922168064*</title>\n<path fill=\"none\" stroke=\"black\" d=\"M814.92,-56.97C824.19,-55.28 833.19,-53.65 841.35,-52.16\"/>\n<polygon fill=\"black\" stroke=\"black\" points=\"841.92,-55.62 851.14,-50.38 840.67,-48.73 841.92,-55.62\"/>\n</g>\n<!-- 4922164752+ -->\n<g id=\"node3\" class=\"node\">\n<title>4922164752+</title>\n<ellipse fill=\"none\" stroke=\"black\" cx=\"567\" cy=\"-73.5\" rx=\"27\" ry=\"18\"/>\n<text text-anchor=\"middle\" x=\"567\" y=\"-68.45\" font-family=\"Times,serif\" font-size=\"14.00\">+</text>\n</g>\n<!-- 4922164752+&#45;&gt;4922164752 -->\n<g id=\"edge1\" class=\"edge\">\n<title>4922164752+&#45;&gt;4922164752</title>\n<path fill=\"none\" stroke=\"black\" d=\"M594.47,-73.5C601.93,-73.5 610.52,-73.5 619.65,-73.5\"/>\n<polygon fill=\"black\" stroke=\"black\" points=\"619.49,-77 629.49,-73.5 619.49,-70 619.49,-77\"/>\n</g>\n<!-- 4922168064 -->\n<g id=\"node4\" class=\"node\">\n<title>4922168064</title>\n<polygon fill=\"none\" stroke=\"black\" points=\"942,-27.5 942,-63.5 1131.75,-63.5 1131.75,-27.5 942,-27.5\"/>\n<text text-anchor=\"middle\" x=\"954.12\" y=\"-40.7\" font-family=\"Times,serif\" font-size=\"14.00\">L</text>\n<polyline fill=\"none\" stroke=\"black\" points=\"966.25,-28 966.25,-63.5\"/>\n<text text-anchor=\"middle\" x=\"1008.38\" y=\"-40.7\" font-family=\"Times,serif\" font-size=\"14.00\">data &#45;8.0000</text>\n<polyline fill=\"none\" stroke=\"black\" points=\"1050.5,-28 1050.5,-63.5\"/>\n<text text-anchor=\"middle\" x=\"1091.12\" y=\"-40.7\" font-family=\"Times,serif\" font-size=\"14.00\">grad 0.0000</text>\n</g>\n<!-- 4922168064*&#45;&gt;4922168064 -->\n<g id=\"edge2\" class=\"edge\">\n<title>4922168064*&#45;&gt;4922168064</title>\n<path fill=\"none\" stroke=\"black\" d=\"M906.44,-45.5C913.59,-45.5 921.78,-45.5 930.49,-45.5\"/>\n<polygon fill=\"black\" stroke=\"black\" points=\"930.26,-49 940.26,-45.5 930.26,-42 930.26,-49\"/>\n</g>\n<!-- 4922165136 -->\n<g id=\"node6\" class=\"node\">\n<title>4922165136</title>\n<polygon fill=\"none\" stroke=\"black\" points=\"315,-83.5 315,-119.5 503.25,-119.5 503.25,-83.5 315,-83.5\"/>\n<text text-anchor=\"middle\" x=\"326.38\" y=\"-96.7\" font-family=\"Times,serif\" font-size=\"14.00\">d</text>\n<polyline fill=\"none\" stroke=\"black\" points=\"337.75,-84 337.75,-119.5\"/>\n<text text-anchor=\"middle\" x=\"379.88\" y=\"-96.7\" font-family=\"Times,serif\" font-size=\"14.00\">data &#45;6.0000</text>\n<polyline fill=\"none\" stroke=\"black\" points=\"422,-84 422,-119.5\"/>\n<text text-anchor=\"middle\" x=\"462.62\" y=\"-96.7\" font-family=\"Times,serif\" font-size=\"14.00\">grad 0.0000</text>\n</g>\n<!-- 4922165136&#45;&gt;4922164752+ -->\n<g id=\"edge9\" class=\"edge\">\n<title>4922165136&#45;&gt;4922164752+</title>\n<path fill=\"none\" stroke=\"black\" d=\"M503.5,-84.73C512.65,-83.08 521.5,-81.49 529.52,-80.05\"/>\n<polygon fill=\"black\" stroke=\"black\" points=\"529.91,-83.54 539.14,-78.33 528.68,-76.65 529.91,-83.54\"/>\n</g>\n<!-- 4922165136*&#45;&gt;4922165136 -->\n<g id=\"edge3\" class=\"edge\">\n<title>4922165136*&#45;&gt;4922165136</title>\n<path fill=\"none\" stroke=\"black\" d=\"M278.69,-101.5C285.96,-101.5 294.31,-101.5 303.19,-101.5\"/>\n<polygon fill=\"black\" stroke=\"black\" points=\"303.17,-105 313.17,-101.5 303.17,-98 303.17,-105\"/>\n</g>\n<!-- 4922173344 -->\n<g id=\"node8\" class=\"node\">\n<title>4922173344</title>\n<polygon fill=\"none\" stroke=\"black\" points=\"314.25,-28.5 314.25,-64.5 504,-64.5 504,-28.5 314.25,-28.5\"/>\n<text text-anchor=\"middle\" x=\"325.25\" y=\"-41.7\" font-family=\"Times,serif\" font-size=\"14.00\">c</text>\n<polyline fill=\"none\" stroke=\"black\" points=\"336.25,-29 336.25,-64.5\"/>\n<text text-anchor=\"middle\" x=\"379.5\" y=\"-41.7\" font-family=\"Times,serif\" font-size=\"14.00\">data 10.0000</text>\n<polyline fill=\"none\" stroke=\"black\" points=\"422.75,-29 422.75,-64.5\"/>\n<text text-anchor=\"middle\" x=\"463.38\" y=\"-41.7\" font-family=\"Times,serif\" font-size=\"14.00\">grad 0.0000</text>\n</g>\n<!-- 4922173344&#45;&gt;4922164752+ -->\n<g id=\"edge6\" class=\"edge\">\n<title>4922173344&#45;&gt;4922164752+</title>\n<path fill=\"none\" stroke=\"black\" d=\"M504.39,-62.83C513.16,-64.35 521.65,-65.82 529.37,-67.15\"/>\n<polygon fill=\"black\" stroke=\"black\" points=\"528.5,-70.56 538.95,-68.81 529.69,-63.66 528.5,-70.56\"/>\n</g>\n<!-- 4567079360 -->\n<g id=\"node9\" class=\"node\">\n<title>4567079360</title>\n<polygon fill=\"none\" stroke=\"black\" points=\"0,-56.5 0,-92.5 188.25,-92.5 188.25,-56.5 0,-56.5\"/>\n<text text-anchor=\"middle\" x=\"11.38\" y=\"-69.7\" font-family=\"Times,serif\" font-size=\"14.00\">b</text>\n<polyline fill=\"none\" stroke=\"black\" points=\"22.75,-57 22.75,-92.5\"/>\n<text text-anchor=\"middle\" x=\"64.88\" y=\"-69.7\" font-family=\"Times,serif\" font-size=\"14.00\">data &#45;3.0000</text>\n<polyline fill=\"none\" stroke=\"black\" points=\"107,-57 107,-92.5\"/>\n<text text-anchor=\"middle\" x=\"147.62\" y=\"-69.7\" font-family=\"Times,serif\" font-size=\"14.00\">grad 0.0000</text>\n</g>\n<!-- 4567079360&#45;&gt;4922165136* -->\n<g id=\"edge7\" class=\"edge\">\n<title>4567079360&#45;&gt;4922165136*</title>\n<path fill=\"none\" stroke=\"black\" d=\"M188.49,-90.75C197.27,-92.28 205.77,-93.76 213.51,-95.1\"/>\n<polygon fill=\"black\" stroke=\"black\" points=\"212.66,-98.51 223.11,-96.78 213.86,-91.61 212.66,-98.51\"/>\n</g>\n<!-- 4922164704 -->\n<g id=\"node10\" class=\"node\">\n<title>4922164704</title>\n<polygon fill=\"none\" stroke=\"black\" points=\"630,-0.5 630,-36.5 816,-36.5 816,-0.5 630,-0.5\"/>\n<text text-anchor=\"middle\" x=\"640.25\" y=\"-13.7\" font-family=\"Times,serif\" font-size=\"14.00\">f</text>\n<polyline fill=\"none\" stroke=\"black\" points=\"650.5,-1 650.5,-36.5\"/>\n<text text-anchor=\"middle\" x=\"692.62\" y=\"-13.7\" font-family=\"Times,serif\" font-size=\"14.00\">data &#45;2.0000</text>\n<polyline fill=\"none\" stroke=\"black\" points=\"734.75,-1 734.75,-36.5\"/>\n<text text-anchor=\"middle\" x=\"775.38\" y=\"-13.7\" font-family=\"Times,serif\" font-size=\"14.00\">grad 0.0000</text>\n</g>\n<!-- 4922164704&#45;&gt;4922168064* -->\n<g id=\"edge4\" class=\"edge\">\n<title>4922164704&#45;&gt;4922168064*</title>\n<path fill=\"none\" stroke=\"black\" d=\"M816.25,-34.67C825.01,-36.21 833.5,-37.7 841.24,-39.05\"/>\n<polygon fill=\"black\" stroke=\"black\" points=\"840.39,-42.46 850.84,-40.74 841.6,-35.56 840.39,-42.46\"/>\n</g>\n</g>\n</svg>\n",
      "text/plain": [
       "<graphviz.graphs.Digraph at 0x124ca1de0>"
      ]
     },
     "execution_count": 192,
     "metadata": {},
     "output_type": "execute_result"
    }
   ],
   "execution_count": 192
  },
  {
   "metadata": {
    "ExecuteTime": {
     "end_time": "2025-07-11T15:22:18.394710Z",
     "start_time": "2025-07-11T15:22:18.386495Z"
    }
   },
   "cell_type": "code",
   "source": [
    "L.grad = 1.0\n",
    "\n",
    "def lol():\n",
    "    h = Value(0.00001)\n",
    "    a = Value(2.0, label='a')\n",
    "    b = Value(-3.0, label='b')\n",
    "    c = Value(10.0, label='c')\n",
    "    d = a*b; d.label = 'd'\n",
    "    e = d+c; e.label = 'e'\n",
    "    f = Value(-2.0, label='f')\n",
    "\n",
    "    L1 =  e * f; L1.label = 'L'\n",
    "\n",
    "    a = Value(2.0, label='a')\n",
    "    b = Value(-3.0, label='b')\n",
    "    c = Value(10.0, label='c')\n",
    "    d = a*(b+h); d.label = 'd'\n",
    "    e = d+c; e.label = 'e'\n",
    "    f = Value(-2.0, label='f')\n",
    "\n",
    "    L2 =  e * f; L.label = 'L'\n",
    "\n",
    "\n",
    "    print((L2 - L)/h)\n",
    "\n",
    "lol()\n",
    "\n",
    "\n"
   ],
   "id": "6269205c5fa2a8cc",
   "outputs": [
    {
     "name": "stdout",
     "output_type": "stream",
     "text": [
      "Value(data=-4.00543212890625)\n"
     ]
    }
   ],
   "execution_count": 193
  },
  {
   "metadata": {},
   "cell_type": "markdown",
   "source": [
    "For $f$:\n",
    "\n",
    "$$\n",
    "L = e * f \\rightarrow \\frac{\\partial L}{\\partial f} = e\n",
    "$$\n",
    "\n",
    "Since (e * (f+h))-(e * f)/h = (((e * f) + (e * h))-(e*f))/h = (e * h)/h = e * 1 = e\n",
    "\n",
    "Symmetrically, for $e$:\n",
    "\n",
    "$$\n",
    "L = e * f \\rightarrow \\frac{\\partial L}{\\partial e} = f\n",
    "$$\n"
   ],
   "id": "87395c4c4fe1e7c1"
  },
  {
   "metadata": {
    "ExecuteTime": {
     "end_time": "2025-07-11T15:22:18.565070Z",
     "start_time": "2025-07-11T15:22:18.412568Z"
    }
   },
   "cell_type": "code",
   "source": [
    "e.grad = f.data\n",
    "f.grad = e.data\n",
    "\n",
    "draw_dot(L)\n"
   ],
   "id": "43f0d6f644d73e6d",
   "outputs": [
    {
     "data": {
      "image/svg+xml": "<?xml version=\"1.0\" encoding=\"UTF-8\" standalone=\"no\"?>\n<!DOCTYPE svg PUBLIC \"-//W3C//DTD SVG 1.1//EN\"\n \"http://www.w3.org/Graphics/SVG/1.1/DTD/svg11.dtd\">\n<!-- Generated by graphviz version 12.2.1 (20241206.2353)\n -->\n<!-- Pages: 1 -->\n<svg width=\"1141pt\" height=\"156pt\"\n viewBox=\"0.00 0.00 1141.25 156.00\" xmlns=\"http://www.w3.org/2000/svg\" xmlns:xlink=\"http://www.w3.org/1999/xlink\">\n<g id=\"graph0\" class=\"graph\" transform=\"scale(1 1) rotate(0) translate(4 152)\">\n<polygon fill=\"white\" stroke=\"none\" points=\"-4,4 -4,-152 1137.25,-152 1137.25,4 -4,4\"/>\n<!-- 4920536576 -->\n<g id=\"node1\" class=\"node\">\n<title>4920536576</title>\n<polygon fill=\"none\" stroke=\"black\" points=\"2.62,-111.5 2.62,-147.5 185.62,-147.5 185.62,-111.5 2.62,-111.5\"/>\n<text text-anchor=\"middle\" x=\"13.62\" y=\"-124.7\" font-family=\"Times,serif\" font-size=\"14.00\">a</text>\n<polyline fill=\"none\" stroke=\"black\" points=\"24.62,-112 24.62,-147.5\"/>\n<text text-anchor=\"middle\" x=\"64.5\" y=\"-124.7\" font-family=\"Times,serif\" font-size=\"14.00\">data 2.0000</text>\n<polyline fill=\"none\" stroke=\"black\" points=\"104.38,-112 104.38,-147.5\"/>\n<text text-anchor=\"middle\" x=\"145\" y=\"-124.7\" font-family=\"Times,serif\" font-size=\"14.00\">grad 0.0000</text>\n</g>\n<!-- 4922165136* -->\n<g id=\"node7\" class=\"node\">\n<title>4922165136*</title>\n<ellipse fill=\"none\" stroke=\"black\" cx=\"251.25\" cy=\"-101.5\" rx=\"27\" ry=\"18\"/>\n<text text-anchor=\"middle\" x=\"251.25\" y=\"-96.45\" font-family=\"Times,serif\" font-size=\"14.00\">*</text>\n</g>\n<!-- 4920536576&#45;&gt;4922165136* -->\n<g id=\"edge5\" class=\"edge\">\n<title>4920536576&#45;&gt;4922165136*</title>\n<path fill=\"none\" stroke=\"black\" d=\"M185.81,-113.13C195.66,-111.35 205.21,-109.63 213.82,-108.08\"/>\n<polygon fill=\"black\" stroke=\"black\" points=\"214.19,-111.57 223.41,-106.34 212.95,-104.68 214.19,-111.57\"/>\n</g>\n<!-- 4922164752 -->\n<g id=\"node2\" class=\"node\">\n<title>4922164752</title>\n<polygon fill=\"none\" stroke=\"black\" points=\"630,-55.5 630,-91.5 817.5,-91.5 817.5,-55.5 630,-55.5\"/>\n<text text-anchor=\"middle\" x=\"641\" y=\"-68.7\" font-family=\"Times,serif\" font-size=\"14.00\">e</text>\n<polyline fill=\"none\" stroke=\"black\" points=\"652,-56 652,-91.5\"/>\n<text text-anchor=\"middle\" x=\"691.88\" y=\"-68.7\" font-family=\"Times,serif\" font-size=\"14.00\">data 4.0000</text>\n<polyline fill=\"none\" stroke=\"black\" points=\"731.75,-56 731.75,-91.5\"/>\n<text text-anchor=\"middle\" x=\"774.62\" y=\"-68.7\" font-family=\"Times,serif\" font-size=\"14.00\">grad &#45;2.0000</text>\n</g>\n<!-- 4922168064* -->\n<g id=\"node5\" class=\"node\">\n<title>4922168064*</title>\n<ellipse fill=\"none\" stroke=\"black\" cx=\"880.5\" cy=\"-45.5\" rx=\"27\" ry=\"18\"/>\n<text text-anchor=\"middle\" x=\"880.5\" y=\"-40.45\" font-family=\"Times,serif\" font-size=\"14.00\">*</text>\n</g>\n<!-- 4922164752&#45;&gt;4922168064* -->\n<g id=\"edge8\" class=\"edge\">\n<title>4922164752&#45;&gt;4922168064*</title>\n<path fill=\"none\" stroke=\"black\" d=\"M817.89,-56.65C826.65,-55.06 835.13,-53.53 842.84,-52.13\"/>\n<polygon fill=\"black\" stroke=\"black\" points=\"843.21,-55.62 852.43,-50.4 841.96,-48.73 843.21,-55.62\"/>\n</g>\n<!-- 4922164752+ -->\n<g id=\"node3\" class=\"node\">\n<title>4922164752+</title>\n<ellipse fill=\"none\" stroke=\"black\" cx=\"567\" cy=\"-73.5\" rx=\"27\" ry=\"18\"/>\n<text text-anchor=\"middle\" x=\"567\" y=\"-68.45\" font-family=\"Times,serif\" font-size=\"14.00\">+</text>\n</g>\n<!-- 4922164752+&#45;&gt;4922164752 -->\n<g id=\"edge1\" class=\"edge\">\n<title>4922164752+&#45;&gt;4922164752</title>\n<path fill=\"none\" stroke=\"black\" d=\"M594.25,-73.5C601.41,-73.5 609.62,-73.5 618.35,-73.5\"/>\n<polygon fill=\"black\" stroke=\"black\" points=\"618.14,-77 628.14,-73.5 618.14,-70 618.14,-77\"/>\n</g>\n<!-- 4922168064 -->\n<g id=\"node4\" class=\"node\">\n<title>4922168064</title>\n<polygon fill=\"none\" stroke=\"black\" points=\"943.5,-27.5 943.5,-63.5 1133.25,-63.5 1133.25,-27.5 943.5,-27.5\"/>\n<text text-anchor=\"middle\" x=\"955.62\" y=\"-40.7\" font-family=\"Times,serif\" font-size=\"14.00\">L</text>\n<polyline fill=\"none\" stroke=\"black\" points=\"967.75,-28 967.75,-63.5\"/>\n<text text-anchor=\"middle\" x=\"1009.88\" y=\"-40.7\" font-family=\"Times,serif\" font-size=\"14.00\">data &#45;8.0000</text>\n<polyline fill=\"none\" stroke=\"black\" points=\"1052,-28 1052,-63.5\"/>\n<text text-anchor=\"middle\" x=\"1092.62\" y=\"-40.7\" font-family=\"Times,serif\" font-size=\"14.00\">grad 1.0000</text>\n</g>\n<!-- 4922168064*&#45;&gt;4922168064 -->\n<g id=\"edge2\" class=\"edge\">\n<title>4922168064*&#45;&gt;4922168064</title>\n<path fill=\"none\" stroke=\"black\" d=\"M907.94,-45.5C915.09,-45.5 923.28,-45.5 931.99,-45.5\"/>\n<polygon fill=\"black\" stroke=\"black\" points=\"931.76,-49 941.76,-45.5 931.76,-42 931.76,-49\"/>\n</g>\n<!-- 4922165136 -->\n<g id=\"node6\" class=\"node\">\n<title>4922165136</title>\n<polygon fill=\"none\" stroke=\"black\" points=\"315,-83.5 315,-119.5 503.25,-119.5 503.25,-83.5 315,-83.5\"/>\n<text text-anchor=\"middle\" x=\"326.38\" y=\"-96.7\" font-family=\"Times,serif\" font-size=\"14.00\">d</text>\n<polyline fill=\"none\" stroke=\"black\" points=\"337.75,-84 337.75,-119.5\"/>\n<text text-anchor=\"middle\" x=\"379.88\" y=\"-96.7\" font-family=\"Times,serif\" font-size=\"14.00\">data &#45;6.0000</text>\n<polyline fill=\"none\" stroke=\"black\" points=\"422,-84 422,-119.5\"/>\n<text text-anchor=\"middle\" x=\"462.62\" y=\"-96.7\" font-family=\"Times,serif\" font-size=\"14.00\">grad 0.0000</text>\n</g>\n<!-- 4922165136&#45;&gt;4922164752+ -->\n<g id=\"edge9\" class=\"edge\">\n<title>4922165136&#45;&gt;4922164752+</title>\n<path fill=\"none\" stroke=\"black\" d=\"M503.5,-84.73C512.65,-83.08 521.5,-81.49 529.52,-80.05\"/>\n<polygon fill=\"black\" stroke=\"black\" points=\"529.91,-83.54 539.14,-78.33 528.68,-76.65 529.91,-83.54\"/>\n</g>\n<!-- 4922165136*&#45;&gt;4922165136 -->\n<g id=\"edge3\" class=\"edge\">\n<title>4922165136*&#45;&gt;4922165136</title>\n<path fill=\"none\" stroke=\"black\" d=\"M278.69,-101.5C285.96,-101.5 294.31,-101.5 303.19,-101.5\"/>\n<polygon fill=\"black\" stroke=\"black\" points=\"303.17,-105 313.17,-101.5 303.17,-98 303.17,-105\"/>\n</g>\n<!-- 4922173344 -->\n<g id=\"node8\" class=\"node\">\n<title>4922173344</title>\n<polygon fill=\"none\" stroke=\"black\" points=\"314.25,-28.5 314.25,-64.5 504,-64.5 504,-28.5 314.25,-28.5\"/>\n<text text-anchor=\"middle\" x=\"325.25\" y=\"-41.7\" font-family=\"Times,serif\" font-size=\"14.00\">c</text>\n<polyline fill=\"none\" stroke=\"black\" points=\"336.25,-29 336.25,-64.5\"/>\n<text text-anchor=\"middle\" x=\"379.5\" y=\"-41.7\" font-family=\"Times,serif\" font-size=\"14.00\">data 10.0000</text>\n<polyline fill=\"none\" stroke=\"black\" points=\"422.75,-29 422.75,-64.5\"/>\n<text text-anchor=\"middle\" x=\"463.38\" y=\"-41.7\" font-family=\"Times,serif\" font-size=\"14.00\">grad 0.0000</text>\n</g>\n<!-- 4922173344&#45;&gt;4922164752+ -->\n<g id=\"edge6\" class=\"edge\">\n<title>4922173344&#45;&gt;4922164752+</title>\n<path fill=\"none\" stroke=\"black\" d=\"M504.39,-62.83C513.16,-64.35 521.65,-65.82 529.37,-67.15\"/>\n<polygon fill=\"black\" stroke=\"black\" points=\"528.5,-70.56 538.95,-68.81 529.69,-63.66 528.5,-70.56\"/>\n</g>\n<!-- 4567079360 -->\n<g id=\"node9\" class=\"node\">\n<title>4567079360</title>\n<polygon fill=\"none\" stroke=\"black\" points=\"0,-56.5 0,-92.5 188.25,-92.5 188.25,-56.5 0,-56.5\"/>\n<text text-anchor=\"middle\" x=\"11.38\" y=\"-69.7\" font-family=\"Times,serif\" font-size=\"14.00\">b</text>\n<polyline fill=\"none\" stroke=\"black\" points=\"22.75,-57 22.75,-92.5\"/>\n<text text-anchor=\"middle\" x=\"64.88\" y=\"-69.7\" font-family=\"Times,serif\" font-size=\"14.00\">data &#45;3.0000</text>\n<polyline fill=\"none\" stroke=\"black\" points=\"107,-57 107,-92.5\"/>\n<text text-anchor=\"middle\" x=\"147.62\" y=\"-69.7\" font-family=\"Times,serif\" font-size=\"14.00\">grad 0.0000</text>\n</g>\n<!-- 4567079360&#45;&gt;4922165136* -->\n<g id=\"edge7\" class=\"edge\">\n<title>4567079360&#45;&gt;4922165136*</title>\n<path fill=\"none\" stroke=\"black\" d=\"M188.49,-90.75C197.27,-92.28 205.77,-93.76 213.51,-95.1\"/>\n<polygon fill=\"black\" stroke=\"black\" points=\"212.66,-98.51 223.11,-96.78 213.86,-91.61 212.66,-98.51\"/>\n</g>\n<!-- 4922164704 -->\n<g id=\"node10\" class=\"node\">\n<title>4922164704</title>\n<polygon fill=\"none\" stroke=\"black\" points=\"630.75,-0.5 630.75,-36.5 816.75,-36.5 816.75,-0.5 630.75,-0.5\"/>\n<text text-anchor=\"middle\" x=\"641\" y=\"-13.7\" font-family=\"Times,serif\" font-size=\"14.00\">f</text>\n<polyline fill=\"none\" stroke=\"black\" points=\"651.25,-1 651.25,-36.5\"/>\n<text text-anchor=\"middle\" x=\"693.38\" y=\"-13.7\" font-family=\"Times,serif\" font-size=\"14.00\">data &#45;2.0000</text>\n<polyline fill=\"none\" stroke=\"black\" points=\"735.5,-1 735.5,-36.5\"/>\n<text text-anchor=\"middle\" x=\"776.12\" y=\"-13.7\" font-family=\"Times,serif\" font-size=\"14.00\">grad 4.0000</text>\n</g>\n<!-- 4922164704&#45;&gt;4922168064* -->\n<g id=\"edge4\" class=\"edge\">\n<title>4922164704&#45;&gt;4922168064*</title>\n<path fill=\"none\" stroke=\"black\" d=\"M817,-34.6C826.14,-36.19 834.98,-37.73 843,-39.13\"/>\n<polygon fill=\"black\" stroke=\"black\" points=\"842.16,-42.54 852.62,-40.81 843.37,-35.64 842.16,-42.54\"/>\n</g>\n</g>\n</svg>\n",
      "text/plain": [
       "<graphviz.graphs.Digraph at 0x1256070d0>"
      ]
     },
     "execution_count": 194,
     "metadata": {},
     "output_type": "execute_result"
    }
   ],
   "execution_count": 194
  },
  {
   "metadata": {},
   "cell_type": "markdown",
   "source": [
    "Continuing down the graph, we now need $\\frac{\\partial L}{\\partial c}$, but:\n",
    "\n",
    "$$\n",
    "L = e * f, \\text{where} \\space e = c + d\n",
    "$$\n",
    "\n",
    "So we know that $c$ impacts $L$ through $e$. So the impact of $c$ on $L$ is a combination of the sensitivity of $e$ to $c$, and of $L$ to $e$. We use the chain rule:\n",
    "\n",
    "$$\n",
    "\\frac{\\partial L}{\\partial c} = \\frac{\\partial L}{\\partial e} \\frac{\\partial e}{\\partial c}\n",
    "$$\n",
    "\n",
    "We know $\\frac{\\partial L}{\\partial e}$ and:\n",
    "\n",
    "$$\n",
    "\\frac{\\partial e}{\\partial c} = 1\n",
    "$$\n",
    "\n",
    "since e = d + c -> ((d + (c + h)) - (d + c))/h = h / h = 1\n",
    "\n",
    "so\n",
    "\n",
    "$$\n",
    "\\frac{\\partial L}{\\partial c} = \\frac{\\partial L}{\\partial e} \\frac{\\partial e}{\\partial c} = f * 1 = -2\n",
    "$$\n",
    "\n",
    "$\\frac{\\partial e}{\\partial d}$ is also -2 (by the same logic). All of this can be verified through `lol`."
   ],
   "id": "dd78127a1ac6a9b1"
  },
  {
   "metadata": {
    "ExecuteTime": {
     "end_time": "2025-07-11T15:22:18.763834Z",
     "start_time": "2025-07-11T15:22:18.609667Z"
    }
   },
   "cell_type": "code",
   "source": [
    "c.grad = -2.0\n",
    "d.grad = -2.0\n",
    "draw_dot(L)"
   ],
   "id": "823bde38295a0a74",
   "outputs": [
    {
     "data": {
      "image/svg+xml": "<?xml version=\"1.0\" encoding=\"UTF-8\" standalone=\"no\"?>\n<!DOCTYPE svg PUBLIC \"-//W3C//DTD SVG 1.1//EN\"\n \"http://www.w3.org/Graphics/SVG/1.1/DTD/svg11.dtd\">\n<!-- Generated by graphviz version 12.2.1 (20241206.2353)\n -->\n<!-- Pages: 1 -->\n<svg width=\"1146pt\" height=\"156pt\"\n viewBox=\"0.00 0.00 1145.75 156.00\" xmlns=\"http://www.w3.org/2000/svg\" xmlns:xlink=\"http://www.w3.org/1999/xlink\">\n<g id=\"graph0\" class=\"graph\" transform=\"scale(1 1) rotate(0) translate(4 152)\">\n<polygon fill=\"white\" stroke=\"none\" points=\"-4,4 -4,-152 1141.75,-152 1141.75,4 -4,4\"/>\n<!-- 4920536576 -->\n<g id=\"node1\" class=\"node\">\n<title>4920536576</title>\n<polygon fill=\"none\" stroke=\"black\" points=\"2.62,-111.5 2.62,-147.5 185.62,-147.5 185.62,-111.5 2.62,-111.5\"/>\n<text text-anchor=\"middle\" x=\"13.62\" y=\"-124.7\" font-family=\"Times,serif\" font-size=\"14.00\">a</text>\n<polyline fill=\"none\" stroke=\"black\" points=\"24.62,-112 24.62,-147.5\"/>\n<text text-anchor=\"middle\" x=\"64.5\" y=\"-124.7\" font-family=\"Times,serif\" font-size=\"14.00\">data 2.0000</text>\n<polyline fill=\"none\" stroke=\"black\" points=\"104.38,-112 104.38,-147.5\"/>\n<text text-anchor=\"middle\" x=\"145\" y=\"-124.7\" font-family=\"Times,serif\" font-size=\"14.00\">grad 0.0000</text>\n</g>\n<!-- 4922165136* -->\n<g id=\"node7\" class=\"node\">\n<title>4922165136*</title>\n<ellipse fill=\"none\" stroke=\"black\" cx=\"251.25\" cy=\"-101.5\" rx=\"27\" ry=\"18\"/>\n<text text-anchor=\"middle\" x=\"251.25\" y=\"-96.45\" font-family=\"Times,serif\" font-size=\"14.00\">*</text>\n</g>\n<!-- 4920536576&#45;&gt;4922165136* -->\n<g id=\"edge5\" class=\"edge\">\n<title>4920536576&#45;&gt;4922165136*</title>\n<path fill=\"none\" stroke=\"black\" d=\"M185.81,-113.13C195.66,-111.35 205.21,-109.63 213.82,-108.08\"/>\n<polygon fill=\"black\" stroke=\"black\" points=\"214.19,-111.57 223.41,-106.34 212.95,-104.68 214.19,-111.57\"/>\n</g>\n<!-- 4922164752 -->\n<g id=\"node2\" class=\"node\">\n<title>4922164752</title>\n<polygon fill=\"none\" stroke=\"black\" points=\"634.5,-55.5 634.5,-91.5 822,-91.5 822,-55.5 634.5,-55.5\"/>\n<text text-anchor=\"middle\" x=\"645.5\" y=\"-68.7\" font-family=\"Times,serif\" font-size=\"14.00\">e</text>\n<polyline fill=\"none\" stroke=\"black\" points=\"656.5,-56 656.5,-91.5\"/>\n<text text-anchor=\"middle\" x=\"696.38\" y=\"-68.7\" font-family=\"Times,serif\" font-size=\"14.00\">data 4.0000</text>\n<polyline fill=\"none\" stroke=\"black\" points=\"736.25,-56 736.25,-91.5\"/>\n<text text-anchor=\"middle\" x=\"779.12\" y=\"-68.7\" font-family=\"Times,serif\" font-size=\"14.00\">grad &#45;2.0000</text>\n</g>\n<!-- 4922168064* -->\n<g id=\"node5\" class=\"node\">\n<title>4922168064*</title>\n<ellipse fill=\"none\" stroke=\"black\" cx=\"885\" cy=\"-45.5\" rx=\"27\" ry=\"18\"/>\n<text text-anchor=\"middle\" x=\"885\" y=\"-40.45\" font-family=\"Times,serif\" font-size=\"14.00\">*</text>\n</g>\n<!-- 4922164752&#45;&gt;4922168064* -->\n<g id=\"edge8\" class=\"edge\">\n<title>4922164752&#45;&gt;4922168064*</title>\n<path fill=\"none\" stroke=\"black\" d=\"M822.39,-56.65C831.15,-55.06 839.63,-53.53 847.34,-52.13\"/>\n<polygon fill=\"black\" stroke=\"black\" points=\"847.71,-55.62 856.93,-50.4 846.46,-48.73 847.71,-55.62\"/>\n</g>\n<!-- 4922164752+ -->\n<g id=\"node3\" class=\"node\">\n<title>4922164752+</title>\n<ellipse fill=\"none\" stroke=\"black\" cx=\"571.5\" cy=\"-73.5\" rx=\"27\" ry=\"18\"/>\n<text text-anchor=\"middle\" x=\"571.5\" y=\"-68.45\" font-family=\"Times,serif\" font-size=\"14.00\">+</text>\n</g>\n<!-- 4922164752+&#45;&gt;4922164752 -->\n<g id=\"edge1\" class=\"edge\">\n<title>4922164752+&#45;&gt;4922164752</title>\n<path fill=\"none\" stroke=\"black\" d=\"M598.75,-73.5C605.91,-73.5 614.12,-73.5 622.85,-73.5\"/>\n<polygon fill=\"black\" stroke=\"black\" points=\"622.64,-77 632.64,-73.5 622.64,-70 622.64,-77\"/>\n</g>\n<!-- 4922168064 -->\n<g id=\"node4\" class=\"node\">\n<title>4922168064</title>\n<polygon fill=\"none\" stroke=\"black\" points=\"948,-27.5 948,-63.5 1137.75,-63.5 1137.75,-27.5 948,-27.5\"/>\n<text text-anchor=\"middle\" x=\"960.12\" y=\"-40.7\" font-family=\"Times,serif\" font-size=\"14.00\">L</text>\n<polyline fill=\"none\" stroke=\"black\" points=\"972.25,-28 972.25,-63.5\"/>\n<text text-anchor=\"middle\" x=\"1014.38\" y=\"-40.7\" font-family=\"Times,serif\" font-size=\"14.00\">data &#45;8.0000</text>\n<polyline fill=\"none\" stroke=\"black\" points=\"1056.5,-28 1056.5,-63.5\"/>\n<text text-anchor=\"middle\" x=\"1097.12\" y=\"-40.7\" font-family=\"Times,serif\" font-size=\"14.00\">grad 1.0000</text>\n</g>\n<!-- 4922168064*&#45;&gt;4922168064 -->\n<g id=\"edge2\" class=\"edge\">\n<title>4922168064*&#45;&gt;4922168064</title>\n<path fill=\"none\" stroke=\"black\" d=\"M912.44,-45.5C919.59,-45.5 927.78,-45.5 936.49,-45.5\"/>\n<polygon fill=\"black\" stroke=\"black\" points=\"936.26,-49 946.26,-45.5 936.26,-42 936.26,-49\"/>\n</g>\n<!-- 4922165136 -->\n<g id=\"node6\" class=\"node\">\n<title>4922165136</title>\n<polygon fill=\"none\" stroke=\"black\" points=\"315,-83.5 315,-119.5 507.75,-119.5 507.75,-83.5 315,-83.5\"/>\n<text text-anchor=\"middle\" x=\"326.38\" y=\"-96.7\" font-family=\"Times,serif\" font-size=\"14.00\">d</text>\n<polyline fill=\"none\" stroke=\"black\" points=\"337.75,-84 337.75,-119.5\"/>\n<text text-anchor=\"middle\" x=\"379.88\" y=\"-96.7\" font-family=\"Times,serif\" font-size=\"14.00\">data &#45;6.0000</text>\n<polyline fill=\"none\" stroke=\"black\" points=\"422,-84 422,-119.5\"/>\n<text text-anchor=\"middle\" x=\"464.88\" y=\"-96.7\" font-family=\"Times,serif\" font-size=\"14.00\">grad &#45;2.0000</text>\n</g>\n<!-- 4922165136&#45;&gt;4922164752+ -->\n<g id=\"edge9\" class=\"edge\">\n<title>4922165136&#45;&gt;4922164752+</title>\n<path fill=\"none\" stroke=\"black\" d=\"M508,-84.57C516.99,-82.98 525.67,-81.44 533.57,-80.04\"/>\n<polygon fill=\"black\" stroke=\"black\" points=\"534.15,-83.49 543.38,-78.3 532.93,-76.6 534.15,-83.49\"/>\n</g>\n<!-- 4922165136*&#45;&gt;4922165136 -->\n<g id=\"edge3\" class=\"edge\">\n<title>4922165136*&#45;&gt;4922165136</title>\n<path fill=\"none\" stroke=\"black\" d=\"M278.72,-101.5C285.95,-101.5 294.26,-101.5 303.11,-101.5\"/>\n<polygon fill=\"black\" stroke=\"black\" points=\"303.05,-105 313.05,-101.5 303.05,-98 303.05,-105\"/>\n</g>\n<!-- 4922173344 -->\n<g id=\"node8\" class=\"node\">\n<title>4922173344</title>\n<polygon fill=\"none\" stroke=\"black\" points=\"314.25,-28.5 314.25,-64.5 508.5,-64.5 508.5,-28.5 314.25,-28.5\"/>\n<text text-anchor=\"middle\" x=\"325.25\" y=\"-41.7\" font-family=\"Times,serif\" font-size=\"14.00\">c</text>\n<polyline fill=\"none\" stroke=\"black\" points=\"336.25,-29 336.25,-64.5\"/>\n<text text-anchor=\"middle\" x=\"379.5\" y=\"-41.7\" font-family=\"Times,serif\" font-size=\"14.00\">data 10.0000</text>\n<polyline fill=\"none\" stroke=\"black\" points=\"422.75,-29 422.75,-64.5\"/>\n<text text-anchor=\"middle\" x=\"465.62\" y=\"-41.7\" font-family=\"Times,serif\" font-size=\"14.00\">grad &#45;2.0000</text>\n</g>\n<!-- 4922173344&#45;&gt;4922164752+ -->\n<g id=\"edge6\" class=\"edge\">\n<title>4922173344&#45;&gt;4922164752+</title>\n<path fill=\"none\" stroke=\"black\" d=\"M508.91,-62.98C517.6,-64.47 526,-65.9 533.65,-67.21\"/>\n<polygon fill=\"black\" stroke=\"black\" points=\"533.05,-70.66 543.5,-68.89 534.23,-63.76 533.05,-70.66\"/>\n</g>\n<!-- 4567079360 -->\n<g id=\"node9\" class=\"node\">\n<title>4567079360</title>\n<polygon fill=\"none\" stroke=\"black\" points=\"0,-56.5 0,-92.5 188.25,-92.5 188.25,-56.5 0,-56.5\"/>\n<text text-anchor=\"middle\" x=\"11.38\" y=\"-69.7\" font-family=\"Times,serif\" font-size=\"14.00\">b</text>\n<polyline fill=\"none\" stroke=\"black\" points=\"22.75,-57 22.75,-92.5\"/>\n<text text-anchor=\"middle\" x=\"64.88\" y=\"-69.7\" font-family=\"Times,serif\" font-size=\"14.00\">data &#45;3.0000</text>\n<polyline fill=\"none\" stroke=\"black\" points=\"107,-57 107,-92.5\"/>\n<text text-anchor=\"middle\" x=\"147.62\" y=\"-69.7\" font-family=\"Times,serif\" font-size=\"14.00\">grad 0.0000</text>\n</g>\n<!-- 4567079360&#45;&gt;4922165136* -->\n<g id=\"edge7\" class=\"edge\">\n<title>4567079360&#45;&gt;4922165136*</title>\n<path fill=\"none\" stroke=\"black\" d=\"M188.49,-90.75C197.27,-92.28 205.77,-93.76 213.51,-95.1\"/>\n<polygon fill=\"black\" stroke=\"black\" points=\"212.66,-98.51 223.11,-96.78 213.86,-91.61 212.66,-98.51\"/>\n</g>\n<!-- 4922164704 -->\n<g id=\"node10\" class=\"node\">\n<title>4922164704</title>\n<polygon fill=\"none\" stroke=\"black\" points=\"635.25,-0.5 635.25,-36.5 821.25,-36.5 821.25,-0.5 635.25,-0.5\"/>\n<text text-anchor=\"middle\" x=\"645.5\" y=\"-13.7\" font-family=\"Times,serif\" font-size=\"14.00\">f</text>\n<polyline fill=\"none\" stroke=\"black\" points=\"655.75,-1 655.75,-36.5\"/>\n<text text-anchor=\"middle\" x=\"697.88\" y=\"-13.7\" font-family=\"Times,serif\" font-size=\"14.00\">data &#45;2.0000</text>\n<polyline fill=\"none\" stroke=\"black\" points=\"740,-1 740,-36.5\"/>\n<text text-anchor=\"middle\" x=\"780.62\" y=\"-13.7\" font-family=\"Times,serif\" font-size=\"14.00\">grad 4.0000</text>\n</g>\n<!-- 4922164704&#45;&gt;4922168064* -->\n<g id=\"edge4\" class=\"edge\">\n<title>4922164704&#45;&gt;4922168064*</title>\n<path fill=\"none\" stroke=\"black\" d=\"M821.5,-34.6C830.64,-36.19 839.48,-37.73 847.5,-39.13\"/>\n<polygon fill=\"black\" stroke=\"black\" points=\"846.66,-42.54 857.12,-40.81 847.87,-35.64 846.66,-42.54\"/>\n</g>\n</g>\n</svg>\n",
      "text/plain": [
       "<graphviz.graphs.Digraph at 0x125607490>"
      ]
     },
     "execution_count": 195,
     "metadata": {},
     "output_type": "execute_result"
    }
   ],
   "execution_count": 195
  },
  {
   "metadata": {},
   "cell_type": "markdown",
   "source": [
    "Continuing down the graph, we now need $\\frac{\\partial L}{\\partial b}$ and:\n",
    "\n",
    "$$\n",
    "L = e * f, \\space \\text{where} \\space e = c + d, \\space \\text{where} \\space d = a * b\n",
    "$$\n",
    "\n",
    "So $b$ impacts $L$ through $d$, which impacts $e$, which impacts $L$. So the impact of $b$ on $L$ is a combination of the sensitivity of $d$ to $b$, of $e$ to $d$, and of $L$ to $e$. Again, we use the chain rule:\n",
    "\n",
    "$$\n",
    "\\frac{\\partial L}{\\partial b} = \\frac{\\partial L}{\\partial e}\\frac{\\partial e}{\\partial d}\\frac{\\partial d}{\\partial b}\n",
    "$$\n",
    "\n",
    "We know $\\frac{\\partial L}{\\partial e}$ = $f$ = -2.0, and $\\frac{\\partial e}{\\partial d}$ = 1, and:\n",
    "\n",
    "$$\n",
    "\\frac{\\partial d}{\\partial b} = a = 2.0\n",
    "$$\n",
    "\n",
    "since ((a * (b+h)) - (a * b))/h = (((a * b)+(a * h)) - (a * b))/h = (a * h) / h = a\n",
    "\n",
    "and so:\n",
    "\n",
    "$$\n",
    "\\frac{\\partial L}{\\partial b} = \\frac{\\partial L}{\\partial e}\\frac{\\partial e}{\\partial d}\\frac{\\partial d}{\\partial b} = -2 * 1 * 2 = -4\n",
    "$$\n",
    "\n",
    "\n",
    "\n",
    "By the same logic $\\frac{\\partial L}{\\partial a}$ = $b$ = 6.0"
   ],
   "id": "b5916552e05fffa2"
  },
  {
   "metadata": {
    "ExecuteTime": {
     "end_time": "2025-07-11T15:22:18.935471Z",
     "start_time": "2025-07-11T15:22:18.784170Z"
    }
   },
   "cell_type": "code",
   "source": [
    "a.grad = 6.0\n",
    "b.grad = -4.0\n",
    "draw_dot(L)"
   ],
   "id": "21e86bc7fe5a74a7",
   "outputs": [
    {
     "data": {
      "image/svg+xml": "<?xml version=\"1.0\" encoding=\"UTF-8\" standalone=\"no\"?>\n<!DOCTYPE svg PUBLIC \"-//W3C//DTD SVG 1.1//EN\"\n \"http://www.w3.org/Graphics/SVG/1.1/DTD/svg11.dtd\">\n<!-- Generated by graphviz version 12.2.1 (20241206.2353)\n -->\n<!-- Pages: 1 -->\n<svg width=\"1150pt\" height=\"156pt\"\n viewBox=\"0.00 0.00 1150.25 156.00\" xmlns=\"http://www.w3.org/2000/svg\" xmlns:xlink=\"http://www.w3.org/1999/xlink\">\n<g id=\"graph0\" class=\"graph\" transform=\"scale(1 1) rotate(0) translate(4 152)\">\n<polygon fill=\"white\" stroke=\"none\" points=\"-4,4 -4,-152 1146.25,-152 1146.25,4 -4,4\"/>\n<!-- 4920536576 -->\n<g id=\"node1\" class=\"node\">\n<title>4920536576</title>\n<polygon fill=\"none\" stroke=\"black\" points=\"4.88,-111.5 4.88,-147.5 187.88,-147.5 187.88,-111.5 4.88,-111.5\"/>\n<text text-anchor=\"middle\" x=\"15.88\" y=\"-124.7\" font-family=\"Times,serif\" font-size=\"14.00\">a</text>\n<polyline fill=\"none\" stroke=\"black\" points=\"26.88,-112 26.88,-147.5\"/>\n<text text-anchor=\"middle\" x=\"66.75\" y=\"-124.7\" font-family=\"Times,serif\" font-size=\"14.00\">data 2.0000</text>\n<polyline fill=\"none\" stroke=\"black\" points=\"106.62,-112 106.62,-147.5\"/>\n<text text-anchor=\"middle\" x=\"147.25\" y=\"-124.7\" font-family=\"Times,serif\" font-size=\"14.00\">grad 6.0000</text>\n</g>\n<!-- 4922165136* -->\n<g id=\"node7\" class=\"node\">\n<title>4922165136*</title>\n<ellipse fill=\"none\" stroke=\"black\" cx=\"255.75\" cy=\"-101.5\" rx=\"27\" ry=\"18\"/>\n<text text-anchor=\"middle\" x=\"255.75\" y=\"-96.45\" font-family=\"Times,serif\" font-size=\"14.00\">*</text>\n</g>\n<!-- 4920536576&#45;&gt;4922165136* -->\n<g id=\"edge5\" class=\"edge\">\n<title>4920536576&#45;&gt;4922165136*</title>\n<path fill=\"none\" stroke=\"black\" d=\"M188.01,-113.37C198.67,-111.48 209.04,-109.63 218.3,-107.99\"/>\n<polygon fill=\"black\" stroke=\"black\" points=\"218.65,-111.48 227.88,-106.28 217.42,-104.59 218.65,-111.48\"/>\n</g>\n<!-- 4922164752 -->\n<g id=\"node2\" class=\"node\">\n<title>4922164752</title>\n<polygon fill=\"none\" stroke=\"black\" points=\"639,-55.5 639,-91.5 826.5,-91.5 826.5,-55.5 639,-55.5\"/>\n<text text-anchor=\"middle\" x=\"650\" y=\"-68.7\" font-family=\"Times,serif\" font-size=\"14.00\">e</text>\n<polyline fill=\"none\" stroke=\"black\" points=\"661,-56 661,-91.5\"/>\n<text text-anchor=\"middle\" x=\"700.88\" y=\"-68.7\" font-family=\"Times,serif\" font-size=\"14.00\">data 4.0000</text>\n<polyline fill=\"none\" stroke=\"black\" points=\"740.75,-56 740.75,-91.5\"/>\n<text text-anchor=\"middle\" x=\"783.62\" y=\"-68.7\" font-family=\"Times,serif\" font-size=\"14.00\">grad &#45;2.0000</text>\n</g>\n<!-- 4922168064* -->\n<g id=\"node5\" class=\"node\">\n<title>4922168064*</title>\n<ellipse fill=\"none\" stroke=\"black\" cx=\"889.5\" cy=\"-45.5\" rx=\"27\" ry=\"18\"/>\n<text text-anchor=\"middle\" x=\"889.5\" y=\"-40.45\" font-family=\"Times,serif\" font-size=\"14.00\">*</text>\n</g>\n<!-- 4922164752&#45;&gt;4922168064* -->\n<g id=\"edge8\" class=\"edge\">\n<title>4922164752&#45;&gt;4922168064*</title>\n<path fill=\"none\" stroke=\"black\" d=\"M826.89,-56.65C835.65,-55.06 844.13,-53.53 851.84,-52.13\"/>\n<polygon fill=\"black\" stroke=\"black\" points=\"852.21,-55.62 861.43,-50.4 850.96,-48.73 852.21,-55.62\"/>\n</g>\n<!-- 4922164752+ -->\n<g id=\"node3\" class=\"node\">\n<title>4922164752+</title>\n<ellipse fill=\"none\" stroke=\"black\" cx=\"576\" cy=\"-73.5\" rx=\"27\" ry=\"18\"/>\n<text text-anchor=\"middle\" x=\"576\" y=\"-68.45\" font-family=\"Times,serif\" font-size=\"14.00\">+</text>\n</g>\n<!-- 4922164752+&#45;&gt;4922164752 -->\n<g id=\"edge1\" class=\"edge\">\n<title>4922164752+&#45;&gt;4922164752</title>\n<path fill=\"none\" stroke=\"black\" d=\"M603.25,-73.5C610.41,-73.5 618.62,-73.5 627.35,-73.5\"/>\n<polygon fill=\"black\" stroke=\"black\" points=\"627.14,-77 637.14,-73.5 627.14,-70 627.14,-77\"/>\n</g>\n<!-- 4922168064 -->\n<g id=\"node4\" class=\"node\">\n<title>4922168064</title>\n<polygon fill=\"none\" stroke=\"black\" points=\"952.5,-27.5 952.5,-63.5 1142.25,-63.5 1142.25,-27.5 952.5,-27.5\"/>\n<text text-anchor=\"middle\" x=\"964.62\" y=\"-40.7\" font-family=\"Times,serif\" font-size=\"14.00\">L</text>\n<polyline fill=\"none\" stroke=\"black\" points=\"976.75,-28 976.75,-63.5\"/>\n<text text-anchor=\"middle\" x=\"1018.88\" y=\"-40.7\" font-family=\"Times,serif\" font-size=\"14.00\">data &#45;8.0000</text>\n<polyline fill=\"none\" stroke=\"black\" points=\"1061,-28 1061,-63.5\"/>\n<text text-anchor=\"middle\" x=\"1101.62\" y=\"-40.7\" font-family=\"Times,serif\" font-size=\"14.00\">grad 1.0000</text>\n</g>\n<!-- 4922168064*&#45;&gt;4922168064 -->\n<g id=\"edge2\" class=\"edge\">\n<title>4922168064*&#45;&gt;4922168064</title>\n<path fill=\"none\" stroke=\"black\" d=\"M916.94,-45.5C924.09,-45.5 932.28,-45.5 940.99,-45.5\"/>\n<polygon fill=\"black\" stroke=\"black\" points=\"940.76,-49 950.76,-45.5 940.76,-42 940.76,-49\"/>\n</g>\n<!-- 4922165136 -->\n<g id=\"node6\" class=\"node\">\n<title>4922165136</title>\n<polygon fill=\"none\" stroke=\"black\" points=\"319.5,-83.5 319.5,-119.5 512.25,-119.5 512.25,-83.5 319.5,-83.5\"/>\n<text text-anchor=\"middle\" x=\"330.88\" y=\"-96.7\" font-family=\"Times,serif\" font-size=\"14.00\">d</text>\n<polyline fill=\"none\" stroke=\"black\" points=\"342.25,-84 342.25,-119.5\"/>\n<text text-anchor=\"middle\" x=\"384.38\" y=\"-96.7\" font-family=\"Times,serif\" font-size=\"14.00\">data &#45;6.0000</text>\n<polyline fill=\"none\" stroke=\"black\" points=\"426.5,-84 426.5,-119.5\"/>\n<text text-anchor=\"middle\" x=\"469.38\" y=\"-96.7\" font-family=\"Times,serif\" font-size=\"14.00\">grad &#45;2.0000</text>\n</g>\n<!-- 4922165136&#45;&gt;4922164752+ -->\n<g id=\"edge9\" class=\"edge\">\n<title>4922165136&#45;&gt;4922164752+</title>\n<path fill=\"none\" stroke=\"black\" d=\"M512.5,-84.57C521.49,-82.98 530.17,-81.44 538.07,-80.04\"/>\n<polygon fill=\"black\" stroke=\"black\" points=\"538.65,-83.49 547.88,-78.3 537.43,-76.6 538.65,-83.49\"/>\n</g>\n<!-- 4922165136*&#45;&gt;4922165136 -->\n<g id=\"edge3\" class=\"edge\">\n<title>4922165136*&#45;&gt;4922165136</title>\n<path fill=\"none\" stroke=\"black\" d=\"M283.22,-101.5C290.45,-101.5 298.76,-101.5 307.61,-101.5\"/>\n<polygon fill=\"black\" stroke=\"black\" points=\"307.55,-105 317.55,-101.5 307.55,-98 307.55,-105\"/>\n</g>\n<!-- 4922173344 -->\n<g id=\"node8\" class=\"node\">\n<title>4922173344</title>\n<polygon fill=\"none\" stroke=\"black\" points=\"318.75,-28.5 318.75,-64.5 513,-64.5 513,-28.5 318.75,-28.5\"/>\n<text text-anchor=\"middle\" x=\"329.75\" y=\"-41.7\" font-family=\"Times,serif\" font-size=\"14.00\">c</text>\n<polyline fill=\"none\" stroke=\"black\" points=\"340.75,-29 340.75,-64.5\"/>\n<text text-anchor=\"middle\" x=\"384\" y=\"-41.7\" font-family=\"Times,serif\" font-size=\"14.00\">data 10.0000</text>\n<polyline fill=\"none\" stroke=\"black\" points=\"427.25,-29 427.25,-64.5\"/>\n<text text-anchor=\"middle\" x=\"470.12\" y=\"-41.7\" font-family=\"Times,serif\" font-size=\"14.00\">grad &#45;2.0000</text>\n</g>\n<!-- 4922173344&#45;&gt;4922164752+ -->\n<g id=\"edge6\" class=\"edge\">\n<title>4922173344&#45;&gt;4922164752+</title>\n<path fill=\"none\" stroke=\"black\" d=\"M513.41,-62.98C522.1,-64.47 530.5,-65.9 538.15,-67.21\"/>\n<polygon fill=\"black\" stroke=\"black\" points=\"537.55,-70.66 548,-68.89 538.73,-63.76 537.55,-70.66\"/>\n</g>\n<!-- 4567079360 -->\n<g id=\"node9\" class=\"node\">\n<title>4567079360</title>\n<polygon fill=\"none\" stroke=\"black\" points=\"0,-56.5 0,-92.5 192.75,-92.5 192.75,-56.5 0,-56.5\"/>\n<text text-anchor=\"middle\" x=\"11.38\" y=\"-69.7\" font-family=\"Times,serif\" font-size=\"14.00\">b</text>\n<polyline fill=\"none\" stroke=\"black\" points=\"22.75,-57 22.75,-92.5\"/>\n<text text-anchor=\"middle\" x=\"64.88\" y=\"-69.7\" font-family=\"Times,serif\" font-size=\"14.00\">data &#45;3.0000</text>\n<polyline fill=\"none\" stroke=\"black\" points=\"107,-57 107,-92.5\"/>\n<text text-anchor=\"middle\" x=\"149.88\" y=\"-69.7\" font-family=\"Times,serif\" font-size=\"14.00\">grad &#45;4.0000</text>\n</g>\n<!-- 4567079360&#45;&gt;4922165136* -->\n<g id=\"edge7\" class=\"edge\">\n<title>4567079360&#45;&gt;4922165136*</title>\n<path fill=\"none\" stroke=\"black\" d=\"M193,-90.91C201.81,-92.42 210.32,-93.88 218.06,-95.2\"/>\n<polygon fill=\"black\" stroke=\"black\" points=\"217.21,-98.61 227.66,-96.85 218.4,-91.71 217.21,-98.61\"/>\n</g>\n<!-- 4922164704 -->\n<g id=\"node10\" class=\"node\">\n<title>4922164704</title>\n<polygon fill=\"none\" stroke=\"black\" points=\"639.75,-0.5 639.75,-36.5 825.75,-36.5 825.75,-0.5 639.75,-0.5\"/>\n<text text-anchor=\"middle\" x=\"650\" y=\"-13.7\" font-family=\"Times,serif\" font-size=\"14.00\">f</text>\n<polyline fill=\"none\" stroke=\"black\" points=\"660.25,-1 660.25,-36.5\"/>\n<text text-anchor=\"middle\" x=\"702.38\" y=\"-13.7\" font-family=\"Times,serif\" font-size=\"14.00\">data &#45;2.0000</text>\n<polyline fill=\"none\" stroke=\"black\" points=\"744.5,-1 744.5,-36.5\"/>\n<text text-anchor=\"middle\" x=\"785.12\" y=\"-13.7\" font-family=\"Times,serif\" font-size=\"14.00\">grad 4.0000</text>\n</g>\n<!-- 4922164704&#45;&gt;4922168064* -->\n<g id=\"edge4\" class=\"edge\">\n<title>4922164704&#45;&gt;4922168064*</title>\n<path fill=\"none\" stroke=\"black\" d=\"M826,-34.6C835.14,-36.19 843.98,-37.73 852,-39.13\"/>\n<polygon fill=\"black\" stroke=\"black\" points=\"851.16,-42.54 861.62,-40.81 852.37,-35.64 851.16,-42.54\"/>\n</g>\n</g>\n</svg>\n",
      "text/plain": [
       "<graphviz.graphs.Digraph at 0x125606f20>"
      ]
     },
     "execution_count": 196,
     "metadata": {},
     "output_type": "execute_result"
    }
   ],
   "execution_count": 196
  },
  {
   "metadata": {},
   "cell_type": "markdown",
   "source": "With all the gradients of our variables calculated, we can simulate the forward pass and see the single-step change of our loss function $L$ (assuming a maximization scenario) and learning rate of 0.001:",
   "id": "575b1683ee389c23"
  },
  {
   "metadata": {
    "ExecuteTime": {
     "end_time": "2025-07-11T15:22:18.969986Z",
     "start_time": "2025-07-11T15:22:18.963941Z"
    }
   },
   "cell_type": "code",
   "source": [
    "def forward_pass(a, b, c, f, lr=0.01):\n",
    "    a.data += lr * a.grad\n",
    "    b.data += lr * b.grad\n",
    "    c.data += lr * c.grad\n",
    "    f.data += lr * f.grad\n",
    "\n",
    "    d = a*b\n",
    "    e = d+c\n",
    "    L = f*e\n",
    "    return L.data\n",
    "\n",
    "\n",
    "print(f'Current L val: {L.data}')\n",
    "print(f'L val after one backprop pass: {forward_pass(a=a, b=b, c=c, f=f)}')\n",
    "\n",
    "\n",
    "\n"
   ],
   "id": "b43c062455a6a91c",
   "outputs": [
    {
     "name": "stdout",
     "output_type": "stream",
     "text": [
      "Current L val: -8.0\n",
      "L val after one backprop pass: -7.286495685577393\n"
     ]
    }
   ],
   "execution_count": 197
  },
  {
   "metadata": {
    "ExecuteTime": {
     "end_time": "2025-07-11T15:22:19.000440Z",
     "start_time": "2025-07-11T15:22:18.994421Z"
    }
   },
   "cell_type": "code",
   "source": [
    "# another (more useful) example\n",
    "\n",
    "#sample inputs x1, x2\n",
    "x1 = Value(2.0, label='x1')\n",
    "x2 = Value(0.0, label='x2')\n",
    "#sample weights w1, w2 (parameter to optimize through backprop)\n",
    "w1 = Value(-3.0, label='w1')\n",
    "w2 = Value(1.0, label='w2')\n",
    "# bias of neuron (parameter to optimze through backprop)\n",
    "b = Value(6.8813735870, label='b')\n",
    "\n",
    "x1w1 = x1*w1; x1w1.label = 'x1*w1'\n",
    "x2w2 = x2*w2; x2w2.label = 'x2*w2'\n",
    "x1w1x2w2 = x1w1 + x2w2; x1w1x2w2.label = 'x1w1 + x2w2'\n",
    "n = x1w1x2w2 + b; n.label = 'n'\n",
    "o = n.tanh(); o.label = 'o'\n",
    "\n"
   ],
   "id": "bc580c2ab5f08ce4",
   "outputs": [],
   "execution_count": 198
  },
  {
   "metadata": {
    "ExecuteTime": {
     "end_time": "2025-07-11T15:22:19.169316Z",
     "start_time": "2025-07-11T15:22:19.016954Z"
    }
   },
   "cell_type": "code",
   "source": [
    "o.backward()\n",
    "draw_dot(o)\n"
   ],
   "id": "3b619526f2a83bca",
   "outputs": [
    {
     "data": {
      "image/svg+xml": "<?xml version=\"1.0\" encoding=\"UTF-8\" standalone=\"no\"?>\n<!DOCTYPE svg PUBLIC \"-//W3C//DTD SVG 1.1//EN\"\n \"http://www.w3.org/Graphics/SVG/1.1/DTD/svg11.dtd\">\n<!-- Generated by graphviz version 12.2.1 (20241206.2353)\n -->\n<!-- Pages: 1 -->\n<svg width=\"1553pt\" height=\"210pt\"\n viewBox=\"0.00 0.00 1553.00 210.00\" xmlns=\"http://www.w3.org/2000/svg\" xmlns:xlink=\"http://www.w3.org/1999/xlink\">\n<g id=\"graph0\" class=\"graph\" transform=\"scale(1 1) rotate(0) translate(4 206)\">\n<polygon fill=\"white\" stroke=\"none\" points=\"-4,4 -4,-206 1549,-206 1549,4 -4,4\"/>\n<!-- 4922044960 -->\n<g id=\"node1\" class=\"node\">\n<title>4922044960</title>\n<polygon fill=\"none\" stroke=\"black\" points=\"3.75,-165.5 3.75,-201.5 194.25,-201.5 194.25,-165.5 3.75,-165.5\"/>\n<text text-anchor=\"middle\" x=\"18.5\" y=\"-178.7\" font-family=\"Times,serif\" font-size=\"14.00\">x2</text>\n<polyline fill=\"none\" stroke=\"black\" points=\"33.25,-166 33.25,-201.5\"/>\n<text text-anchor=\"middle\" x=\"73.12\" y=\"-178.7\" font-family=\"Times,serif\" font-size=\"14.00\">data 0.0000</text>\n<polyline fill=\"none\" stroke=\"black\" points=\"113,-166 113,-201.5\"/>\n<text text-anchor=\"middle\" x=\"153.62\" y=\"-178.7\" font-family=\"Times,serif\" font-size=\"14.00\">grad 0.5000</text>\n</g>\n<!-- 4922175840* -->\n<g id=\"node13\" class=\"node\">\n<title>4922175840*</title>\n<ellipse fill=\"none\" stroke=\"black\" cx=\"261\" cy=\"-128.5\" rx=\"27\" ry=\"18\"/>\n<text text-anchor=\"middle\" x=\"261\" y=\"-123.45\" font-family=\"Times,serif\" font-size=\"14.00\">*</text>\n</g>\n<!-- 4922044960&#45;&gt;4922175840* -->\n<g id=\"edge12\" class=\"edge\">\n<title>4922044960&#45;&gt;4922175840*</title>\n<path fill=\"none\" stroke=\"black\" d=\"M172.12,-165.01C180.9,-162.35 189.7,-159.5 198,-156.5 208.09,-152.86 218.82,-148.27 228.47,-143.88\"/>\n<polygon fill=\"black\" stroke=\"black\" points=\"229.86,-147.09 237.45,-139.69 226.9,-140.75 229.86,-147.09\"/>\n</g>\n<!-- 4922168880 -->\n<g id=\"node2\" class=\"node\">\n<title>4922168880</title>\n<polygon fill=\"none\" stroke=\"black\" points=\"668.25,-82.5 668.25,-118.5 925.5,-118.5 925.5,-82.5 668.25,-82.5\"/>\n<text text-anchor=\"middle\" x=\"714.12\" y=\"-95.7\" font-family=\"Times,serif\" font-size=\"14.00\">x1w1 + x2w2</text>\n<polyline fill=\"none\" stroke=\"black\" points=\"760,-83 760,-118.5\"/>\n<text text-anchor=\"middle\" x=\"802.12\" y=\"-95.7\" font-family=\"Times,serif\" font-size=\"14.00\">data &#45;6.0000</text>\n<polyline fill=\"none\" stroke=\"black\" points=\"844.25,-83 844.25,-118.5\"/>\n<text text-anchor=\"middle\" x=\"884.88\" y=\"-95.7\" font-family=\"Times,serif\" font-size=\"14.00\">grad 0.5000</text>\n</g>\n<!-- 4922164320+ -->\n<g id=\"node7\" class=\"node\">\n<title>4922164320+</title>\n<ellipse fill=\"none\" stroke=\"black\" cx=\"988.5\" cy=\"-72.5\" rx=\"27\" ry=\"18\"/>\n<text text-anchor=\"middle\" x=\"988.5\" y=\"-67.45\" font-family=\"Times,serif\" font-size=\"14.00\">+</text>\n</g>\n<!-- 4922168880&#45;&gt;4922164320+ -->\n<g id=\"edge8\" class=\"edge\">\n<title>4922168880&#45;&gt;4922164320+</title>\n<path fill=\"none\" stroke=\"black\" d=\"M923.04,-82.02C932.9,-80.56 942.28,-79.18 950.67,-77.94\"/>\n<polygon fill=\"black\" stroke=\"black\" points=\"950.94,-81.44 960.33,-76.51 949.92,-74.51 950.94,-81.44\"/>\n</g>\n<!-- 4922168880+ -->\n<g id=\"node3\" class=\"node\">\n<title>4922168880+</title>\n<ellipse fill=\"none\" stroke=\"black\" cx=\"605.25\" cy=\"-100.5\" rx=\"27\" ry=\"18\"/>\n<text text-anchor=\"middle\" x=\"605.25\" y=\"-95.45\" font-family=\"Times,serif\" font-size=\"14.00\">+</text>\n</g>\n<!-- 4922168880+&#45;&gt;4922168880 -->\n<g id=\"edge1\" class=\"edge\">\n<title>4922168880+&#45;&gt;4922168880</title>\n<path fill=\"none\" stroke=\"black\" d=\"M632.62,-100.5C639.63,-100.5 647.71,-100.5 656.45,-100.5\"/>\n<polygon fill=\"black\" stroke=\"black\" points=\"656.32,-104 666.32,-100.5 656.32,-97 656.32,-104\"/>\n</g>\n<!-- 4912199760 -->\n<g id=\"node4\" class=\"node\">\n<title>4912199760</title>\n<polygon fill=\"none\" stroke=\"black\" points=\"1361.25,-54.5 1361.25,-90.5 1545,-90.5 1545,-54.5 1361.25,-54.5\"/>\n<text text-anchor=\"middle\" x=\"1372.62\" y=\"-67.7\" font-family=\"Times,serif\" font-size=\"14.00\">o</text>\n<polyline fill=\"none\" stroke=\"black\" points=\"1384,-55 1384,-90.5\"/>\n<text text-anchor=\"middle\" x=\"1423.88\" y=\"-67.7\" font-family=\"Times,serif\" font-size=\"14.00\">data 0.7071</text>\n<polyline fill=\"none\" stroke=\"black\" points=\"1463.75,-55 1463.75,-90.5\"/>\n<text text-anchor=\"middle\" x=\"1504.38\" y=\"-67.7\" font-family=\"Times,serif\" font-size=\"14.00\">grad 1.0000</text>\n</g>\n<!-- 4912199760tanh -->\n<g id=\"node5\" class=\"node\">\n<title>4912199760tanh</title>\n<ellipse fill=\"none\" stroke=\"black\" cx=\"1298.25\" cy=\"-72.5\" rx=\"27\" ry=\"18\"/>\n<text text-anchor=\"middle\" x=\"1298.25\" y=\"-67.45\" font-family=\"Times,serif\" font-size=\"14.00\">tanh</text>\n</g>\n<!-- 4912199760tanh&#45;&gt;4912199760 -->\n<g id=\"edge2\" class=\"edge\">\n<title>4912199760tanh&#45;&gt;4912199760</title>\n<path fill=\"none\" stroke=\"black\" d=\"M1325.53,-72.5C1332.67,-72.5 1340.86,-72.5 1349.57,-72.5\"/>\n<polygon fill=\"black\" stroke=\"black\" points=\"1349.31,-76 1359.31,-72.5 1349.31,-69 1349.31,-76\"/>\n</g>\n<!-- 4922164320 -->\n<g id=\"node6\" class=\"node\">\n<title>4922164320</title>\n<polygon fill=\"none\" stroke=\"black\" points=\"1051.5,-54.5 1051.5,-90.5 1235.25,-90.5 1235.25,-54.5 1051.5,-54.5\"/>\n<text text-anchor=\"middle\" x=\"1062.88\" y=\"-67.7\" font-family=\"Times,serif\" font-size=\"14.00\">n</text>\n<polyline fill=\"none\" stroke=\"black\" points=\"1074.25,-55 1074.25,-90.5\"/>\n<text text-anchor=\"middle\" x=\"1114.12\" y=\"-67.7\" font-family=\"Times,serif\" font-size=\"14.00\">data 0.8814</text>\n<polyline fill=\"none\" stroke=\"black\" points=\"1154,-55 1154,-90.5\"/>\n<text text-anchor=\"middle\" x=\"1194.62\" y=\"-67.7\" font-family=\"Times,serif\" font-size=\"14.00\">grad 0.5000</text>\n</g>\n<!-- 4922164320&#45;&gt;4912199760tanh -->\n<g id=\"edge9\" class=\"edge\">\n<title>4922164320&#45;&gt;4912199760tanh</title>\n<path fill=\"none\" stroke=\"black\" d=\"M1235.51,-72.5C1243.89,-72.5 1252.02,-72.5 1259.48,-72.5\"/>\n<polygon fill=\"black\" stroke=\"black\" points=\"1259.45,-76 1269.45,-72.5 1259.45,-69 1259.45,-76\"/>\n</g>\n<!-- 4922164320+&#45;&gt;4922164320 -->\n<g id=\"edge3\" class=\"edge\">\n<title>4922164320+&#45;&gt;4922164320</title>\n<path fill=\"none\" stroke=\"black\" d=\"M1015.78,-72.5C1022.92,-72.5 1031.11,-72.5 1039.82,-72.5\"/>\n<polygon fill=\"black\" stroke=\"black\" points=\"1039.56,-76 1049.56,-72.5 1039.56,-69 1039.56,-76\"/>\n</g>\n<!-- 4922048224 -->\n<g id=\"node8\" class=\"node\">\n<title>4922048224</title>\n<polygon fill=\"none\" stroke=\"black\" points=\"0,-55.5 0,-91.5 198,-91.5 198,-55.5 0,-55.5\"/>\n<text text-anchor=\"middle\" x=\"16.25\" y=\"-68.7\" font-family=\"Times,serif\" font-size=\"14.00\">w1</text>\n<polyline fill=\"none\" stroke=\"black\" points=\"32.5,-56 32.5,-91.5\"/>\n<text text-anchor=\"middle\" x=\"74.62\" y=\"-68.7\" font-family=\"Times,serif\" font-size=\"14.00\">data &#45;3.0000</text>\n<polyline fill=\"none\" stroke=\"black\" points=\"116.75,-56 116.75,-91.5\"/>\n<text text-anchor=\"middle\" x=\"157.38\" y=\"-68.7\" font-family=\"Times,serif\" font-size=\"14.00\">grad 1.0000</text>\n</g>\n<!-- 4922173200* -->\n<g id=\"node10\" class=\"node\">\n<title>4922173200*</title>\n<ellipse fill=\"none\" stroke=\"black\" cx=\"261\" cy=\"-73.5\" rx=\"27\" ry=\"18\"/>\n<text text-anchor=\"middle\" x=\"261\" y=\"-68.45\" font-family=\"Times,serif\" font-size=\"14.00\">*</text>\n</g>\n<!-- 4922048224&#45;&gt;4922173200* -->\n<g id=\"edge7\" class=\"edge\">\n<title>4922048224&#45;&gt;4922173200*</title>\n<path fill=\"none\" stroke=\"black\" d=\"M198.14,-73.5C206.61,-73.5 214.8,-73.5 222.29,-73.5\"/>\n<polygon fill=\"black\" stroke=\"black\" points=\"222.29,-77 232.29,-73.5 222.29,-70 222.29,-77\"/>\n</g>\n<!-- 4922173200 -->\n<g id=\"node9\" class=\"node\">\n<title>4922173200</title>\n<polygon fill=\"none\" stroke=\"black\" points=\"324,-55.5 324,-91.5 542.25,-91.5 542.25,-55.5 324,-55.5\"/>\n<text text-anchor=\"middle\" x=\"350.38\" y=\"-68.7\" font-family=\"Times,serif\" font-size=\"14.00\">x1*w1</text>\n<polyline fill=\"none\" stroke=\"black\" points=\"376.75,-56 376.75,-91.5\"/>\n<text text-anchor=\"middle\" x=\"418.88\" y=\"-68.7\" font-family=\"Times,serif\" font-size=\"14.00\">data &#45;6.0000</text>\n<polyline fill=\"none\" stroke=\"black\" points=\"461,-56 461,-91.5\"/>\n<text text-anchor=\"middle\" x=\"501.62\" y=\"-68.7\" font-family=\"Times,serif\" font-size=\"14.00\">grad 0.5000</text>\n</g>\n<!-- 4922173200&#45;&gt;4922168880+ -->\n<g id=\"edge10\" class=\"edge\">\n<title>4922173200&#45;&gt;4922168880+</title>\n<path fill=\"none\" stroke=\"black\" d=\"M542.35,-90.68C551.12,-92.07 559.54,-93.4 567.19,-94.62\"/>\n<polygon fill=\"black\" stroke=\"black\" points=\"566.59,-98.07 577.02,-96.18 567.69,-91.15 566.59,-98.07\"/>\n</g>\n<!-- 4922173200*&#45;&gt;4922173200 -->\n<g id=\"edge4\" class=\"edge\">\n<title>4922173200*&#45;&gt;4922173200</title>\n<path fill=\"none\" stroke=\"black\" d=\"M288.21,-73.5C295.29,-73.5 303.43,-73.5 312.17,-73.5\"/>\n<polygon fill=\"black\" stroke=\"black\" points=\"312.01,-77 322.01,-73.5 312.01,-70 312.01,-77\"/>\n</g>\n<!-- 4922044768 -->\n<g id=\"node11\" class=\"node\">\n<title>4922044768</title>\n<polygon fill=\"none\" stroke=\"black\" points=\"1.5,-0.5 1.5,-36.5 196.5,-36.5 196.5,-0.5 1.5,-0.5\"/>\n<text text-anchor=\"middle\" x=\"16.25\" y=\"-13.7\" font-family=\"Times,serif\" font-size=\"14.00\">x1</text>\n<polyline fill=\"none\" stroke=\"black\" points=\"31,-1 31,-36.5\"/>\n<text text-anchor=\"middle\" x=\"70.88\" y=\"-13.7\" font-family=\"Times,serif\" font-size=\"14.00\">data 2.0000</text>\n<polyline fill=\"none\" stroke=\"black\" points=\"110.75,-1 110.75,-36.5\"/>\n<text text-anchor=\"middle\" x=\"153.62\" y=\"-13.7\" font-family=\"Times,serif\" font-size=\"14.00\">grad &#45;1.5000</text>\n</g>\n<!-- 4922044768&#45;&gt;4922173200* -->\n<g id=\"edge13\" class=\"edge\">\n<title>4922044768&#45;&gt;4922173200*</title>\n<path fill=\"none\" stroke=\"black\" d=\"M172.12,-36.99C180.9,-39.65 189.7,-42.5 198,-45.5 208.09,-49.14 218.82,-53.73 228.47,-58.12\"/>\n<polygon fill=\"black\" stroke=\"black\" points=\"226.9,-61.25 237.45,-62.31 229.86,-54.91 226.9,-61.25\"/>\n</g>\n<!-- 4922175840 -->\n<g id=\"node12\" class=\"node\">\n<title>4922175840</title>\n<polygon fill=\"none\" stroke=\"black\" points=\"326.25,-110.5 326.25,-146.5 540,-146.5 540,-110.5 326.25,-110.5\"/>\n<text text-anchor=\"middle\" x=\"352.62\" y=\"-123.7\" font-family=\"Times,serif\" font-size=\"14.00\">x2*w2</text>\n<polyline fill=\"none\" stroke=\"black\" points=\"379,-111 379,-146.5\"/>\n<text text-anchor=\"middle\" x=\"418.88\" y=\"-123.7\" font-family=\"Times,serif\" font-size=\"14.00\">data 0.0000</text>\n<polyline fill=\"none\" stroke=\"black\" points=\"458.75,-111 458.75,-146.5\"/>\n<text text-anchor=\"middle\" x=\"499.38\" y=\"-123.7\" font-family=\"Times,serif\" font-size=\"14.00\">grad 0.5000</text>\n</g>\n<!-- 4922175840&#45;&gt;4922168880+ -->\n<g id=\"edge14\" class=\"edge\">\n<title>4922175840&#45;&gt;4922168880+</title>\n<path fill=\"none\" stroke=\"black\" d=\"M540.42,-111.01C549.89,-109.45 559,-107.95 567.21,-106.6\"/>\n<polygon fill=\"black\" stroke=\"black\" points=\"567.75,-110.05 577.05,-104.98 566.62,-103.15 567.75,-110.05\"/>\n</g>\n<!-- 4922175840*&#45;&gt;4922175840 -->\n<g id=\"edge5\" class=\"edge\">\n<title>4922175840*&#45;&gt;4922175840</title>\n<path fill=\"none\" stroke=\"black\" d=\"M288.21,-128.5C296,-128.5 305.08,-128.5 314.82,-128.5\"/>\n<polygon fill=\"black\" stroke=\"black\" points=\"314.55,-132 324.55,-128.5 314.55,-125 314.55,-132\"/>\n</g>\n<!-- 4922044336 -->\n<g id=\"node14\" class=\"node\">\n<title>4922044336</title>\n<polygon fill=\"none\" stroke=\"black\" points=\"705,-27.5 705,-63.5 888.75,-63.5 888.75,-27.5 705,-27.5\"/>\n<text text-anchor=\"middle\" x=\"716.38\" y=\"-40.7\" font-family=\"Times,serif\" font-size=\"14.00\">b</text>\n<polyline fill=\"none\" stroke=\"black\" points=\"727.75,-28 727.75,-63.5\"/>\n<text text-anchor=\"middle\" x=\"767.62\" y=\"-40.7\" font-family=\"Times,serif\" font-size=\"14.00\">data 6.8814</text>\n<polyline fill=\"none\" stroke=\"black\" points=\"807.5,-28 807.5,-63.5\"/>\n<text text-anchor=\"middle\" x=\"848.12\" y=\"-40.7\" font-family=\"Times,serif\" font-size=\"14.00\">grad 0.5000</text>\n</g>\n<!-- 4922044336&#45;&gt;4922164320+ -->\n<g id=\"edge11\" class=\"edge\">\n<title>4922044336&#45;&gt;4922164320+</title>\n<path fill=\"none\" stroke=\"black\" d=\"M889.08,-58.49C910.92,-61.6 933.02,-64.74 950.73,-67.26\"/>\n<polygon fill=\"black\" stroke=\"black\" points=\"950.07,-70.71 960.46,-68.65 951.05,-63.78 950.07,-70.71\"/>\n</g>\n<!-- 4922040784 -->\n<g id=\"node15\" class=\"node\">\n<title>4922040784</title>\n<polygon fill=\"none\" stroke=\"black\" points=\"2.25,-110.5 2.25,-146.5 195.75,-146.5 195.75,-110.5 2.25,-110.5\"/>\n<text text-anchor=\"middle\" x=\"18.5\" y=\"-123.7\" font-family=\"Times,serif\" font-size=\"14.00\">w2</text>\n<polyline fill=\"none\" stroke=\"black\" points=\"34.75,-111 34.75,-146.5\"/>\n<text text-anchor=\"middle\" x=\"74.62\" y=\"-123.7\" font-family=\"Times,serif\" font-size=\"14.00\">data 1.0000</text>\n<polyline fill=\"none\" stroke=\"black\" points=\"114.5,-111 114.5,-146.5\"/>\n<text text-anchor=\"middle\" x=\"155.12\" y=\"-123.7\" font-family=\"Times,serif\" font-size=\"14.00\">grad 0.0000</text>\n</g>\n<!-- 4922040784&#45;&gt;4922175840* -->\n<g id=\"edge6\" class=\"edge\">\n<title>4922040784&#45;&gt;4922175840*</title>\n<path fill=\"none\" stroke=\"black\" d=\"M195.84,-128.5C205.14,-128.5 214.15,-128.5 222.32,-128.5\"/>\n<polygon fill=\"black\" stroke=\"black\" points=\"222.13,-132 232.13,-128.5 222.13,-125 222.13,-132\"/>\n</g>\n</g>\n</svg>\n",
      "text/plain": [
       "<graphviz.graphs.Digraph at 0x125604790>"
      ]
     },
     "execution_count": 199,
     "metadata": {},
     "output_type": "execute_result"
    }
   ],
   "execution_count": 199
  },
  {
   "metadata": {
    "ExecuteTime": {
     "end_time": "2025-07-11T15:22:19.213367Z",
     "start_time": "2025-07-11T15:22:19.206919Z"
    }
   },
   "cell_type": "code",
   "source": [
    "# f(x) = exp(x) * sin(x)\n",
    "x = Value(0.5, label='x')\n",
    "f = x.exp() * x.sin(); f.label = 'f'\n",
    "f.backward()\n",
    "print(f\"Analytic grad at x=0.5: {x.grad}\")\n",
    "# numerical gradient\n",
    "h = 1e-6\n",
    "x0 = 0.5\n",
    "num_grad = (math.exp(x0 + h) * math.sin(x0 + h) - math.exp(x0 - h) * math.sin(x0 - h)) / (2*h)\n",
    "print(f\"Numeric grad at x=0.5:  {num_grad}\")"
   ],
   "id": "e722344782cf3a9d",
   "outputs": [
    {
     "name": "stdout",
     "output_type": "stream",
     "text": [
      "Analytic grad at x=0.5: 2.2373280468838743\n",
      "Numeric grad at x=0.5:  2.2373281198251327\n"
     ]
    }
   ],
   "execution_count": 200
  },
  {
   "metadata": {
    "ExecuteTime": {
     "end_time": "2025-07-11T15:22:19.391778Z",
     "start_time": "2025-07-11T15:22:19.239490Z"
    }
   },
   "cell_type": "code",
   "source": "draw_dot(f)",
   "id": "c06c512cbcc48887",
   "outputs": [
    {
     "data": {
      "image/svg+xml": "<?xml version=\"1.0\" encoding=\"UTF-8\" standalone=\"no\"?>\n<!DOCTYPE svg PUBLIC \"-//W3C//DTD SVG 1.1//EN\"\n \"http://www.w3.org/Graphics/SVG/1.1/DTD/svg11.dtd\">\n<!-- Generated by graphviz version 12.2.1 (20241206.2353)\n -->\n<!-- Pages: 1 -->\n<svg width=\"806pt\" height=\"100pt\"\n viewBox=\"0.00 0.00 806.00 100.00\" xmlns=\"http://www.w3.org/2000/svg\" xmlns:xlink=\"http://www.w3.org/1999/xlink\">\n<g id=\"graph0\" class=\"graph\" transform=\"scale(1 1) rotate(0) translate(4 96)\">\n<polygon fill=\"white\" stroke=\"none\" points=\"-4,4 -4,-96 802,-96 802,4 -4,4\"/>\n<!-- 4922173824 -->\n<g id=\"node1\" class=\"node\">\n<title>4922173824</title>\n<polygon fill=\"none\" stroke=\"black\" points=\"616.5,-27.5 616.5,-63.5 798,-63.5 798,-27.5 616.5,-27.5\"/>\n<text text-anchor=\"middle\" x=\"626.75\" y=\"-40.7\" font-family=\"Times,serif\" font-size=\"14.00\">f</text>\n<polyline fill=\"none\" stroke=\"black\" points=\"637,-28 637,-63.5\"/>\n<text text-anchor=\"middle\" x=\"676.88\" y=\"-40.7\" font-family=\"Times,serif\" font-size=\"14.00\">data 0.7904</text>\n<polyline fill=\"none\" stroke=\"black\" points=\"716.75,-28 716.75,-63.5\"/>\n<text text-anchor=\"middle\" x=\"757.38\" y=\"-40.7\" font-family=\"Times,serif\" font-size=\"14.00\">grad 1.0000</text>\n</g>\n<!-- 4922173824* -->\n<g id=\"node2\" class=\"node\">\n<title>4922173824*</title>\n<ellipse fill=\"none\" stroke=\"black\" cx=\"553.5\" cy=\"-45.5\" rx=\"27\" ry=\"18\"/>\n<text text-anchor=\"middle\" x=\"553.5\" y=\"-40.45\" font-family=\"Times,serif\" font-size=\"14.00\">*</text>\n</g>\n<!-- 4922173824*&#45;&gt;4922173824 -->\n<g id=\"edge1\" class=\"edge\">\n<title>4922173824*&#45;&gt;4922173824</title>\n<path fill=\"none\" stroke=\"black\" d=\"M580.93,-45.5C588.1,-45.5 596.3,-45.5 605.01,-45.5\"/>\n<polygon fill=\"black\" stroke=\"black\" points=\"604.76,-49 614.76,-45.5 604.76,-42 604.76,-49\"/>\n</g>\n<!-- 4912196496 -->\n<g id=\"node3\" class=\"node\">\n<title>4912196496</title>\n<polygon fill=\"none\" stroke=\"black\" points=\"309.75,-55.5 309.75,-91.5 490.5,-91.5 490.5,-55.5 309.75,-55.5\"/>\n<text text-anchor=\"middle\" x=\"319.62\" y=\"-68.7\" font-family=\"Times,serif\" font-size=\"14.00\"> </text>\n<polyline fill=\"none\" stroke=\"black\" points=\"329.5,-56 329.5,-91.5\"/>\n<text text-anchor=\"middle\" x=\"369.38\" y=\"-68.7\" font-family=\"Times,serif\" font-size=\"14.00\">data 1.6487</text>\n<polyline fill=\"none\" stroke=\"black\" points=\"409.25,-56 409.25,-91.5\"/>\n<text text-anchor=\"middle\" x=\"449.88\" y=\"-68.7\" font-family=\"Times,serif\" font-size=\"14.00\">grad 0.4794</text>\n</g>\n<!-- 4912196496&#45;&gt;4922173824* -->\n<g id=\"edge7\" class=\"edge\">\n<title>4912196496&#45;&gt;4922173824*</title>\n<path fill=\"none\" stroke=\"black\" d=\"M490.93,-56.89C499.72,-55.26 508.25,-53.68 516.02,-52.25\"/>\n<polygon fill=\"black\" stroke=\"black\" points=\"516.48,-55.72 525.67,-50.46 515.21,-48.84 516.48,-55.72\"/>\n</g>\n<!-- 4912196496exp -->\n<g id=\"node4\" class=\"node\">\n<title>4912196496exp</title>\n<ellipse fill=\"none\" stroke=\"black\" cx=\"246.75\" cy=\"-72.5\" rx=\"27\" ry=\"18\"/>\n<text text-anchor=\"middle\" x=\"246.75\" y=\"-67.45\" font-family=\"Times,serif\" font-size=\"14.00\">exp</text>\n</g>\n<!-- 4912196496exp&#45;&gt;4912196496 -->\n<g id=\"edge2\" class=\"edge\">\n<title>4912196496exp&#45;&gt;4912196496</title>\n<path fill=\"none\" stroke=\"black\" d=\"M274.12,-72.67C281.26,-72.72 289.45,-72.78 298.14,-72.83\"/>\n<polygon fill=\"black\" stroke=\"black\" points=\"297.84,-76.33 307.86,-72.9 297.88,-69.33 297.84,-76.33\"/>\n</g>\n<!-- 4922175552 -->\n<g id=\"node5\" class=\"node\">\n<title>4922175552</title>\n<polygon fill=\"none\" stroke=\"black\" points=\"309.75,-0.5 309.75,-36.5 490.5,-36.5 490.5,-0.5 309.75,-0.5\"/>\n<text text-anchor=\"middle\" x=\"319.62\" y=\"-13.7\" font-family=\"Times,serif\" font-size=\"14.00\"> </text>\n<polyline fill=\"none\" stroke=\"black\" points=\"329.5,-1 329.5,-36.5\"/>\n<text text-anchor=\"middle\" x=\"369.38\" y=\"-13.7\" font-family=\"Times,serif\" font-size=\"14.00\">data 0.4794</text>\n<polyline fill=\"none\" stroke=\"black\" points=\"409.25,-1 409.25,-36.5\"/>\n<text text-anchor=\"middle\" x=\"449.88\" y=\"-13.7\" font-family=\"Times,serif\" font-size=\"14.00\">grad 1.6487</text>\n</g>\n<!-- 4922175552&#45;&gt;4922173824* -->\n<g id=\"edge6\" class=\"edge\">\n<title>4922175552&#45;&gt;4922173824*</title>\n<path fill=\"none\" stroke=\"black\" d=\"M490.93,-34.52C499.64,-36.07 508.09,-37.58 515.8,-38.95\"/>\n<polygon fill=\"black\" stroke=\"black\" points=\"514.91,-42.35 525.37,-40.66 516.14,-35.46 514.91,-42.35\"/>\n</g>\n<!-- 4922175552sin -->\n<g id=\"node6\" class=\"node\">\n<title>4922175552sin</title>\n<ellipse fill=\"none\" stroke=\"black\" cx=\"246.75\" cy=\"-18.5\" rx=\"27\" ry=\"18\"/>\n<text text-anchor=\"middle\" x=\"246.75\" y=\"-13.45\" font-family=\"Times,serif\" font-size=\"14.00\">sin</text>\n</g>\n<!-- 4922175552sin&#45;&gt;4922175552 -->\n<g id=\"edge3\" class=\"edge\">\n<title>4922175552sin&#45;&gt;4922175552</title>\n<path fill=\"none\" stroke=\"black\" d=\"M274.12,-18.5C281.26,-18.5 289.45,-18.5 298.14,-18.5\"/>\n<polygon fill=\"black\" stroke=\"black\" points=\"297.86,-22 307.86,-18.5 297.86,-15 297.86,-22\"/>\n</g>\n<!-- 4912187520 -->\n<g id=\"node7\" class=\"node\">\n<title>4912187520</title>\n<polygon fill=\"none\" stroke=\"black\" points=\"0,-27.5 0,-63.5 183.75,-63.5 183.75,-27.5 0,-27.5\"/>\n<text text-anchor=\"middle\" x=\"11.38\" y=\"-40.7\" font-family=\"Times,serif\" font-size=\"14.00\">x</text>\n<polyline fill=\"none\" stroke=\"black\" points=\"22.75,-28 22.75,-63.5\"/>\n<text text-anchor=\"middle\" x=\"62.62\" y=\"-40.7\" font-family=\"Times,serif\" font-size=\"14.00\">data 0.5000</text>\n<polyline fill=\"none\" stroke=\"black\" points=\"102.5,-28 102.5,-63.5\"/>\n<text text-anchor=\"middle\" x=\"143.12\" y=\"-40.7\" font-family=\"Times,serif\" font-size=\"14.00\">grad 2.2373</text>\n</g>\n<!-- 4912187520&#45;&gt;4912196496exp -->\n<g id=\"edge5\" class=\"edge\">\n<title>4912187520&#45;&gt;4912196496exp</title>\n<path fill=\"none\" stroke=\"black\" d=\"M184.01,-61.6C192.84,-63.16 201.4,-64.67 209.19,-66.04\"/>\n<polygon fill=\"black\" stroke=\"black\" points=\"208.42,-69.46 218.88,-67.75 209.64,-62.57 208.42,-69.46\"/>\n</g>\n<!-- 4912187520&#45;&gt;4922175552sin -->\n<g id=\"edge4\" class=\"edge\">\n<title>4912187520&#45;&gt;4922175552sin</title>\n<path fill=\"none\" stroke=\"black\" d=\"M184.01,-29.4C192.84,-27.84 201.4,-26.33 209.19,-24.96\"/>\n<polygon fill=\"black\" stroke=\"black\" points=\"209.64,-28.43 218.88,-23.25 208.42,-21.54 209.64,-28.43\"/>\n</g>\n</g>\n</svg>\n",
      "text/plain": [
       "<graphviz.graphs.Digraph at 0x1256077f0>"
      ]
     },
     "execution_count": 201,
     "metadata": {},
     "output_type": "execute_result"
    }
   ],
   "execution_count": 201
  },
  {
   "metadata": {
    "ExecuteTime": {
     "end_time": "2025-07-11T15:22:19.433481Z",
     "start_time": "2025-07-11T15:22:19.423639Z"
    }
   },
   "cell_type": "code",
   "source": [
    "class Neuron:\n",
    "    def __init__(self, num):\n",
    "        self.w = [Value(random.uniform(-1, 1)) for _ in range(num)]\n",
    "        self.b = Value(random.uniform(-1, 1))\n",
    "\n",
    "    def __call__(self, x):\n",
    "        act = sum((wi*xi for wi, xi in zip(self.w, x)), self.b)\n",
    "        out = act.tanh()\n",
    "        return out\n",
    "\n",
    "    def parameters(self):\n",
    "        return self.w + [self.b]\n",
    "\n",
    "class Layer:\n",
    "    def __init__(self, num_inputs, num_outputs):\n",
    "        self.neurons = [Neuron(num_inputs) for _ in range(num_outputs)]\n",
    "\n",
    "    def __call__(self, x):\n",
    "        outs = [n(x) for n in self.neurons]\n",
    "        return outs[0] if len(outs) == 1 else outs\n",
    "\n",
    "    def parameters(self):\n",
    "        return [p for neuron in self.neurons for p in neuron.parameters()]\n",
    "\n",
    "class MLP:\n",
    "    def __init__(self, num_inputs, nouts):\n",
    "        sz = [num_inputs] + nouts\n",
    "        self.layers = [Layer(sz[i], sz[i+1]) for i in range(len(nouts))]\n",
    "\n",
    "    def __call__(self, x):\n",
    "        for layer in self.layers:\n",
    "            x = layer(x)\n",
    "        return x\n",
    "\n",
    "    def parameters(self):\n",
    "        return [p for layer in self.layers for p in layer.parameters()]"
   ],
   "id": "833fb57aa2b986f1",
   "outputs": [],
   "execution_count": 202
  },
  {
   "metadata": {
    "ExecuteTime": {
     "end_time": "2025-07-11T15:29:16.767243Z",
     "start_time": "2025-07-11T15:29:16.752110Z"
    }
   },
   "cell_type": "code",
   "source": [
    "n = MLP(3, [4, 4, 1])\n",
    "print(f'Network parameters:\\n{n.parameters()}')\n",
    "print(f'Number of parameters in network: {len(n.parameters())}')\n",
    "\n",
    "xs = [\n",
    "    [2.0, 3.0, -1.0],\n",
    "    [3.0, -1.0, 0.5],\n",
    "    [0.5, 1.0, 1.0],\n",
    "    [1.0, 1.0,-1.0],\n",
    "]\n",
    "\n",
    "ys = [1.0, -1.0, -1.0, 1.0]\n",
    "\n",
    "# iteration 0\n",
    "ypred = [n(x) for x in xs]\n",
    "\n",
    "print(f'Network predictions:\\n{ypred}')\n",
    "\n",
    "loss = sum((yout - ygt)**2 for ygt, yout in zip(ys, ypred))\n",
    "print(f'Network loss:\\n{loss}')\n",
    "\n",
    "loss.backward()\n",
    "print(n.layers[0].neurons[0].w[0].grad)\n"
   ],
   "id": "5c6a7b6c9a891279",
   "outputs": [
    {
     "name": "stdout",
     "output_type": "stream",
     "text": [
      "Network parameters:\n",
      "[Value(data=-0.4299287497997284), Value(data=-0.29806622862815857), Value(data=0.8486983776092529), Value(data=0.9813217520713806), Value(data=-0.45337727665901184), Value(data=0.3784353733062744), Value(data=0.27319273352622986), Value(data=0.2184947431087494), Value(data=-0.8286389708518982), Value(data=0.46187159419059753), Value(data=-0.7357093095779419), Value(data=-0.6925277709960938), Value(data=0.6516778469085693), Value(data=-0.9321684837341309), Value(data=-0.2769823372364044), Value(data=0.33107659220695496), Value(data=-0.16652189195156097), Value(data=0.27712762355804443), Value(data=-0.6038559079170227), Value(data=-0.8200612664222717), Value(data=-0.07226970046758652), Value(data=0.25190043449401855), Value(data=-0.8464739322662354), Value(data=0.25342094898223877), Value(data=0.3963984251022339), Value(data=-0.1727404147386551), Value(data=-0.8263814449310303), Value(data=-0.2367643564939499), Value(data=-0.6228280663490295), Value(data=-0.5206155776977539), Value(data=-0.5145441889762878), Value(data=-0.15757304430007935), Value(data=0.8754565715789795), Value(data=-0.4145974814891815), Value(data=0.4392561912536621), Value(data=-0.7121173739433289), Value(data=-0.8872373104095459), Value(data=0.7763105034828186), Value(data=-0.14603914320468903), Value(data=-0.5503962635993958), Value(data=-0.6970599889755249)]\n",
      "Number of parameters in network: 41\n",
      "Network predictions:\n",
      "[Value(data=-0.9277245402336121), Value(data=0.6035082936286926), Value(data=-0.9327529072761536), Value(data=-0.45476365089416504)]\n",
      "Network loss:\n",
      "Value(data=8.408220291137695)\n",
      "0.9507326854602774\n"
     ]
    }
   ],
   "execution_count": 209
  },
  {
   "metadata": {},
   "cell_type": "code",
   "source": "draw_dot(loss)",
   "id": "2b4d81a1b374427b",
   "outputs": [],
   "execution_count": null
  },
  {
   "metadata": {
    "ExecuteTime": {
     "end_time": "2025-07-11T15:30:05.308045Z",
     "start_time": "2025-07-11T15:30:05.293658Z"
    }
   },
   "cell_type": "code",
   "source": [
    "for p in n.parameters():\n",
    "    p.data -= 0.01*p.grad\n",
    "\n",
    "loss.backward()\n",
    "\n",
    "# after one forward and backprop pass\n",
    "ypred = [n(x) for x in xs]\n",
    "\n",
    "print(f'Network predictions:\\n{ypred}')\n",
    "\n",
    "loss = sum((yout - ygt)**2 for ygt, yout in zip(ys, ypred))\n",
    "print(f'Network loss:\\n{loss}')\n",
    "\n"
   ],
   "id": "845c3d7eadba4d97",
   "outputs": [
    {
     "name": "stdout",
     "output_type": "stream",
     "text": [
      "Network predictions:\n",
      "[Value(data=-0.8360514044761658), Value(data=0.5742587447166443), Value(data=-0.9230533838272095), Value(data=-0.13971053063869476)]\n",
      "Network loss:\n",
      "Value(data=7.154236793518066)\n"
     ]
    }
   ],
   "execution_count": 210
  },
  {
   "metadata": {
    "ExecuteTime": {
     "end_time": "2025-07-11T15:30:23.400755Z",
     "start_time": "2025-07-11T15:30:23.387561Z"
    }
   },
   "cell_type": "code",
   "source": [
    "for p in n.parameters():\n",
    "    p.data -= 0.01 * p.grad\n",
    "\n",
    "loss.backward()\n",
    "# after 2nd backprop and forward pass\n",
    "ypred = [n(x) for x in xs]\n",
    "\n",
    "print(f'Network predictions:\\n{ypred}')\n",
    "\n",
    "loss = sum((yout - ygt)**2 for ygt, yout in zip(ys, ypred))\n",
    "print(f'Network loss:\\n{loss}')"
   ],
   "id": "dbd4bc18da9861ae",
   "outputs": [
    {
     "name": "stdout",
     "output_type": "stream",
     "text": [
      "Network predictions:\n",
      "[Value(data=-0.6174027323722839), Value(data=0.5454301238059998), Value(data=-0.9119763970375061), Value(data=0.15626022219657898)]\n",
      "Network loss:\n",
      "Value(data=5.723991394042969)\n"
     ]
    }
   ],
   "execution_count": 211
  },
  {
   "metadata": {
    "ExecuteTime": {
     "end_time": "2025-07-11T15:32:39.660722Z",
     "start_time": "2025-07-11T15:32:39.656985Z"
    }
   },
   "cell_type": "code",
   "source": [
    "for p in n.parameters():\n",
    "    p.data -= 0.01 * p.grad"
   ],
   "id": "9d09fd36e48ee566",
   "outputs": [],
   "execution_count": 252
  },
  {
   "metadata": {
    "ExecuteTime": {
     "end_time": "2025-07-11T15:32:38.261771Z",
     "start_time": "2025-07-11T15:32:38.252734Z"
    }
   },
   "cell_type": "code",
   "source": "loss.backward()",
   "id": "8e5706b4b8c33eb2",
   "outputs": [
    {
     "data": {
      "text/plain": [
       "array(1.)"
      ]
     },
     "execution_count": 251,
     "metadata": {},
     "output_type": "execute_result"
    }
   ],
   "execution_count": 251
  },
  {
   "metadata": {
    "ExecuteTime": {
     "end_time": "2025-07-11T15:32:41.403391Z",
     "start_time": "2025-07-11T15:32:41.395383Z"
    }
   },
   "cell_type": "code",
   "source": [
    "# and so on until we have a satisfactory model\n",
    "ypred = [n(x) for x in xs]\n",
    "\n",
    "print(f'Network predictions:\\n{ypred}')\n",
    "\n",
    "loss = sum((yout - ygt)**2 for ygt, yout in zip(ys, ypred))\n",
    "print(f'Network loss:\\n{loss}')"
   ],
   "id": "ad079b9941d3a11f",
   "outputs": [
    {
     "name": "stdout",
     "output_type": "stream",
     "text": [
      "Network predictions:\n",
      "[Value(data=0.8032376170158386), Value(data=-0.7690767645835876), Value(data=-0.940826416015625), Value(data=0.7091238498687744)]\n",
      "Network loss:\n",
      "Value(data=0.18015143275260925)\n"
     ]
    }
   ],
   "execution_count": 253
  }
 ],
 "metadata": {
  "kernelspec": {
   "display_name": "Python 3",
   "language": "python",
   "name": "python3"
  },
  "language_info": {
   "codemirror_mode": {
    "name": "ipython",
    "version": 2
   },
   "file_extension": ".py",
   "mimetype": "text/x-python",
   "name": "python",
   "nbconvert_exporter": "python",
   "pygments_lexer": "ipython2",
   "version": "2.7.6"
  }
 },
 "nbformat": 4,
 "nbformat_minor": 5
}
